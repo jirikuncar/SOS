{
 "cells": [
  {
   "cell_type": "markdown",
   "metadata": {},
   "source": [
    "# Tutorials"
   ]
  },
  {
   "cell_type": "markdown",
   "metadata": {},
   "source": [
    "[Quick Start Guide](doc/tutorials/Quick_Start_Guide.html)<br>\n",
    "    Brief introduction to the SoS format and basic usages\n",
    "    \n",
    "[Using SoS interactively](doc/tutorials/Using_SoS_Interactively.html)\n",
    "\n",
    "* [Using SoS with Jupyter notebook](doc/documentation/SoS_Kernel.html)<br>\n",
    "    for interactive data analysis in a notebook interface\n",
    "* [Using Spyder as SoS IDE](doc/tutorials/Using_SoS_with_Spyder.html)<br>\n",
    "    for data analysis and workflow development with an IDE\n",
    "* [Using Spyder with iPython](doc/tutorials/Using_SoS_with_IPython.html)<br>\n",
    "    for experienced iPyhton user\n",
    "* [using SoS with VIM](doc/tutorials/Using_SoS_with_VIM.html)<br>\n",
    "    for hard-core vim user\n",
    "\n",
    "[Running SoS workflows](doc/tutorials/Execution_of_Workflow.html)<br>\n",
    "   make effective use of SoS in batch mode\n",
    "\n",
    "[Generating Reports](doc/tutorials/Generating_Reports.html)<br>\n",
    "   Generate reports using [pandoc](http://pandoc.org/) or [Rmarkdown](http://rmarkdown.rstudio.com/)\n",
    "\n",
    "[Project Management](doc/tutorials/Project_Management.html)<br>\n",
    "   manage files and archive projects."
   ]
  },
  {
   "cell_type": "markdown",
   "metadata": {},
   "source": [
    "# Documentation\n",
    "\n",
    "[SoS Syntax](doc/documentation/SoS_Syntax.html)<br>\n",
    "   an overview of the SoS syntax and key components of SoS scripts\n",
    "    \n",
    "* [String Interpolation](doc/documentation/String_Interpolation.html)<br>\n",
    "    compose scripts in other languages using SoS variables\n",
    "    \n",
    "[Defining workflows](doc/documentation/Workflow_Specification.html)<br>\n",
    "  define one or more workflows in a SoS script\n",
    "  \n",
    "* [Understanding Targets](Understanding_Targets.html)<br>\n",
    "  beyond file targets\n",
    "* [SoS Actions](SoS_Actions.html)<br>\n",
    "  how to use and define SoS actions\n",
    "* [Steps of workflow](doc/documentation/SoS_Step.html)<br>\n",
    "  step input, depends, output, and process\n",
    "* [Makefile-style workflows](doc/documentation/Auxiliary_Steps.html)<br>\n",
    "  steps that are executed only when needed\n",
    " \n",
    "[User Interface](doc/documentation/User_Interface.html)<br>\n",
    "\n",
    "* [Command line options](doc/documentation/Command_Line_Options.html)\n",
    "* [Configuration files](doc/documentation/Configuration_Files.html)\n",
    "    \n",
    "[Function Reference](doc/documentation/Function_Reference.html)<br>\n",
    "   references to all SoS functions, actions, and objects.\n",
    "   \n",
    "[Extending SoS](doc/documentation/Extending_SoS.html)<br>\n",
    "  define your own target, language, converter."
   ]
  },
  {
   "cell_type": "markdown",
   "metadata": {},
   "source": [
    "# Examples\n",
    "\n",
    "* [update_toc.sos](doc/examples/update_toc.html)<br>\n",
    "   A sos script that was used by SoS to update TOC of the wiki pages."
   ]
  }
 ],
 "metadata": {
  "anaconda-cloud": {},
  "kernelspec": {
   "display_name": "SoS",
   "language": "sos",
   "name": "sos"
  },
  "language_info": {
   "codemirror_mode": "sos",
   "file_extension": ".sos",
   "mimetype": "text/x-sos",
   "name": "sos",
   "nbconvert_exporter": "sos.jupyter.converter.SoS_Exporter",
   "pygments_lexer": "sos"
  },
  "toc": {
   "colors": {
    "hover_highlight": "#DAA520",
    "running_highlight": "#FF0000",
    "selected_highlight": "#FFD700"
   },
   "moveMenuLeft": true,
   "nav_menu": {
    "height": "45px",
    "width": "254px"
   },
   "navigate_menu": true,
   "number_sections": true,
   "sideBar": true,
   "threshold": 4,
   "toc_cell": false,
   "toc_section_display": "block",
   "toc_window_display": false
  }
 },
 "nbformat": 4,
 "nbformat_minor": 2
}
