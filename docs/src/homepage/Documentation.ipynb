{
 "cells": [
  {
   "cell_type": "markdown",
   "metadata": {},
   "source": [
    "# Tutorials"
   ]
  },
  {
   "cell_type": "markdown",
   "metadata": {},
   "source": [
    "[Quick Start Guide](SOS/doc/tutorials/Quick_Start_Guide.html)<br>\n",
    "    Brief introduction to the SoS format and basic usages\n",
    "    \n",
    "[Using SoS interactively](SOS/doc/tutorials/Using_SoS_Interactively.html)\n",
    "\n",
    "* [Using SoS with Jupyter notebook](SOS/doc/tutorials/SoS_Kernel.html)<br>\n",
    "    for interactive data analysis in a notebook interface\n",
    "* [Using Spyder as SoS IDE](SOS/doc/tutorials/Using_SoS_with_Spyder.html)<br>\n",
    "    for data analysis and workflow development with an IDE\n",
    "* [Using Spyder with iPython](SOS/doc/tutorials/Using_SoS_with_IPython.html)<br>\n",
    "    for experienced iPyhton user\n",
    "* [using SoS with VIM](SOS/doc/tutorials/Using_SoS_with_VIM.html)<br>\n",
    "    for hard-core vim user\n",
    "\n",
    "[Running SoS workflows](SOS/doc/tutorials/Execution_of_workflow.html)<br>\n",
    "   make effective use of SoS in batch mode\n",
    "   \n",
    "[Project Management](SOS/doc/tutrials/Project_Management.html)<br>\n",
    "   manage files and archive projects."
   ]
  },
  {
   "cell_type": "markdown",
   "metadata": {},
   "source": [
    "# Documentation\n",
    "\n",
    "[SoS Syntax](SOS/doc/documentation/SoS_Syntax.html)<br>\n",
    "   an overview of the SoS syntax and key components of SoS scripts\n",
    "    \n",
    "* [String Interpolation](SOS/doc/documentation/String_Interpolation.html)<br>\n",
    "    compose scripts in other languages using SoS variables\n",
    "    \n",
    "[Defining workflows](SOS/doc/documentation/Workflow_Speciication.html)<br>\n",
    "  define one or more workflows in a SoS script\n",
    "  \n",
    "* [Steps of workflow](SOS/doc/documentation/SoS_Step.html)\n",
    "* [Makefile-style workflows](SOS/doc/documentation/Auxiliary_Steps.html)\n",
    " \n",
    "[User Interface](SOS/doc/documentation/User_Interface.html)<br>\n",
    "\n",
    "* [Command line options](SOS/doc/documentation/Command_line_options.html)\n",
    "* [Configuration files](SOS/doc/documentation/Coniguration_file.html)\n",
    "    \n",
    "[Function Reference](SOS/doc/documentation/SoS_Functions.html)<br>\n",
    "   references to all SoS functions, actions, and objects.\n",
    "   \n",
    "[Extending SoS](SOS/doc/documentation/Extending_SoS.html)<br>\n",
    "  define your own target, language, converter."
   ]
  }
 ],
 "metadata": {
  "anaconda-cloud": {},
  "kernelspec": {
   "display_name": "SoS",
   "language": "sos",
   "name": "sos"
  },
  "language_info": {
   "codemirror_mode": "sos",
   "file_extension": ".sos",
   "mimetype": "text/x-sos",
   "name": "sos",
   "nbconvert_exporter": "sos.jupyter.converter.SoS_Exporter",
   "pygments_lexer": "sos"
  },
  "toc": {
   "colors": {
    "hover_highlight": "#DAA520",
    "running_highlight": "#FF0000",
    "selected_highlight": "#FFD700"
   },
   "moveMenuLeft": true,
   "nav_menu": {
    "height": "45px",
    "width": "254px"
   },
   "navigate_menu": true,
   "number_sections": true,
   "sideBar": true,
   "threshold": 4,
   "toc_cell": false,
   "toc_section_display": "block",
   "toc_window_display": false
  }
 },
 "nbformat": 4,
 "nbformat_minor": 2
}
