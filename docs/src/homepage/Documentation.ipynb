{
 "cells": [
  {
   "cell_type": "markdown",
   "metadata": {},
   "source": [
    "# Get started"
   ]
  },
  {
   "cell_type": "markdown",
   "metadata": {},
   "source": [
    "## Tutorials"
   ]
  },
  {
   "cell_type": "markdown",
   "metadata": {},
   "source": [
    "* [Quick Start Guide](../tutorials/Quick_Start_Guide.html)\n",
    "    The best way to get started is to have a look at our quick start guide which introduces the SoS format and many of the SoS features. \n",
    "* [Using SoS with Jupyter notebook](../documentation/SoS_Kernel.html)\n",
    "    Here you will learn everything about how to write notebooks with multiple languages\n",
    "* [Using Spyder as SoS IDE](../tutorials/Using_SoS_with_Spyder.html)\n",
    "    If you are developing a SoS workflow or prefer an IDE to a notebook, you can edit and execute SoS scripts in Spyder.\n",
    "* [Using Spyder with iPython](../tutorials/Using_SoS_with_IPython.html)\n",
    "    If you have got used to IPython or a qtconsole, this tutorial shows you how to work with IPython.\n",
    "* [using SoS with VIM](../tutorials/Using_SoS_with_VIM.html)\n",
    "    If you are a hard-core vim user and can only edit scripts in VIM, SoS is very vim friendly!\n",
    "* [Running SoS workflows](../tutorials/Execution_of_workflow.html)\n",
    "    If you are using SoS to develop and execute workflows, here is how SoS helps you.\n",
    "* [Project Management](../tutrials/Project_Management.html)\n",
    "    Wondering how to management all your output and intermediate files generated from your workflows? Check out the sos project management tools."
   ]
  },
  {
   "cell_type": "markdown",
   "metadata": {},
   "source": [
    "## Documentation\n",
    "SoS has a rich set of features that help you define and execute SoS workflows interactively and in batch mode.\n",
    "* [SoS Syntax](../documentation/SoS_Syntax.html)\n",
    "   This document gives you an overview of the SoS language and how to write a SoS script.\n",
    "* [String Interpolation](../documentation/String_Interpolation.html)\n",
    "   SoS uses string interpolation to compose scripts in other languages, here is the glory details of how it shold be used.\n",
    "* [Defining workflows](../documentation/Workflow_Speciication.html)\n",
    "   How to define one or more workflows in a SoS script, and how to execute them.\n",
    "* [Steps of workflow](../documentation/SoS_Step.html)\n",
    "   A step can be as easy as a function call, but please explore what you can do with a SoS step here.\n",
    "* [Makefile-style workflows](../documentation/Auxiliary_Steps.html)\n",
    "  A unique feature of SoS is that it allows for both forward- and makefile-style workflows. This documentation shows you how to define a workflow using auxiliary steps.\n",
    "* [Command line options](../documentation/Command_line_options.html)\n",
    "   How to define and pass command line options to SoS... it is easy but there are advanced features for power users.\n",
    "* [Configuration files](../documentation/Coniguration_file.html)\n",
    "   How to use global and local coniguration files for your SoS script.\n",
    "* [User Interface](../documentation/User_Interface.html)\n",
    "   You can get all the information from command line, but an online version helps.\n",
    "* [Function Reference](../documentation/SoS_Functions.html)\n",
    "   References to all SoS functions, actions, and objects.\n",
    "* [Extending SoS](../documentation/Extending_SoS.html)\n",
    "  Everything you need to know on how to define your own target, language, converter."
   ]
  }
 ],
 "metadata": {
  "anaconda-cloud": {},
  "kernelspec": {
   "display_name": "SoS",
   "language": "sos",
   "name": "sos"
  },
  "language_info": {
   "codemirror_mode": "sos",
   "file_extension": ".sos",
   "mimetype": "text/x-sos",
   "name": "sos",
   "nbconvert_exporter": "sos.jupyter.converter.SoS_Exporter",
   "pygments_lexer": "sos"
  },
  "toc": {
   "colors": {
    "hover_highlight": "#DAA520",
    "running_highlight": "#FF0000",
    "selected_highlight": "#FFD700"
   },
   "moveMenuLeft": true,
   "nav_menu": {
    "height": "45px",
    "width": "254px"
   },
   "navigate_menu": true,
   "number_sections": true,
   "sideBar": true,
   "threshold": 4,
   "toc_cell": false,
   "toc_section_display": "block",
   "toc_window_display": false
  }
 },
 "nbformat": 4,
 "nbformat_minor": 2
}
