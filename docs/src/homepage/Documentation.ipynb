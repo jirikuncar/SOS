{
 "cells": [
  {
   "cell_type": "markdown",
   "metadata": {},
   "source": [
    "# Tutorials"
   ]
  },
  {
   "cell_type": "markdown",
   "metadata": {},
   "source": [
    "[Quick Start Guide](doc/tutorials/Quick_Start_Guide.html)<br>\n",
    "    Brief introduction to the SoS format and basic usages\n",
    "    \n",
    "[Using SoS interactively](doc/tutorials/Using_SoS_Interactively.html)\n",
    "\n",
    "* [Using SoS with Jupyter notebook](doc/tutorials/SoS_Kernel.html)<br>\n",
    "    for interactive data analysis in a notebook interface\n",
    "* [Using Spyder as SoS IDE](doc/tutorials/Using_SoS_with_Spyder.html)<br>\n",
    "    for data analysis and workflow development with an IDE\n",
    "* [Using Spyder with iPython](doc/tutorials/Using_SoS_with_IPython.html)<br>\n",
    "    for experienced iPyhton user\n",
    "* [using SoS with VIM](doc/tutorials/Using_SoS_with_VIM.html)<br>\n",
    "    for hard-core vim user\n",
    "\n",
    "[Running SoS workflows](doc/tutorials/Execution_of_workflow.html)<br>\n",
    "   make effective use of SoS in batch mode\n",
    "   \n",
    "[Project Management](doc/tutrials/Project_Management.html)<br>\n",
    "   manage files and archive projects."
   ]
  },
  {
   "cell_type": "markdown",
   "metadata": {},
   "source": [
    "# Documentation\n",
    "\n",
    "[SoS Syntax](doc/documentation/SoS_Syntax.html)<br>\n",
    "   an overview of the SoS syntax and key components of SoS scripts\n",
    "    \n",
    "* [String Interpolation](doc/documentation/String_Interpolation.html)<br>\n",
    "    compose scripts in other languages using SoS variables\n",
    "    \n",
    "[Defining workflows](doc/documentation/Workflow_Speciication.html)<br>\n",
    "  define one or more workflows in a SoS script\n",
    "  \n",
    "* [Steps of workflow](doc/documentation/SoS_Step.html)\n",
    "* [Makefile-style workflows](doc/documentation/Auxiliary_Steps.html)\n",
    " \n",
    "[User Interface](doc/documentation/User_Interface.html)<br>\n",
    "\n",
    "* [Command line options](doc/documentation/Command_line_options.html)\n",
    "* [Configuration files](doc/documentation/Coniguration_file.html)\n",
    "    \n",
    "[Function Reference](doc/documentation/SoS_Functions.html)<br>\n",
    "   references to all SoS functions, actions, and objects.\n",
    "   \n",
    "[Extending SoS](doc/documentation/Extending_SoS.html)<br>\n",
    "  define your own target, language, converter."
   ]
  }
 ],
 "metadata": {
  "anaconda-cloud": {},
  "kernelspec": {
   "display_name": "SoS",
   "language": "sos",
   "name": "sos"
  },
  "language_info": {
   "codemirror_mode": "sos",
   "file_extension": ".sos",
   "mimetype": "text/x-sos",
   "name": "sos",
   "nbconvert_exporter": "sos.jupyter.converter.SoS_Exporter",
   "pygments_lexer": "sos"
  },
  "toc": {
   "colors": {
    "hover_highlight": "#DAA520",
    "running_highlight": "#FF0000",
    "selected_highlight": "#FFD700"
   },
   "moveMenuLeft": true,
   "nav_menu": {
    "height": "45px",
    "width": "254px"
   },
   "navigate_menu": true,
   "number_sections": true,
   "sideBar": true,
   "threshold": 4,
   "toc_cell": false,
   "toc_section_display": "block",
   "toc_window_display": false
  }
 },
 "nbformat": 4,
 "nbformat_minor": 2
}
