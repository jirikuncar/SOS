{
 "cells": [
  {
   "cell_type": "markdown",
   "metadata": {},
   "source": [
    "# One Tool Many Uses (Faces?)\n",
    "\n",
    "**Script of Scripts (SoS)** is a **file format** for the inclusion of\n",
    "scripts in multiple languages into a single executable script, an\n",
    "**interactive environment** and **notebook tool** for working with different scripts, and\n",
    "a **workflow engine** for the execution of workflows consisting with scripts\n",
    "in different languages. It is designed for data scienticists and bioinformatics who routinely work with scripts in different languages such as R, Python, Perl, and bash.\n",
    "\n",
    "# A file format with an IDE\n",
    "\n",
    "SoS helps you record all your analysis into a single script with minimal effort, It allows you to include scripts in different languages literally into a `.sos` files, and execute them as a single workflow. Additional SoS statements could be used to pass command line arguments to the script, customize scripts with variables, and add execution logics. A Spyder IDE can be used to edit SoS files in an integrated environment with result preview and variable explorer.\n",
    "\n",
    "the following should be a picture similar to \n",
    "![picture](http://beakernotebook.com/img/notebook@2x.png)\n",
    "\n",
    "| shell script | R script | A SoS script\n",
    "|------|------| -----|\n",
    "| tophat2 -p8 -G | library('DESeq2') | [step_1 (crunch data) |\n",
    "| something else | DESeqDataset(se)  | run:   |\n",
    "|                | read.csv..        |     tophat2 -p8 -G |\n",
    "|                |                   | [step_2 (statistical analysis)] |\n",
    "|                |                   | R: |\n",
    "|                |                   | library('DESeq2') |\n",
    "|                |                   | DESeqDataset(se) |\n"
   ]
  },
  {
   "cell_type": "markdown",
   "metadata": {
    "collapsed": true
   },
   "source": [
    "## One Notebook with Multiple Languages"
   ]
  },
  {
   "cell_type": "markdown",
   "metadata": {},
   "source": [
    "As an **interactive environment** and **notebook tool** that promotes [literate\n",
    "programming](https://en.wikipedia.org/wiki/Literate_programming), SoS\n",
    "allows you to perform and record your analysis in different languages in a\n",
    "single [Jupyter notebook](http://jupyter.org/), with seamless integration\n",
    "of multiple Jupyter kernels (e.g. python, and\n",
    "[R](https://github.com/IRkernel/IRkernel)). You can check out \n",
    "example notebooks and create new ones from [our public Jupyter\n",
    "server](http://ec2-34-192-184-206.compute-1.amazonaws.com:8000/).\n",
    "\n",
    "A picture with Jupyter notetook, with a classical code of\n",
    "\n",
    "%with R -i n -o \n",
    "dosometing else"
   ]
  },
  {
   "cell_type": "markdown",
   "metadata": {},
   "source": [
    "## A Readable Workflow System in both Forward and Makefile Style\n",
    "\n",
    "As a **workflow engine**, SoS helps you oraganize your commands and scripts in different languages into readable workflows that can be easily understood and modified by others. The workflows can be specified in both forward (step by step), makefile (dependency rules) and even a mixture of both styles. Beacuse of a great emphasis on readability, SoS is an easy-to-use alternative to specialized workflow systems such as [CWL](http://www.commonwl.org/) which makes it an ideal tool for the creation and maintainance of workflows that need to be frequently updated and shared with others.\n",
    "\n",
    "A picture of DAG moving from full to target...\n",
    "\n"
   ]
  },
  {
   "cell_type": "markdown",
   "metadata": {},
   "source": [
    "## One Environment for both Interactive Analysis and Batch Processing\n",
    "\n",
    "SoS provides an interactive environment for interactive data analysis. With just a few additional steps, your script can be transformed to a workflow that deals with different input files and different processing logics, and can be run in batch mode locally or on a cluster system.\n",
    "\n",
    "Some picture"
   ]
  },
  {
   "cell_type": "markdown",
   "metadata": {},
   "source": [
    "## Open Framework to Support Your Language of Interest\n",
    "\n",
    "SoS is open source and provides [an API](Extending_SoS.html] to work with aribitrary languages. Its data-exchange model allows the exachange of arbitrary data types between languages with results in native data types. If your favoriate language is not yet support and you are familiar with Python, feel free to add it to SoS. "
   ]
  }
 ],
 "metadata": {
  "anaconda-cloud": {},
  "kernelspec": {
   "display_name": "SoS",
   "language": "sos",
   "name": "sos"
  },
  "language_info": {
   "codemirror_mode": "sos",
   "file_extension": ".sos",
   "mimetype": "text/x-sos",
   "name": "sos",
   "nbconvert_exporter": "sos.jupyter.converter.SoS_Exporter",
   "pygments_lexer": "sos"
  },
  "toc": {
   "colors": {
    "hover_highlight": "#DAA520",
    "running_highlight": "#FF0000",
    "selected_highlight": "#FFD700"
   },
   "moveMenuLeft": true,
   "nav_menu": {
    "height": "45px",
    "width": "254px"
   },
   "navigate_menu": true,
   "number_sections": true,
   "sideBar": true,
   "threshold": 4,
   "toc_cell": false,
   "toc_section_display": "block",
   "toc_window_display": false
  }
 },
 "nbformat": 4,
 "nbformat_minor": 2
}
