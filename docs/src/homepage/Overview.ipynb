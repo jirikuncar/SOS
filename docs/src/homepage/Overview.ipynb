{
 "cells": [
  {
   "cell_type": "markdown",
   "metadata": {},
   "source": [
    "# One Tool Many Faces\n",
    "\n",
    "**Script of Scripts (SoS)** is a **file format** for the inclusion of\n",
    "scripts in multiple languages into a single executable script, an\n",
    "**interactive environment** and **notebook tool** for working with different scripts, and\n",
    "a **workflow engine** for the execution of workflows consisting with scripts\n",
    "in different languages. It is designed for data scienticists and bioinformatics who routinely work with scripts in different languages such as R, Python, Perl, and bash.\n",
    "\n",
    "# A file format with an IDE\n",
    "\n",
    "SoS helps you record all your analysis into a single script with minimal effort, It allows you to include scripts in different languages literally into a `.sos` files, and execute them as a single workflow. Additional SoS statements could be used to pass command line arguments to the script, customize scripts with variables, and add execution logics. A Spyder IDE can be used to edit SoS files in an integrated environment with result preview and variable explorer.\n",
    "\n",
    "![sos_as_fileformat.png](../media/sos_as_fileformat.png)\n",
    "\n"
   ]
  },
  {
   "cell_type": "markdown",
   "metadata": {
    "collapsed": true
   },
   "source": [
    "# One Notebook with Multiple Languages"
   ]
  },
  {
   "cell_type": "markdown",
   "metadata": {},
   "source": [
    "As an **interactive environment** and **notebook tool** that promotes [literate programming](https://en.wikipedia.org/wiki/Literate_programming), SoS\n",
    "allows you to perform and record your analysis in different languages in a single [Jupyter notebook](http://jupyter.org/), with seamless integration\n",
    "of multiple Jupyter kernels (e.g. python, and [R](https://github.com/IRkernel/IRkernel)).\n",
    "\n",
    "![sos_as_environment.png](../media/sos_as_environment.png)"
   ]
  },
  {
   "cell_type": "markdown",
   "metadata": {},
   "source": [
    "# Forward and Makefile Style Workflows\n",
    "\n",
    "As a **workflow engine**, SoS helps you oraganize your commands and scripts in different languages into readable workflows that can be easily understood and modified by others. The workflows can be specified in both forward (step by step), makefile (dependency rules) and even a mixture of both styles. Beacuse of a great emphasis on readability, SoS is an easy-to-use alternative to specialized workflow systems such as [CWL](http://www.commonwl.org/) which makes it an ideal tool for the creation and maintainance of workflows that need to be frequently updated and shared with others.\n",
    "\n",
    "![sos_as_workflow.png](bopeng.github.io/SOS/doc/media/sos_as_workflow.png)\n",
    "\n"
   ]
  },
  {
   "cell_type": "markdown",
   "metadata": {},
   "source": [
    "# For PC, Cluster, and Cloud\n",
    "\n",
    "SoS is released under a [GPL 3 license](https://www.gnu.org/licenses/gpl-3.0.en.html) and is available for Mac OSX, Linux, and Windows operating systems. SoS provides an interactive environment for interactive data analysis on your PC. With just a few additional steps, your script can be transformed to a workflow that deals with different input files and different processing logics, and can be run in batch mode on a cluster system or in a cloud environment.\n",
    "\n",
    "![sos_on_cluster.png](bopeng.github.io/SOS/doc/media/sos_on_clouster.png)"
   ]
  },
  {
   "cell_type": "markdown",
   "metadata": {},
   "source": [
    "# An Open and Extensible Framework\n",
    "\n",
    "SoS is open source and provides [an API](Extending_SoS.html) to work with aribitrary languages. Its data-exchange model allows the exachange of arbitrary data types between languages with results in native data types. If your favoriate language is not yet support and you are familiar with Python, feel free to add it to SoS. \n",
    "\n",
    "![sos_supported_languages.png](bopeng.github.io/SOS/doc/sos_supported_languages.png)"
   ]
  }
 ],
 "metadata": {
  "anaconda-cloud": {},
  "kernelspec": {
   "display_name": "SoS",
   "language": "sos",
   "name": "sos"
  },
  "language_info": {
   "codemirror_mode": "sos",
   "file_extension": ".sos",
   "mimetype": "text/x-sos",
   "name": "sos",
   "nbconvert_exporter": "sos.jupyter.converter.SoS_Exporter",
   "pygments_lexer": "sos"
  },
  "toc": {
   "colors": {
    "hover_highlight": "#DAA520",
    "running_highlight": "#FF0000",
    "selected_highlight": "#FFD700"
   },
   "moveMenuLeft": true,
   "nav_menu": {
    "height": "45px",
    "width": "254px"
   },
   "navigate_menu": true,
   "number_sections": true,
   "sideBar": true,
   "threshold": 4,
   "toc_cell": false,
   "toc_section_display": "block",
   "toc_window_display": false
  }
 },
 "nbformat": 4,
 "nbformat_minor": 2
}
