{
 "cells": [
  {
   "cell_type": "markdown",
   "metadata": {},
   "source": [
    "# Jupyter Notebook Interface of SoS"
   ]
  },
  {
   "cell_type": "markdown",
   "metadata": {},
   "source": [
    "[Jupyter](http://jupyter.org/) notebook is a web application that allows you to create documents with live code and results. The underlying interpreters of the cells are called **kernel**. For example, you can use a `python` kernel to interpret python expressions, or a `ir` kernel to interpret `R` commands. You can use sos within a `python` kernel by loading the [`sos_magic` ipython extension](../tutorials/Using_SoS_with_IPython.html), or use a `sos` kernel to work in a complete SoS environment.\n",
    "\n",
    "Comparing to a regular Jupyter notebook, the SoS Jupyter notebook provides the following features:\n",
    "\n",
    "* **Enhanced Python3 kernel** The SoS kernel is based on Python 3 but it provides additional features such as string interpolation.\n",
    "* **Full-blown workflow system** SoS is a workflow system that defines many functions (actions) to execute scripts in different languages.\n",
    "* **Multi-Kernel notebook** In addition to the ability to execute SoS workflows within Jupyter, the SoS kernel allows you to start subkernels (e.g. [`irkernel`](https://github.com/IRkernel/IRkernel) for [the R langauage](https://www.r-project.org/)) and switch between the subkernels in the same notebook. This allows for truly integrated data analysis using different langauages.\n",
    "* **Data-exchange between kernels** Using a data exchange mechanism, SoS allows you to exchange variables between supported languages either explicitly, or implicitly for variables with names starting with `sos`.\n",
    "* **Scratch-pad** You can evaluate any statement in a side panel without effecting the main notebook. This provides a scratch pad for you to test your scripts before incorporating them to the main notebook.\n",
    "* **Line-by-line execution** SoS provides a shortcut (Ctrl-Shift-Enter) for you to send selected text or current line to the panel cell for evaluation, allowing you to step through code cell for easy debugging.\n",
    "* **Preview of variables and files** A magic `%preview` is provided to preview files and variables (and expressions) in multiple kernels. The output of the preview magic is displayed in the side panel (if the panel is open) which effectively reduces the size of the main notebook."
   ]
  },
  {
   "cell_type": "markdown",
   "metadata": {},
   "source": [
    "## Installing the SoS kernel"
   ]
  },
  {
   "cell_type": "markdown",
   "metadata": {},
   "source": [
    "The SoS installation process will install a SoS kernel by default. To verify if you have the sos kernel installed, use command `jupyter kernelspec list` from command line (here we use the `!` magic to run commands from Jupyter notebook):"
   ]
  },
  {
   "cell_type": "code",
   "execution_count": 1,
   "metadata": {
    "kernel": "sos"
   },
   "outputs": [
    {
     "name": "stdout",
     "output_type": "stream",
     "text": [
      "Available kernels:\n",
      "  python3    /Users/bpeng1/anaconda/lib/python3.6/site-packages/ipykernel/resources\n",
      "  bash       /Users/bpeng1/Library/Jupyter/kernels/bash\n",
      "  python2    /Users/bpeng1/Library/Jupyter/kernels/python2\n",
      "  ir         /Users/bpeng1/anaconda/share/jupyter/kernels/ir\n",
      "  sos        /Users/bpeng1/anaconda/share/jupyter/kernels/sos\n"
     ]
    }
   ],
   "source": [
    "!jupyter kernelspec list"
   ]
  },
  {
   "cell_type": "markdown",
   "metadata": {},
   "source": [
    "and check if you have `sos` listed as one of the kernels. If not, try to re-install SoS using `pip3 install sos --upgrade` or clone SoS locally and run `python setup.py install`. If the kernel is installed, fire Jupyter using command\n",
    "```\n",
    "$ jupyter notebook\n",
    "```\n",
    "from the `New` button to the top right corner, select `SoS`, and create a SoS notebook.\n",
    "\n",
    "You can also start a qtconsole with the SoS kernel using command\n",
    "```\n",
    "$ jupyter qtconsole --kernel sos\n",
    "```\n",
    "or even [use the SoS kernel in Spyder](../tutorials/Using_SoS_with_Spyder.html). Most of the features described in this section also applies to `qtconsole` and `spyder`.\n",
    "\n",
    "Note that SoS uses [imagemagick](http://www.imagemagick.org/script/index.php) and python package [`wand`](http://docs.wand-py.org/en/0.4.2/) to preview output files so it is recommended that you install these packages."
   ]
  },
  {
   "cell_type": "markdown",
   "metadata": {},
   "source": [
    "## User Interface"
   ]
  },
  {
   "cell_type": "markdown",
   "metadata": {
    "kernel": "sos"
   },
   "source": [
    "![user_interface](../../img/JupyterNotebook.png)"
   ]
  },
  {
   "cell_type": "markdown",
   "metadata": {},
   "source": [
    "The SoS frontend is based on the Jupyter notebook frontend but adds a dropdown list and a button to the menu bar, a side panel, and dropdown lists for all code cell."
   ]
  },
  {
   "cell_type": "markdown",
   "metadata": {},
   "source": [
    "### Single cell operation"
   ]
  },
  {
   "cell_type": "markdown",
   "metadata": {},
   "source": [
    "A cell can either be a Markdown cell or a code cell. The markdown cells accept texts in markdown format and are used to generate descriptions of your notebook. The code cell starts with comments (lines starting with `#`), SoS magics (lines starting with `%`), shell commands (lines  starting with `!`), followed by statements that can be evaluated by either a SoS kernel (based on Python3), or any of the subkernels that Jupyter supports."
   ]
  },
  {
   "cell_type": "markdown",
   "metadata": {},
   "source": [
    "We will discuss SoS magics in details later but basically these magic statements control how SoS works. For example, a `%with` magic temporarily switches to the specified kernel and uses it to evaluate the content of the cell, and a `%preview` magic displays information on variables or files after the completion of the cell."
   ]
  },
  {
   "cell_type": "code",
   "execution_count": 2,
   "metadata": {
    "kernel": "ir"
   },
   "outputs": [
    {
     "data": {
      "text/html": [
       "<pre><font color=\"green\">%preview title</font></pre>"
      ]
     },
     "metadata": {},
     "output_type": "display_data"
    },
    {
     "data": {
      "text/html": [
       "<pre><font color=\"green\">> title:</font></pre>"
      ],
      "text/plain": [
       ">>> title:\n"
      ]
     },
     "metadata": {},
     "output_type": "display_data"
    },
    {
     "data": {
      "text/html": [
       "<ol class=list-inline>\n",
       "\t<li>'A 1'</li>\n",
       "\t<li>'A 2'</li>\n",
       "\t<li>'A 3'</li>\n",
       "</ol>\n"
      ],
      "text/latex": [
       "\\begin{enumerate*}\n",
       "\\item 'A 1'\n",
       "\\item 'A 2'\n",
       "\\item 'A 3'\n",
       "\\end{enumerate*}\n"
      ],
      "text/markdown": [
       "1. 'A 1'\n",
       "2. 'A 2'\n",
       "3. 'A 3'\n",
       "\n",
       "\n"
      ],
      "text/plain": [
       "[1] \"A 1\" \"A 2\" \"A 3\""
      ]
     },
     "metadata": {},
     "output_type": "display_data"
    }
   ],
   "source": [
    "%with R\n",
    "%preview title\n",
    "title <- paste('A', c(1, 2, 3))"
   ]
  },
  {
   "cell_type": "markdown",
   "metadata": {},
   "source": [
    "Using the default SoS kernel, you can enter\n",
    "\n",
    "* any SoS (Python) expression and statements. For example, you can write pieces of SoS code and evaluate them"
   ]
  },
  {
   "cell_type": "code",
   "execution_count": 3,
   "metadata": {
    "collapsed": true,
    "kernel": "sos",
    "output_cache": "[]"
   },
   "outputs": [],
   "source": [
    "res_path = '/path/to/resource'\n",
    "ref_genome = \"${res_path}/hg19\""
   ]
  },
  {
   "cell_type": "markdown",
   "metadata": {},
   "source": [
    "* any SoS actions in function or script format. For example, you can execute a shell script using"
   ]
  },
  {
   "cell_type": "code",
   "execution_count": 4,
   "metadata": {
    "kernel": "sos",
    "output_cache": "[{\"output_type\":\"stream\",\"text\":\"/bin/sh: -c: line 0: syntax error near unexpected token `newline'\\n/bin/sh: -c: line 0: `/bin/bash <function quote at 0x1053d91e0>'\\nFailed to process statement run(r\\\"\\\"\\\"echo Reference genome ...nome}\\\"\\\"\\\")\\\\n (RuntimeError): Failed to execute script (ret=2).\\nPlease use command\\n\\t``/bin/bash \\\\\\n\\t  <function \\\\\\n\\t  quote \\\\\\n\\t  at \\\\\\n\\t  0x1053d91e0>``\\nunder \\\"/Users/bpeng1/SOS/docs/src/documentation\\\" to test it.\\n\",\"name\":\"stderr\"}]"
   },
   "outputs": [
    {
     "name": "stdout",
     "output_type": "stream",
     "text": [
      "Reference genome is located at /path/to/resource/hg19\n"
     ]
    }
   ],
   "source": [
    "run:\n",
    "    echo Reference genome is located at ${ref_genome}"
   ]
  },
  {
   "cell_type": "markdown",
   "metadata": {},
   "source": [
    "* SoS workflows with one or more steps."
   ]
  },
  {
   "cell_type": "code",
   "execution_count": 5,
   "metadata": {
    "kernel": "sos"
   },
   "outputs": [
    {
     "name": "stdout",
     "output_type": "stream",
     "text": [
      "I am in default_10\n",
      "I am in default_20\n",
      "I am in default_30\n"
     ]
    }
   ],
   "source": [
    "# a complete workflow\n",
    "[10]\n",
    "print(\"I am in ${step_name}\")\n",
    "[20]\n",
    "print(\"I am in ${step_name}\")\n",
    "[30]\n",
    "print(\"I am in ${step_name}\")"
   ]
  },
  {
   "cell_type": "markdown",
   "metadata": {},
   "source": [
    "Technically speaking, SoS prefixes input with a default header if no header is present, and execute all input as SoS workflows. The major differences between running SoS scripts in batch mode and Jupyter notebook is the scope of variables. Whereas in Jupyter notebook all scripts are executed in the same namespace (SoS dictionary) with shared variables, SoS batch mode executes each step in separate processes with their own namespaces, with additional rules such as readonly global variables."
   ]
  },
  {
   "cell_type": "markdown",
   "metadata": {},
   "source": [
    "### Switch between kernels"
   ]
  },
  {
   "cell_type": "markdown",
   "metadata": {},
   "source": [
    "You can also enter any statement for any other (installed) kernel after you switch to the subkernel. The switch can be down either programmatically using magics `%with` or `%use`, or interactively using the language selection drop downs."
   ]
  },
  {
   "cell_type": "markdown",
   "metadata": {},
   "source": [
    "1. A dropdown list at the top right corner of each cell displays the current kernel for the cell. You can change the kernel used for the cell by selecting another kernel from the list. This will start the cell with the specified kernel, although another kernel can still be used if the cell contains kernel switching magics `%use` or `%with`.\n",
    "\n",
    "2. A dropbown list in the notebook toolbar lists the global default kernel that would be used for new cell. Changing the kernel from the tool bar effectively executes a `%use KERNEL` command. It will also change the kernel of any new cell to that kernel."
   ]
  },
  {
   "cell_type": "markdown",
   "metadata": {},
   "source": [
    "### Side panel"
   ]
  },
  {
   "cell_type": "markdown",
   "metadata": {},
   "source": [
    "SoS provides a side panel that can be toggled by a cube icon next to the language selection dropdown. The side panel contains a special cell that is used for two purposes:\n",
    "\n",
    "1. A scratch cell using which you can evaluate any expression and check its results. You can either input (or copy/paste the statement) into the cell, or use shortcut `Ctrl-Shift-Enter` to **send selected text or current line to the panel cell for evaluation**. The latter effectively allows you to evaluate content of a cell line by line.\n",
    "2. A preview cell in which the `%preview` magic of any cell would be executed if the side panel is open.\n",
    "\n",
    "Because this cell is not part of the main notebook, its output will not be saved with the notebook. This allows you to test commands, check environment, values of variables and content of files without affecting the content of the notebook.\n"
   ]
  },
  {
   "cell_type": "markdown",
   "metadata": {},
   "source": [
    "## Use of subkernels"
   ]
  },
  {
   "cell_type": "markdown",
   "metadata": {},
   "source": [
    "One of the most important features of the SoS kernel is its support for multiple Jupyter subkernel. A `subkernel` can be any [Jupyter supported kernels](https://github.com/ipython/ipython/wiki/IPython-kernels-for-other-languages) that have been installed locally. In particular, you can use `ir` for R kernel, `python3` for python3, `iperl` for perl, `bash` for bash. Please refer to [IRKernel](https://github.com/IRkernel/IRkernel) for instructions on how to install the `ir` kernel for `R`."
   ]
  },
  {
   "cell_type": "markdown",
   "metadata": {
    "kernel": "sos"
   },
   "source": [
    "### Kernel switch magics"
   ]
  },
  {
   "cell_type": "markdown",
   "metadata": {},
   "source": [
    "You can switch kernels using SoS magics or interactively if you are using a Jupyter notebook. Using a `%use kernel` magic, you can start (and/or switches to) an alternative jupyter kernel and use a completely different script in the same notebook.\n",
    "\n",
    "For example,"
   ]
  },
  {
   "cell_type": "code",
   "execution_count": 6,
   "metadata": {
    "collapsed": true,
    "kernel": "ir"
   },
   "outputs": [],
   "source": [
    "%use R"
   ]
  },
  {
   "cell_type": "markdown",
   "metadata": {},
   "source": [
    "starts and switches to a `ir` kernel so that you can enter any R commands as if you are working on a notebook with a `ir` kernel. Note that `R` stands for a SoS language extension that uses kernel `ir` and you have to use the kernel name (e.g. `iperl`) if there is no language extension for the kernel."
   ]
  },
  {
   "cell_type": "code",
   "execution_count": 7,
   "metadata": {
    "kernel": "ir"
   },
   "outputs": [
    {
     "data": {
      "image/png": "[encoded data removed]",
      "text/plain": [
       "plot without title"
      ]
     },
     "metadata": {},
     "output_type": "display_data"
    }
   ],
   "source": [
    "require(graphics)\n",
    "pairs(mtcars, main = \"mtcars data\")"
   ]
  },
  {
   "cell_type": "markdown",
   "metadata": {},
   "source": [
    "As you can see, a different style is used for cells executed by the `ir` kernel. After you are done with the `ir` kernel, you can switch back to the SoS kernel using magic"
   ]
  },
  {
   "cell_type": "code",
   "execution_count": 8,
   "metadata": {
    "collapsed": true,
    "kernel": "sos"
   },
   "outputs": [],
   "source": [
    "%use sos"
   ]
  },
  {
   "cell_type": "markdown",
   "metadata": {},
   "source": [
    "The `%use` magic switches to a new default kernel that would be used for any new cell, but it does not change the kernel of existing cells. The `ir` kernel will still be used if you re-evaluate the above cell in `R`."
   ]
  },
  {
   "cell_type": "markdown",
   "metadata": {},
   "source": [
    "SoS will interpolate cell content before it is passed to the subkernel. For example, if you save a dataframe to a file with name in `filename`,"
   ]
  },
  {
   "cell_type": "code",
   "execution_count": 9,
   "metadata": {
    "kernel": "sos"
   },
   "outputs": [
    {
     "data": {
      "text/html": [
       "<div>\n",
       "<table border=\"1\" class=\"dataframe\">\n",
       "  <thead>\n",
       "    <tr style=\"text-align: right;\">\n",
       "      <th></th>\n",
       "      <th>A</th>\n",
       "      <th>B</th>\n",
       "      <th>C</th>\n",
       "      <th>D</th>\n",
       "    </tr>\n",
       "  </thead>\n",
       "  <tbody>\n",
       "    <tr>\n",
       "      <th>0</th>\n",
       "      <td>0.275887</td>\n",
       "      <td>-0.233462</td>\n",
       "      <td>1.175478</td>\n",
       "      <td>2.240125</td>\n",
       "    </tr>\n",
       "    <tr>\n",
       "      <th>1</th>\n",
       "      <td>-1.012035</td>\n",
       "      <td>0.764390</td>\n",
       "      <td>-0.771404</td>\n",
       "      <td>1.437744</td>\n",
       "    </tr>\n",
       "    <tr>\n",
       "      <th>2</th>\n",
       "      <td>-0.397193</td>\n",
       "      <td>-0.194880</td>\n",
       "      <td>1.491579</td>\n",
       "      <td>-1.426696</td>\n",
       "    </tr>\n",
       "    <tr>\n",
       "      <th>3</th>\n",
       "      <td>0.195616</td>\n",
       "      <td>-1.479170</td>\n",
       "      <td>-1.379833</td>\n",
       "      <td>0.883853</td>\n",
       "    </tr>\n",
       "    <tr>\n",
       "      <th>4</th>\n",
       "      <td>-1.058590</td>\n",
       "      <td>1.213018</td>\n",
       "      <td>0.412828</td>\n",
       "      <td>0.313757</td>\n",
       "    </tr>\n",
       "    <tr>\n",
       "      <th>5</th>\n",
       "      <td>0.668916</td>\n",
       "      <td>2.584890</td>\n",
       "      <td>3.080347</td>\n",
       "      <td>1.340074</td>\n",
       "    </tr>\n",
       "  </tbody>\n",
       "</table>\n",
       "</div>"
      ],
      "text/plain": [
       "          A         B         C         D\n",
       "0  0.275887 -0.233462  1.175478  2.240125\n",
       "1 -1.012035  0.764390 -0.771404  1.437744\n",
       "2 -0.397193 -0.194880  1.491579 -1.426696\n",
       "3  0.195616 -1.479170 -1.379833  0.883853\n",
       "4 -1.058590  1.213018  0.412828  0.313757\n",
       "5  0.668916  2.584890  3.080347  1.340074"
      ]
     },
     "execution_count": 9,
     "metadata": {},
     "output_type": "execute_result"
    }
   ],
   "source": [
    "import pandas as pd\n",
    "import numpy as np\n",
    "data = pd.DataFrame(np.random.randn(6,4),columns=list('ABCD'))\n",
    "filename = 'mydata.csv'\n",
    "data.to_csv(filename, index=False)\n",
    "data"
   ]
  },
  {
   "cell_type": "markdown",
   "metadata": {},
   "source": [
    "you can pass the filename to kernel `ir` using `${filename}` as follows"
   ]
  },
  {
   "cell_type": "code",
   "execution_count": 10,
   "metadata": {
    "kernel": "ir",
    "scrolled": false
   },
   "outputs": [
    {
     "name": "stdout",
     "output_type": "stream",
     "text": [
      "d <- read.csv('mydata.csv')\n",
      "d\n",
      "## -- End interpolated command --\n"
     ]
    },
    {
     "data": {
      "text/html": [
       "<table>\n",
       "<thead><tr><th scope=col>A</th><th scope=col>B</th><th scope=col>C</th><th scope=col>D</th></tr></thead>\n",
       "<tbody>\n",
       "\t<tr><td> 0.2758866</td><td>-0.2334616</td><td> 1.1754784</td><td> 2.2401249</td></tr>\n",
       "\t<tr><td>-1.0120349</td><td> 0.7643897</td><td>-0.7714036</td><td> 1.4377438</td></tr>\n",
       "\t<tr><td>-0.3971928</td><td>-0.1948802</td><td> 1.4915789</td><td>-1.4266956</td></tr>\n",
       "\t<tr><td> 0.1956157</td><td>-1.4791702</td><td>-1.3798330</td><td> 0.8838532</td></tr>\n",
       "\t<tr><td>-1.0585896</td><td> 1.2130177</td><td> 0.4128283</td><td> 0.3137568</td></tr>\n",
       "\t<tr><td> 0.6689165</td><td> 2.5848901</td><td> 3.0803473</td><td> 1.3400738</td></tr>\n",
       "</tbody>\n",
       "</table>\n"
      ],
      "text/latex": [
       "\\begin{tabular}{r|llll}\n",
       " A & B & C & D\\\\\n",
       "\\hline\n",
       "\t  0.2758866 & -0.2334616 &  1.1754784 &  2.2401249\\\\\n",
       "\t -1.0120349 &  0.7643897 & -0.7714036 &  1.4377438\\\\\n",
       "\t -0.3971928 & -0.1948802 &  1.4915789 & -1.4266956\\\\\n",
       "\t  0.1956157 & -1.4791702 & -1.3798330 &  0.8838532\\\\\n",
       "\t -1.0585896 &  1.2130177 &  0.4128283 &  0.3137568\\\\\n",
       "\t  0.6689165 &  2.5848901 &  3.0803473 &  1.3400738\\\\\n",
       "\\end{tabular}\n"
      ],
      "text/markdown": [
       "\n",
       "A | B | C | D | \n",
       "|---|---|---|---|---|---|\n",
       "|  0.2758866 | -0.2334616 |  1.1754784 |  2.2401249 | \n",
       "| -1.0120349 |  0.7643897 | -0.7714036 |  1.4377438 | \n",
       "| -0.3971928 | -0.1948802 |  1.4915789 | -1.4266956 | \n",
       "|  0.1956157 | -1.4791702 | -1.3798330 |  0.8838532 | \n",
       "| -1.0585896 |  1.2130177 |  0.4128283 |  0.3137568 | \n",
       "|  0.6689165 |  2.5848901 |  3.0803473 |  1.3400738 | \n",
       "\n",
       "\n"
      ],
      "text/plain": [
       "  A          B          C          D         \n",
       "1  0.2758866 -0.2334616  1.1754784  2.2401249\n",
       "2 -1.0120349  0.7643897 -0.7714036  1.4377438\n",
       "3 -0.3971928 -0.1948802  1.4915789 -1.4266956\n",
       "4  0.1956157 -1.4791702 -1.3798330  0.8838532\n",
       "5 -1.0585896  1.2130177  0.4128283  0.3137568\n",
       "6  0.6689165  2.5848901  3.0803473  1.3400738"
      ]
     },
     "metadata": {},
     "output_type": "display_data"
    }
   ],
   "source": [
    "%use R\n",
    "d <- read.csv(${filename!r})\n",
    "d"
   ]
  },
  {
   "cell_type": "markdown",
   "metadata": {},
   "source": [
    "### Explicit data exchange"
   ]
  },
  {
   "cell_type": "markdown",
   "metadata": {},
   "source": [
    "Although string interpolation allows you to **compose** scripts in other languages, it is not a particularly good way to exchange data between SoS and subkernels. Fortunately, the SoS kernel provides a mechanism to pass variables between SoS and some subkernels using SoS magics.\n",
    "\n",
    "For example, magic `%get` can get specified SoS variables from the SoS kernel to the subkernel `ir`."
   ]
  },
  {
   "cell_type": "code",
   "execution_count": 11,
   "metadata": {
    "kernel": "ir"
   },
   "outputs": [
    {
     "data": {
      "text/html": [
       "<table>\n",
       "<thead><tr><th></th><th scope=col>A</th><th scope=col>B</th><th scope=col>C</th><th scope=col>D</th></tr></thead>\n",
       "<tbody>\n",
       "\t<tr><th scope=row>0</th><td> 0.2758866</td><td>-0.2334616</td><td> 1.1754784</td><td> 2.2401249</td></tr>\n",
       "\t<tr><th scope=row>1</th><td>-1.0120349</td><td> 0.7643897</td><td>-0.7714036</td><td> 1.4377438</td></tr>\n",
       "\t<tr><th scope=row>2</th><td>-0.3971928</td><td>-0.1948802</td><td> 1.4915789</td><td>-1.4266956</td></tr>\n",
       "\t<tr><th scope=row>3</th><td> 0.1956157</td><td>-1.4791702</td><td>-1.3798330</td><td> 0.8838532</td></tr>\n",
       "\t<tr><th scope=row>4</th><td>-1.0585896</td><td> 1.2130177</td><td> 0.4128283</td><td> 0.3137568</td></tr>\n",
       "\t<tr><th scope=row>5</th><td> 0.6689165</td><td> 2.5848901</td><td> 3.0803473</td><td> 1.3400738</td></tr>\n",
       "</tbody>\n",
       "</table>\n"
      ],
      "text/latex": [
       "\\begin{tabular}{r|llll}\n",
       "  & A & B & C & D\\\\\n",
       "\\hline\n",
       "\t0 &  0.2758866 & -0.2334616 &  1.1754784 &  2.2401249\\\\\n",
       "\t1 & -1.0120349 &  0.7643897 & -0.7714036 &  1.4377438\\\\\n",
       "\t2 & -0.3971928 & -0.1948802 &  1.4915789 & -1.4266956\\\\\n",
       "\t3 &  0.1956157 & -1.4791702 & -1.3798330 &  0.8838532\\\\\n",
       "\t4 & -1.0585896 &  1.2130177 &  0.4128283 &  0.3137568\\\\\n",
       "\t5 &  0.6689165 &  2.5848901 &  3.0803473 &  1.3400738\\\\\n",
       "\\end{tabular}\n"
      ],
      "text/markdown": [
       "\n",
       "| <!--/--> | A | B | C | D | \n",
       "|---|---|---|---|---|---|\n",
       "| 0 |  0.2758866 | -0.2334616 |  1.1754784 |  2.2401249 | \n",
       "| 1 | -1.0120349 |  0.7643897 | -0.7714036 |  1.4377438 | \n",
       "| 2 | -0.3971928 | -0.1948802 |  1.4915789 | -1.4266956 | \n",
       "| 3 |  0.1956157 | -1.4791702 | -1.3798330 |  0.8838532 | \n",
       "| 4 | -1.0585896 |  1.2130177 |  0.4128283 |  0.3137568 | \n",
       "| 5 |  0.6689165 |  2.5848901 |  3.0803473 |  1.3400738 | \n",
       "\n",
       "\n"
      ],
      "text/plain": [
       "  A          B          C          D         \n",
       "0  0.2758866 -0.2334616  1.1754784  2.2401249\n",
       "1 -1.0120349  0.7643897 -0.7714036  1.4377438\n",
       "2 -0.3971928 -0.1948802  1.4915789 -1.4266956\n",
       "3  0.1956157 -1.4791702 -1.3798330  0.8838532\n",
       "4 -1.0585896  1.2130177  0.4128283  0.3137568\n",
       "5  0.6689165  2.5848901  3.0803473  1.3400738"
      ]
     },
     "metadata": {},
     "output_type": "display_data"
    }
   ],
   "source": [
    "%get data\n",
    "data"
   ]
  },
  {
   "cell_type": "markdown",
   "metadata": {},
   "source": [
    "SoS tries its best to find the best-matching data types between SoS and the subkernel and convert the data in the subkernel's native datatypes (e.g. Python's `DataFrame` to R's `data.frame`), so the variables you get will always be in the subkernel's native data types, not a wrapper of a foreign object (for example objects provided by `rpy2`). "
   ]
  },
  {
   "cell_type": "code",
   "execution_count": 12,
   "metadata": {
    "kernel": "ir"
   },
   "outputs": [
    {
     "data": {
      "text/html": [
       "'data.frame'"
      ],
      "text/latex": [
       "'data.frame'"
      ],
      "text/markdown": [
       "'data.frame'"
      ],
      "text/plain": [
       "[1] \"data.frame\""
      ]
     },
     "metadata": {},
     "output_type": "display_data"
    }
   ],
   "source": [
    "class(data)"
   ]
  },
  {
   "cell_type": "markdown",
   "metadata": {},
   "source": [
    "Similarly, using magic `%put`, you can put a variable in the subkernel to the sos kernel."
   ]
  },
  {
   "cell_type": "code",
   "execution_count": 13,
   "metadata": {
    "collapsed": true,
    "kernel": "ir"
   },
   "outputs": [],
   "source": [
    "data[ data < 1] = 0\n",
    "data[ data > 1] = 1"
   ]
  },
  {
   "cell_type": "code",
   "execution_count": 14,
   "metadata": {
    "collapsed": true,
    "kernel": "ir"
   },
   "outputs": [],
   "source": [
    "%put data"
   ]
  },
  {
   "cell_type": "code",
   "execution_count": 15,
   "metadata": {
    "kernel": "sos"
   },
   "outputs": [
    {
     "data": {
      "text/html": [
       "<div>\n",
       "<table border=\"1\" class=\"dataframe\">\n",
       "  <thead>\n",
       "    <tr style=\"text-align: right;\">\n",
       "      <th></th>\n",
       "      <th>A</th>\n",
       "      <th>B</th>\n",
       "      <th>C</th>\n",
       "      <th>D</th>\n",
       "    </tr>\n",
       "  </thead>\n",
       "  <tbody>\n",
       "    <tr>\n",
       "      <th>0</th>\n",
       "      <td>0.0</td>\n",
       "      <td>0.0</td>\n",
       "      <td>1.0</td>\n",
       "      <td>1.0</td>\n",
       "    </tr>\n",
       "    <tr>\n",
       "      <th>1</th>\n",
       "      <td>0.0</td>\n",
       "      <td>0.0</td>\n",
       "      <td>0.0</td>\n",
       "      <td>1.0</td>\n",
       "    </tr>\n",
       "    <tr>\n",
       "      <th>2</th>\n",
       "      <td>0.0</td>\n",
       "      <td>0.0</td>\n",
       "      <td>1.0</td>\n",
       "      <td>0.0</td>\n",
       "    </tr>\n",
       "    <tr>\n",
       "      <th>3</th>\n",
       "      <td>0.0</td>\n",
       "      <td>0.0</td>\n",
       "      <td>0.0</td>\n",
       "      <td>0.0</td>\n",
       "    </tr>\n",
       "    <tr>\n",
       "      <th>4</th>\n",
       "      <td>0.0</td>\n",
       "      <td>1.0</td>\n",
       "      <td>0.0</td>\n",
       "      <td>0.0</td>\n",
       "    </tr>\n",
       "    <tr>\n",
       "      <th>5</th>\n",
       "      <td>0.0</td>\n",
       "      <td>1.0</td>\n",
       "      <td>1.0</td>\n",
       "      <td>1.0</td>\n",
       "    </tr>\n",
       "  </tbody>\n",
       "</table>\n",
       "</div>"
      ],
      "text/plain": [
       "     A    B    C    D\n",
       "0  0.0  0.0  1.0  1.0\n",
       "1  0.0  0.0  0.0  1.0\n",
       "2  0.0  0.0  1.0  0.0\n",
       "3  0.0  0.0  0.0  0.0\n",
       "4  0.0  1.0  0.0  0.0\n",
       "5  0.0  1.0  1.0  1.0"
      ]
     },
     "execution_count": 15,
     "metadata": {},
     "output_type": "execute_result"
    }
   ],
   "source": [
    "%use sos\n",
    "data"
   ]
  },
  {
   "cell_type": "markdown",
   "metadata": {},
   "source": [
    "Variables can also be transferred with options `--in` (`-i`) and `--out` (`-o`) of magics `%use` and `%with`. For example, if you would like to add `2` to all elements in `data` but not sure if `pandas` can do that, you can send the dataframe to `R`, add `2` and send it back."
   ]
  },
  {
   "cell_type": "code",
   "execution_count": 16,
   "metadata": {
    "collapsed": true,
    "kernel": "ir"
   },
   "outputs": [],
   "source": [
    "%with R -i data -o data\n",
    "data <- data + 2"
   ]
  },
  {
   "cell_type": "code",
   "execution_count": 17,
   "metadata": {
    "kernel": "sos"
   },
   "outputs": [
    {
     "data": {
      "text/html": [
       "<div>\n",
       "<table border=\"1\" class=\"dataframe\">\n",
       "  <thead>\n",
       "    <tr style=\"text-align: right;\">\n",
       "      <th></th>\n",
       "      <th>A</th>\n",
       "      <th>B</th>\n",
       "      <th>C</th>\n",
       "      <th>D</th>\n",
       "    </tr>\n",
       "  </thead>\n",
       "  <tbody>\n",
       "    <tr>\n",
       "      <th>0</th>\n",
       "      <td>2.0</td>\n",
       "      <td>2.0</td>\n",
       "      <td>3.0</td>\n",
       "      <td>3.0</td>\n",
       "    </tr>\n",
       "    <tr>\n",
       "      <th>1</th>\n",
       "      <td>2.0</td>\n",
       "      <td>2.0</td>\n",
       "      <td>2.0</td>\n",
       "      <td>3.0</td>\n",
       "    </tr>\n",
       "    <tr>\n",
       "      <th>2</th>\n",
       "      <td>2.0</td>\n",
       "      <td>2.0</td>\n",
       "      <td>3.0</td>\n",
       "      <td>2.0</td>\n",
       "    </tr>\n",
       "    <tr>\n",
       "      <th>3</th>\n",
       "      <td>2.0</td>\n",
       "      <td>2.0</td>\n",
       "      <td>2.0</td>\n",
       "      <td>2.0</td>\n",
       "    </tr>\n",
       "    <tr>\n",
       "      <th>4</th>\n",
       "      <td>2.0</td>\n",
       "      <td>3.0</td>\n",
       "      <td>2.0</td>\n",
       "      <td>2.0</td>\n",
       "    </tr>\n",
       "    <tr>\n",
       "      <th>5</th>\n",
       "      <td>2.0</td>\n",
       "      <td>3.0</td>\n",
       "      <td>3.0</td>\n",
       "      <td>3.0</td>\n",
       "    </tr>\n",
       "  </tbody>\n",
       "</table>\n",
       "</div>"
      ],
      "text/plain": [
       "     A    B    C    D\n",
       "0  2.0  2.0  3.0  3.0\n",
       "1  2.0  2.0  2.0  3.0\n",
       "2  2.0  2.0  3.0  2.0\n",
       "3  2.0  2.0  2.0  2.0\n",
       "4  2.0  3.0  2.0  2.0\n",
       "5  2.0  3.0  3.0  3.0"
      ]
     },
     "execution_count": 17,
     "metadata": {},
     "output_type": "execute_result"
    }
   ],
   "source": [
    "data"
   ]
  },
  {
   "cell_type": "markdown",
   "metadata": {},
   "source": [
    "### Implicit data exchange"
   ]
  },
  {
   "cell_type": "markdown",
   "metadata": {},
   "source": [
    "In addition to the use of magics `%put` and `%get` and parameters `--in` and `--out` of magics `%use` and `%with` to explicitly exchange variables between SoS and subkernels, SoS automatically shares variables with names starting with `sos` among all subkernels.\n",
    "\n",
    "For example,"
   ]
  },
  {
   "cell_type": "code",
   "execution_count": 18,
   "metadata": {
    "collapsed": true,
    "kernel": "ir"
   },
   "outputs": [],
   "source": [
    "%use R\n",
    "sos_var = 100"
   ]
  },
  {
   "cell_type": "code",
   "execution_count": 19,
   "metadata": {
    "kernel": "sos"
   },
   "outputs": [
    {
     "name": "stderr",
     "output_type": "stream",
     "text": [
      "Failed to start kernel \"Python\". Use \"jupyter kernelspec list\" to check if it is installed: No such kernel named Python\n"
     ]
    },
    {
     "name": "stdout",
     "output_type": "stream",
     "text": [
      "sos_var is changed to 200\n"
     ]
    }
   ],
   "source": [
    "%with Python\n",
    "sos_var += 100\n",
    "print(\"sos_var is changed to {}\".format(sos_var))"
   ]
  },
  {
   "cell_type": "code",
   "execution_count": 20,
   "metadata": {
    "kernel": "ir"
   },
   "outputs": [
    {
     "data": {
      "text/html": [
       "200"
      ],
      "text/latex": [
       "200"
      ],
      "text/markdown": [
       "200"
      ],
      "text/plain": [
       "[1] 200"
      ]
     },
     "metadata": {},
     "output_type": "display_data"
    }
   ],
   "source": [
    "# I am still in R\n",
    "sos_var"
   ]
  },
  {
   "cell_type": "code",
   "execution_count": 21,
   "metadata": {
    "kernel": "sos"
   },
   "outputs": [
    {
     "data": {
      "text/plain": [
       "200"
      ]
     },
     "execution_count": 21,
     "metadata": {},
     "output_type": "execute_result"
    }
   ],
   "source": [
    "%use sos\n",
    "sos_var"
   ]
  },
  {
   "cell_type": "markdown",
   "metadata": {
    "collapsed": true
   },
   "source": [
    "SoS supports an increasing number of languages and provides [an interface to add support for other languages](Extending_SoS.html). If your language of choice is not yet supported, please considering adding SoS support for your favoriate kernel with a pull request."
   ]
  },
  {
   "cell_type": "code",
   "execution_count": 22,
   "metadata": {
    "collapsed": true,
    "kernel": "sos"
   },
   "outputs": [],
   "source": [
    "# clean up\n",
    "%use sos\n",
    "!rm mydata.csv "
   ]
  },
  {
   "cell_type": "markdown",
   "metadata": {},
   "source": [
    "## SOS Magics"
   ]
  },
  {
   "cell_type": "markdown",
   "metadata": {},
   "source": [
    "In addition to SoS statements, you can use a few SoS magics in Jupyter notebook. \n",
    "\n",
    "1. SoS magics have to be specified at the beginning of a cell, although they can be specified after empty lines and comments.\n",
    "2. Lines ending with `\"\\\"` will be joined so you can break long magics into multiple lines\n",
    "3. Multiple magics can be used in a single cell.\n",
    "\n",
    "SoS supports the following jupyter magics:"
   ]
  },
  {
   "cell_type": "markdown",
   "metadata": {},
   "source": [
    "###  `%use` "
   ]
  },
  {
   "cell_type": "markdown",
   "metadata": {},
   "source": [
    "As shown above, the `%use kernel` magic starts or switch to a subkernel named `kernel`.The kernel will be used for the current cell and any new cell, but not for existing cells created with another kernel. The kernel can be any locally installed Jupyter kenel, or name of a **language** (e.g. `R` for kernel `ir`). A `language` is usually built upon the corresponding subkernel, with added support for data exchange between SoS and the subkernel."
   ]
  },
  {
   "cell_type": "markdown",
   "metadata": {},
   "source": [
    "`%use` magic accepts parameters `--in (-i)` and `--out (-o)`, followed by variables that will be transferred to the subkernel after starting (or switching to) the subkernel, and variables that will be transferred back to SoS before magic `%use sos`.\n",
    "\n",
    "For example,"
   ]
  },
  {
   "cell_type": "code",
   "execution_count": 23,
   "metadata": {
    "collapsed": true,
    "kernel": "sos"
   },
   "outputs": [],
   "source": [
    "n = 5"
   ]
  },
  {
   "cell_type": "code",
   "execution_count": 24,
   "metadata": {
    "collapsed": true,
    "kernel": "ir"
   },
   "outputs": [],
   "source": [
    "%use ir -i n -o ran\n",
    "ran <- rnorm(n)"
   ]
  },
  {
   "cell_type": "code",
   "execution_count": 25,
   "metadata": {
    "kernel": "sos"
   },
   "outputs": [
    {
     "data": {
      "text/plain": [
       "[-0.678748137597107,\n",
       " 1.37734307519714,\n",
       " -2.29459165066577,\n",
       " -0.459186086433596,\n",
       " -0.348851687928323]"
      ]
     },
     "execution_count": 25,
     "metadata": {},
     "output_type": "execute_result"
    }
   ],
   "source": [
    "%use sos\n",
    "ran"
   ]
  },
  {
   "cell_type": "markdown",
   "metadata": {},
   "source": [
    "Data exchange is actually performed by magics `%get` and `%put` so please refer to these magics for details."
   ]
  },
  {
   "cell_type": "markdown",
   "metadata": {},
   "source": [
    "### `%with`"
   ]
  },
  {
   "cell_type": "markdown",
   "metadata": {},
   "source": [
    "  `%with kernel` also starts (or switches to) a subkernel, but kernel specified by `%with kernel` will be reset as soon as the cell is executed. This magic is therefore suitable for a quick errand to another kernel. This magic also accepts options `--in` (or `-i`) and `--out` (or `-o`), so you could use"
   ]
  },
  {
   "cell_type": "code",
   "execution_count": 26,
   "metadata": {
    "collapsed": true,
    "kernel": "ir"
   },
   "outputs": [],
   "source": [
    "%with R -i n -o ran\n",
    "ran <- rnorm(n)"
   ]
  },
  {
   "cell_type": "markdown",
   "metadata": {},
   "source": [
    "to get a list of normally distributed numbers using R's `rnorm` function. The current kernel is still `sos`."
   ]
  },
  {
   "cell_type": "code",
   "execution_count": 27,
   "metadata": {
    "kernel": "sos"
   },
   "outputs": [
    {
     "name": "stdout",
     "output_type": "stream",
     "text": [
      "Kernel \"sos\" is used.\n",
      "Available kernels are: SoS (sos), R (ir), Python2 (python2), Python3 (python3), Bash (bash)."
     ]
    }
   ],
   "source": [
    "%use"
   ]
  },
  {
   "cell_type": "code",
   "execution_count": 28,
   "metadata": {
    "kernel": "sos"
   },
   "outputs": [
    {
     "data": {
      "text/plain": [
       "[0.548159018750351,\n",
       " -0.532398339110057,\n",
       " -1.14046027233028,\n",
       " -0.13325144306041,\n",
       " 0.0240346471836994]"
      ]
     },
     "execution_count": 28,
     "metadata": {},
     "output_type": "execute_result"
    }
   ],
   "source": [
    "ran"
   ]
  },
  {
   "cell_type": "markdown",
   "metadata": {},
   "source": [
    "### `%preview`"
   ]
  },
  {
   "cell_type": "markdown",
   "metadata": {},
   "source": [
    "The `%preview` magic preview the content of specified files or values of specified expressions **after** the execution of the current cell. For example, in a subkernel R, you can do"
   ]
  },
  {
   "cell_type": "code",
   "execution_count": 29,
   "metadata": {
    "kernel": "ir",
    "scrolled": true
   },
   "outputs": [
    {
     "name": "stdout",
     "output_type": "stream",
     "text": [
      "png(\"/private/var/folders/ys/gnzk0qbx5wbdgm531v82xxljv5yqy8/T/tmpcew07tng/a.png\")\n",
      "plot(seq(1,10))\n",
      "dev.off()\n",
      "## -- End interpolated command --\n"
     ]
    },
    {
     "data": {
      "text/html": [
       "<strong>pdf:</strong> 2"
      ],
      "text/latex": [
       "\\textbf{pdf:} 2"
      ],
      "text/markdown": [
       "**pdf:** 2"
      ],
      "text/plain": [
       "pdf \n",
       "  2 "
      ]
     },
     "metadata": {},
     "output_type": "display_data"
    },
    {
     "data": {
      "text/html": [
       "<pre><font color=\"green\">%preview a.png</font></pre>"
      ]
     },
     "metadata": {},
     "output_type": "display_data"
    },
    {
     "data": {
      "text/html": [
       "<pre><font color=\"green\">> a.png (13.5 KiB):</font></pre>"
      ],
      "text/plain": [
       "\n",
       "> a.png (13.5 KiB):"
      ]
     },
     "metadata": {},
     "output_type": "display_data"
    },
    {
     "name": "stderr",
     "output_type": "stream",
     "text": [
      "Failed to load previewer imghdr:what,1 = sos.jupyter.preview:preview_img [image]: The 'wand' distribution was not found and is required by the application"
     ]
    }
   ],
   "source": [
    "%sandbox\n",
    "%use R\n",
    "%preview a.png\n",
    "png(\"${os.getcwd()}/a.png\")\n",
    "plot(seq(1,10))\n",
    "dev.off()"
   ]
  },
  {
   "cell_type": "markdown",
   "metadata": {},
   "source": [
    "to preview `a.png` generated by this step. Note that SoS automatically previews output files of SoS statements specified by the `output:` directive, but `output:` works only in the SoS kernel and `%preview` works for subkernel."
   ]
  },
  {
   "cell_type": "markdown",
   "metadata": {},
   "source": [
    "The `%preview` magic also accept sos variable and expressions. For example,"
   ]
  },
  {
   "cell_type": "code",
   "execution_count": 30,
   "metadata": {
    "kernel": "sos"
   },
   "outputs": [
    {
     "data": {
      "text/html": [
       "<pre><font color=\"green\">%preview data</font></pre>"
      ]
     },
     "metadata": {},
     "output_type": "display_data"
    },
    {
     "data": {
      "text/html": [
       "<pre><font color=\"green\">> data:</font> DataFrame of shape (4, 2)</pre>"
      ],
      "text/plain": [
       ">>> data:\n"
      ]
     },
     "metadata": {},
     "output_type": "display_data"
    },
    {
     "data": {
      "text/html": [
       "<div>\n",
       "<table border=\"1\" class=\"dataframe\">\n",
       "  <thead>\n",
       "    <tr style=\"text-align: right;\">\n",
       "      <th></th>\n",
       "      <th>one</th>\n",
       "      <th>two</th>\n",
       "    </tr>\n",
       "  </thead>\n",
       "  <tbody>\n",
       "    <tr>\n",
       "      <th>a</th>\n",
       "      <td>1.0</td>\n",
       "      <td>1.0</td>\n",
       "    </tr>\n",
       "    <tr>\n",
       "      <th>b</th>\n",
       "      <td>2.0</td>\n",
       "      <td>2.0</td>\n",
       "    </tr>\n",
       "    <tr>\n",
       "      <th>c</th>\n",
       "      <td>3.0</td>\n",
       "      <td>3.0</td>\n",
       "    </tr>\n",
       "    <tr>\n",
       "      <th>d</th>\n",
       "      <td>NaN</td>\n",
       "      <td>4.0</td>\n",
       "    </tr>\n",
       "  </tbody>\n",
       "</table>\n",
       "</div>"
      ],
      "text/plain": [
       "   one  two\n",
       "a  1.0  1.0\n",
       "b  2.0  2.0\n",
       "c  3.0  3.0\n",
       "d  NaN  4.0"
      ]
     },
     "metadata": {},
     "output_type": "display_data"
    }
   ],
   "source": [
    "%preview data\n",
    "%use sos\n",
    "import pandas as pd\n",
    "data = pd.DataFrame({\n",
    "    'one' : pd.Series([1., 2., 3.], index=['a', 'b', 'c']),\n",
    "    'two' : pd.Series([1., 2., 3., 4.], index=['a', 'b', 'c', 'd'])})"
   ]
  },
  {
   "cell_type": "markdown",
   "metadata": {},
   "source": [
    "would display the content of the pandas `DataFrame`. You can specify any Python (sos) expression for this magic but, similar to command line arguments, you will need to quote the expression if it contains spaces. For example,"
   ]
  },
  {
   "cell_type": "code",
   "execution_count": 31,
   "metadata": {
    "kernel": "sos",
    "scrolled": false
   },
   "outputs": [
    {
     "data": {
      "text/html": [
       "<pre><font color=\"green\">%preview data['one']</font></pre>"
      ]
     },
     "metadata": {},
     "output_type": "display_data"
    },
    {
     "data": {
      "text/html": [
       "<pre><font color=\"green\">> data['one']:</font> Series of shape (4,)</pre>"
      ],
      "text/plain": [
       ">>> data['one']:\n"
      ]
     },
     "metadata": {},
     "output_type": "display_data"
    },
    {
     "data": {
      "text/plain": [
       "a    1.0\n",
       "b    2.0\n",
       "c    3.0\n",
       "d    NaN\n",
       "Name: one, dtype: float64"
      ]
     },
     "metadata": {},
     "output_type": "display_data"
    }
   ],
   "source": [
    "%preview data['one']"
   ]
  },
  {
   "cell_type": "markdown",
   "metadata": {},
   "source": [
    "The `%preview` magic previews the variables with the kernel using which the cell is evaluated. For example, you can preview a R variable"
   ]
  },
  {
   "cell_type": "code",
   "execution_count": 32,
   "metadata": {
    "kernel": "ir"
   },
   "outputs": [
    {
     "data": {
      "text/html": [
       "<pre><font color=\"green\">%preview r.val</font></pre>"
      ]
     },
     "metadata": {},
     "output_type": "display_data"
    },
    {
     "data": {
      "text/html": [
       "<pre><font color=\"green\">> r.val:</font></pre>"
      ],
      "text/plain": [
       ">>> r.val:\n"
      ]
     },
     "metadata": {},
     "output_type": "display_data"
    },
    {
     "data": {
      "text/html": [
       "<ol class=list-inline>\n",
       "\t<li>1</li>\n",
       "\t<li>2</li>\n",
       "\t<li>1</li>\n",
       "\t<li>2</li>\n",
       "\t<li>1</li>\n",
       "\t<li>2</li>\n",
       "</ol>\n"
      ],
      "text/latex": [
       "\\begin{enumerate*}\n",
       "\\item 1\n",
       "\\item 2\n",
       "\\item 1\n",
       "\\item 2\n",
       "\\item 1\n",
       "\\item 2\n",
       "\\end{enumerate*}\n"
      ],
      "text/markdown": [
       "1. 1\n",
       "2. 2\n",
       "3. 1\n",
       "4. 2\n",
       "5. 1\n",
       "6. 2\n",
       "\n",
       "\n"
      ],
      "text/plain": [
       "[1] 1 2 1 2 1 2"
      ]
     },
     "metadata": {},
     "output_type": "display_data"
    }
   ],
   "source": [
    "%with R\n",
    "%preview r.val\n",
    "r.val = rep(c(1, 2), 3)"
   ]
  },
  {
   "cell_type": "markdown",
   "metadata": {},
   "source": [
    "If you would like to preview variable in another kernel, you can specify it using option `--kernel`, for example, the following cell previews a variable `r.val` in a SoS kernel."
   ]
  },
  {
   "cell_type": "code",
   "execution_count": 33,
   "metadata": {
    "kernel": "sos"
   },
   "outputs": [
    {
     "data": {
      "text/html": [
       "<pre><font color=\"green\">%preview r.val</font></pre>"
      ]
     },
     "metadata": {},
     "output_type": "display_data"
    },
    {
     "data": {
      "text/html": [
       "<pre><font color=\"green\">> r.val:</font></pre>"
      ],
      "text/plain": [
       ">>> r.val:\n"
      ]
     },
     "metadata": {},
     "output_type": "display_data"
    },
    {
     "data": {
      "text/html": [
       "<ol class=list-inline>\n",
       "\t<li>1</li>\n",
       "\t<li>2</li>\n",
       "\t<li>1</li>\n",
       "\t<li>2</li>\n",
       "\t<li>1</li>\n",
       "\t<li>2</li>\n",
       "</ol>\n"
      ],
      "text/latex": [
       "\\begin{enumerate*}\n",
       "\\item 1\n",
       "\\item 2\n",
       "\\item 1\n",
       "\\item 2\n",
       "\\item 1\n",
       "\\item 2\n",
       "\\end{enumerate*}\n"
      ],
      "text/markdown": [
       "1. 1\n",
       "2. 2\n",
       "3. 1\n",
       "4. 2\n",
       "5. 1\n",
       "6. 2\n",
       "\n",
       "\n"
      ],
      "text/plain": [
       "[1] 1 2 1 2 1 2"
      ]
     },
     "metadata": {},
     "output_type": "display_data"
    }
   ],
   "source": [
    "%preview r.val --kernel R"
   ]
  },
  {
   "cell_type": "markdown",
   "metadata": {},
   "source": [
    "Magic `%preview` also accepts an option `--off`, in which case it turns off the preview of output files from the SoS workflow."
   ]
  },
  {
   "cell_type": "markdown",
   "metadata": {},
   "source": [
    "If the side panel of the notebook is open, the `%preview` magic would be executed in the side panel. Otherwise it would be executed in the current cell with its result being part of the main notebook. Because SoS also provides an inspection feature that allows you to inspect the value of variables interactively, you have a number of choices to inspect sos variables and preview files. In summary,\n",
    "\n",
    "1. If you just want to check the value of a variable, you can inspect it by pressing `Shift-Tab` when you move your cursor in or after the variable. A popup window would appear with information about the variable. This only works for SoS variables.\n",
    "2. You can evaluate variables and expressions or use `%preview` magic in the side panel to preview variables and files. You can select another kernel and check variables in a subkernel.\n",
    "3. You can use the `%preview` magic to automatically preview variables and files after the execution of the cell. You will need to open the side panel if you do not want to keep the preview result in the main notebook."
   ]
  },
  {
   "cell_type": "markdown",
   "metadata": {},
   "source": [
    "### `%put`"
   ]
  },
  {
   "cell_type": "markdown",
   "metadata": {},
   "source": [
    "Magics `%put` are used to return results from subkernel to SoS kernel when the current kernel is a subkernel started by magic `%use`. Only the `ir` and `python` kernels are supported now. Whereas there is virtually no limit on exchangeable datatypes between `SoS` and `python` kernels, there are no perfect map between Python (SoS) and `R` datatypes so SoS tries to find the best match between data types. More specifically,\n",
    "\n",
    "  \n",
    "  | R  |  length (n) |   Python |\n",
    "  | --- | --- |---|\n",
    "  | `NULL` | |    `None` |\n",
    "  | `logical` |  `1` |  `oolean` |\n",
    "  | `integer` |  `1` |  `integer` |\n",
    "  | `numeric` |  `1` |  `double` |\n",
    "  | `character` |  `1` |  `string` |\n",
    "  | `logical` |  `n > 1` |  `list` |\n",
    "  | `integer` |  `n > 1` |  `list` |\n",
    "  | `numeric` |  `n > 1` |  `list` |\n",
    "  | `character` |  `n > 1` |  `list` |\n",
    "  | `list` without names |  `n > 0` | `list` |\n",
    "  | `list` with names |  `n > 0` |  `dict` |\n",
    "  | `matrix` |  `n > 0` |  `numpy.array` |\n",
    "  | `data.frame` |  `n > 0` |  `DataFrame` |"
   ]
  },
  {
   "cell_type": "markdown",
   "metadata": {},
   "source": [
    "For example"
   ]
  },
  {
   "cell_type": "code",
   "execution_count": 34,
   "metadata": {
    "collapsed": true,
    "kernel": "ir"
   },
   "outputs": [],
   "source": [
    "%use R\n",
    "a = c(1)\n",
    "b = c(1, 2, 3)\n",
    "c = list(1, 2, 3)\n",
    "d = list(1, 2, \"3\")\n",
    "e = matrix(c(1,2,3,4), ncol=2)"
   ]
  },
  {
   "cell_type": "code",
   "execution_count": 35,
   "metadata": {
    "kernel": "ir"
   },
   "outputs": [
    {
     "data": {
      "text/html": [
       "<pre><font color=\"green\">%preview a b c d e</font></pre>"
      ]
     },
     "metadata": {},
     "output_type": "display_data"
    },
    {
     "data": {
      "text/html": [
       "<pre><font color=\"green\">> a:</font></pre>"
      ],
      "text/plain": [
       ">>> a:\n"
      ]
     },
     "metadata": {},
     "output_type": "display_data"
    },
    {
     "data": {
      "text/html": [
       "1"
      ],
      "text/latex": [
       "1"
      ],
      "text/markdown": [
       "1"
      ],
      "text/plain": [
       "[1] 1"
      ]
     },
     "metadata": {},
     "output_type": "display_data"
    },
    {
     "data": {
      "text/html": [
       "<pre><font color=\"green\">> b:</font></pre>"
      ],
      "text/plain": [
       ">>> b:\n"
      ]
     },
     "metadata": {},
     "output_type": "display_data"
    },
    {
     "data": {
      "text/html": [
       "<ol class=list-inline>\n",
       "\t<li>1</li>\n",
       "\t<li>2</li>\n",
       "\t<li>3</li>\n",
       "</ol>\n"
      ],
      "text/latex": [
       "\\begin{enumerate*}\n",
       "\\item 1\n",
       "\\item 2\n",
       "\\item 3\n",
       "\\end{enumerate*}\n"
      ],
      "text/markdown": [
       "1. 1\n",
       "2. 2\n",
       "3. 3\n",
       "\n",
       "\n"
      ],
      "text/plain": [
       "[1] 1 2 3"
      ]
     },
     "metadata": {},
     "output_type": "display_data"
    },
    {
     "data": {
      "text/html": [
       "<pre><font color=\"green\">> c:</font></pre>"
      ],
      "text/plain": [
       ">>> c:\n"
      ]
     },
     "metadata": {},
     "output_type": "display_data"
    },
    {
     "data": {
      "text/html": [
       "<ol>\n",
       "\t<li>1</li>\n",
       "\t<li>2</li>\n",
       "\t<li>3</li>\n",
       "</ol>\n"
      ],
      "text/latex": [
       "\\begin{enumerate}\n",
       "\\item 1\n",
       "\\item 2\n",
       "\\item 3\n",
       "\\end{enumerate}\n"
      ],
      "text/markdown": [
       "1. 1\n",
       "2. 2\n",
       "3. 3\n",
       "\n",
       "\n"
      ],
      "text/plain": [
       "[[1]]\n",
       "[1] 1\n",
       "\n",
       "[[2]]\n",
       "[1] 2\n",
       "\n",
       "[[3]]\n",
       "[1] 3\n"
      ]
     },
     "metadata": {},
     "output_type": "display_data"
    },
    {
     "data": {
      "text/html": [
       "<pre><font color=\"green\">> d:</font></pre>"
      ],
      "text/plain": [
       ">>> d:\n"
      ]
     },
     "metadata": {},
     "output_type": "display_data"
    },
    {
     "data": {
      "text/html": [
       "<ol>\n",
       "\t<li>1</li>\n",
       "\t<li>2</li>\n",
       "\t<li>'3'</li>\n",
       "</ol>\n"
      ],
      "text/latex": [
       "\\begin{enumerate}\n",
       "\\item 1\n",
       "\\item 2\n",
       "\\item '3'\n",
       "\\end{enumerate}\n"
      ],
      "text/markdown": [
       "1. 1\n",
       "2. 2\n",
       "3. '3'\n",
       "\n",
       "\n"
      ],
      "text/plain": [
       "[[1]]\n",
       "[1] 1\n",
       "\n",
       "[[2]]\n",
       "[1] 2\n",
       "\n",
       "[[3]]\n",
       "[1] \"3\"\n"
      ]
     },
     "metadata": {},
     "output_type": "display_data"
    },
    {
     "data": {
      "text/html": [
       "<pre><font color=\"green\">> e:</font></pre>"
      ],
      "text/plain": [
       ">>> e:\n"
      ]
     },
     "metadata": {},
     "output_type": "display_data"
    },
    {
     "data": {
      "text/html": [
       "<table>\n",
       "<tbody>\n",
       "\t<tr><td>1</td><td>3</td></tr>\n",
       "\t<tr><td>2</td><td>4</td></tr>\n",
       "</tbody>\n",
       "</table>\n"
      ],
      "text/latex": [
       "\\begin{tabular}{ll}\n",
       "\t 1 & 3\\\\\n",
       "\t 2 & 4\\\\\n",
       "\\end{tabular}\n"
      ],
      "text/markdown": [
       "\n",
       "| 1 | 3 | \n",
       "| 2 | 4 | \n",
       "\n",
       "\n"
      ],
      "text/plain": [
       "     [,1] [,2]\n",
       "[1,] 1    3   \n",
       "[2,] 2    4   "
      ]
     },
     "metadata": {},
     "output_type": "display_data"
    }
   ],
   "source": [
    "%put a b c d e\n",
    "%preview a b c d e"
   ]
  },
  {
   "cell_type": "markdown",
   "metadata": {},
   "source": [
    "As you can see, although `a` is technically an array with length 1 in `R`, it is convertered to an integer in SoS. Variables `b` and `c` are converted to the same type (`list`) although they are of different types in `R`. Variable `e` are converted from `R` matrix to `numpy` array. "
   ]
  },
  {
   "cell_type": "markdown",
   "metadata": {},
   "source": [
    "Sometimes a valid variale name in a subkernel is not a valid name in SoS/Python. SoS would automatically convert such names with a warning message. For example,"
   ]
  },
  {
   "cell_type": "code",
   "execution_count": 36,
   "metadata": {
    "collapsed": true,
    "kernel": "ir"
   },
   "outputs": [],
   "source": [
    ".a.b = 5"
   ]
  },
  {
   "cell_type": "code",
   "execution_count": 37,
   "metadata": {
    "kernel": "ir",
    "output_cache": "[{\"name\":\"stderr\",\"output_type\":\"stream\",\"text\":\"Variable .a.b is put to SoS as _a_b\\n\"},{\"data\":{\"text/html\":\"<pre><font color=\\\"green\\\">%preview _a_b</font></pre>\"},\"output_type\":\"display_data\",\"metadata\":{}},{\"data\":{\"text/plain\":\">>> _a_b:\\n\",\"text/html\":\"<pre><font color=\\\"green\\\">> _a_b:</font> int</pre>\"},\"output_type\":\"display_data\",\"metadata\":{}},{\"data\":{\"text/plain\":\"5\"},\"output_type\":\"display_data\",\"metadata\":{}}]"
   },
   "outputs": [
    {
     "name": "stderr",
     "output_type": "stream",
     "text": [
      "Variable .a.b is put to SoS as _a_b\n"
     ]
    },
    {
     "data": {
      "text/html": [
       "<pre><font color=\"green\">%preview _a_b</font></pre>"
      ]
     },
     "metadata": {},
     "output_type": "display_data"
    },
    {
     "data": {
      "text/html": [
       "<pre><font color=\"green\">> _a_b:</font> int</pre>"
      ],
      "text/plain": [
       ">>> _a_b:\n"
      ]
     },
     "metadata": {},
     "output_type": "display_data"
    },
    {
     "data": {
      "text/plain": [
       "5"
      ]
     },
     "metadata": {},
     "output_type": "display_data"
    }
   ],
   "source": [
    "%put .a.b\n",
    "%preview _a_b --kernel sos"
   ]
  },
  {
   "cell_type": "markdown",
   "metadata": {
    "output_cache": "[]"
   },
   "source": [
    "In addition to putting variables from subkernel to SoS, you can also put variables from SoS to subkernel, or from any subkernel to another, using parameter `--to`. For example,"
   ]
  },
  {
   "cell_type": "code",
   "execution_count": 38,
   "metadata": {
    "collapsed": true,
    "kernel": "ir",
    "output_cache": "[]"
   },
   "outputs": [],
   "source": [
    "R_var <- 'R variable'"
   ]
  },
  {
   "cell_type": "code",
   "execution_count": 39,
   "metadata": {
    "collapsed": true,
    "kernel": "ir",
    "output_cache": "[]"
   },
   "outputs": [],
   "source": [
    "%put --to Python3 R_var"
   ]
  },
  {
   "cell_type": "code",
   "execution_count": 40,
   "metadata": {
    "kernel": "python3",
    "output_cache": "[]"
   },
   "outputs": [
    {
     "data": {
      "text/plain": [
       "'R variable'"
      ]
     },
     "execution_count": 40,
     "metadata": {},
     "output_type": "execute_result"
    }
   ],
   "source": [
    "R_var"
   ]
  },
  {
   "cell_type": "markdown",
   "metadata": {},
   "source": [
    "### `%get`"
   ]
  },
  {
   "cell_type": "markdown",
   "metadata": {},
   "source": [
    "Magics `%get` retrieve variables from the SoS to the current subkernel started by magic `%use`. Only the `ir` and `python` kernels are currently supported. SoS tries to use the best matching data type for the conversion. More specifically,\n",
    "\n",
    "  \n",
    "  | Python  |  condition |   R |\n",
    "  | --- | --- |---|\n",
    "  | `None` | |    `NULL` |\n",
    "  | `boolean` |   | `logical` |\n",
    "  | `integer` |  |  `integer` |\n",
    "  | `float` |  |  `numeric` |\n",
    "  | `str` |  | `character` |\n",
    "  | Sequence (`list`, `tuple`, ...) |  homogenous type |  `c()` |\n",
    "  | Sequence (`list`, `tuple`, ...) |  multiple types |  `list` |\n",
    "  | `set` |  |  `list` |\n",
    "  | `dict` |  |  `list` with names |\n",
    "  | `numpy.ndarray` |  | `c()` array |\n",
    "  | `numpy.matrix` |  | `matrix` |\n",
    "  | `pandas.DataFrame` |  |  R `data.frame` |\n",
    "\n",
    "  Python objects in other datatypes are transferred as string `\"Unsupported datatype\"`."
   ]
  },
  {
   "cell_type": "markdown",
   "metadata": {},
   "source": [
    "For example,"
   ]
  },
  {
   "cell_type": "code",
   "execution_count": 41,
   "metadata": {
    "collapsed": true,
    "kernel": "sos"
   },
   "outputs": [],
   "source": [
    "%use sos\n",
    "a = [1, 2, 3]\n",
    "b = [1, 2, \"3\"]\n",
    "c = True"
   ]
  },
  {
   "cell_type": "code",
   "execution_count": 42,
   "metadata": {
    "kernel": "ir"
   },
   "outputs": [
    {
     "data": {
      "text/html": [
       "<ol class=list-inline>\n",
       "\t<li>1</li>\n",
       "\t<li>2</li>\n",
       "\t<li>3</li>\n",
       "</ol>\n"
      ],
      "text/latex": [
       "\\begin{enumerate*}\n",
       "\\item 1\n",
       "\\item 2\n",
       "\\item 3\n",
       "\\end{enumerate*}\n"
      ],
      "text/markdown": [
       "1. 1\n",
       "2. 2\n",
       "3. 3\n",
       "\n",
       "\n"
      ],
      "text/plain": [
       "[1] 1 2 3"
      ]
     },
     "metadata": {},
     "output_type": "display_data"
    }
   ],
   "source": [
    "%use R\n",
    "%get a b c\n",
    "a"
   ]
  },
  {
   "cell_type": "code",
   "execution_count": 43,
   "metadata": {
    "kernel": "ir"
   },
   "outputs": [
    {
     "data": {
      "text/html": [
       "<ol>\n",
       "\t<li>1</li>\n",
       "\t<li>2</li>\n",
       "\t<li>'3'</li>\n",
       "</ol>\n"
      ],
      "text/latex": [
       "\\begin{enumerate}\n",
       "\\item 1\n",
       "\\item 2\n",
       "\\item '3'\n",
       "\\end{enumerate}\n"
      ],
      "text/markdown": [
       "1. 1\n",
       "2. 2\n",
       "3. '3'\n",
       "\n",
       "\n"
      ],
      "text/plain": [
       "[[1]]\n",
       "[1] 1\n",
       "\n",
       "[[2]]\n",
       "[1] 2\n",
       "\n",
       "[[3]]\n",
       "[1] \"3\"\n"
      ]
     },
     "metadata": {},
     "output_type": "display_data"
    }
   ],
   "source": [
    "b"
   ]
  },
  {
   "cell_type": "code",
   "execution_count": 44,
   "metadata": {
    "kernel": "ir"
   },
   "outputs": [
    {
     "data": {
      "text/html": [
       "TRUE"
      ],
      "text/latex": [
       "TRUE"
      ],
      "text/markdown": [
       "TRUE"
      ],
      "text/plain": [
       "[1] TRUE"
      ]
     },
     "metadata": {},
     "output_type": "display_data"
    }
   ],
   "source": [
    "c"
   ]
  },
  {
   "cell_type": "markdown",
   "metadata": {},
   "source": [
    "The `%preview` magic cannot be used to preview variables in the subkernel so we have to list them one by one. As you can see, a Python list can be converted to `R` array or list depending on its content. "
   ]
  },
  {
   "cell_type": "markdown",
   "metadata": {},
   "source": [
    "Similar to the `%put` magic, SoS automatically translate variables with invalid Python names. For example"
   ]
  },
  {
   "cell_type": "code",
   "execution_count": 45,
   "metadata": {
    "collapsed": true,
    "kernel": "sos"
   },
   "outputs": [],
   "source": [
    "%use sos\n",
    "_var = 'Hi, Bob'"
   ]
  },
  {
   "cell_type": "code",
   "execution_count": 46,
   "metadata": {
    "kernel": "ir"
   },
   "outputs": [
    {
     "name": "stderr",
     "output_type": "stream",
     "text": [
      "Variable _var is passed from SoS to kernel ir as .var\n"
     ]
    },
    {
     "data": {
      "text/html": [
       "'Hi, Bob'"
      ],
      "text/latex": [
       "'Hi, Bob'"
      ],
      "text/markdown": [
       "'Hi, Bob'"
      ],
      "text/plain": [
       "[1] \"Hi, Bob\""
      ]
     },
     "metadata": {},
     "output_type": "display_data"
    }
   ],
   "source": [
    "%use R\n",
    "%get _var\n",
    ".var"
   ]
  },
  {
   "cell_type": "code",
   "execution_count": 47,
   "metadata": {
    "collapsed": true,
    "kernel": "sos",
    "output_cache": "[]"
   },
   "outputs": [],
   "source": [
    "%use sos"
   ]
  },
  {
   "cell_type": "markdown",
   "metadata": {
    "output_cache": "[]"
   },
   "source": [
    "Also similar to the `--to` option of magic `%put`, magic `%get` accept a parameter `--from` to get variables from SoS (default) any kernel. For example,"
   ]
  },
  {
   "cell_type": "code",
   "execution_count": 48,
   "metadata": {
    "collapsed": true,
    "kernel": "ir",
    "output_cache": "[]"
   },
   "outputs": [],
   "source": [
    "R_var <- 'R variable'"
   ]
  },
  {
   "cell_type": "code",
   "execution_count": 49,
   "metadata": {
    "kernel": "python3",
    "output_cache": "[{\"output_type\":\"execute_result\",\"data\":{\"text/plain\":\"'R variable'\"},\"metadata\":{},\"execution_count\":49}]"
   },
   "outputs": [
    {
     "data": {
      "text/plain": [
       "'R variable'"
      ]
     },
     "execution_count": 49,
     "metadata": {},
     "output_type": "execute_result"
    }
   ],
   "source": [
    "%get --from R R_var\n",
    "R_var"
   ]
  },
  {
   "cell_type": "markdown",
   "metadata": {},
   "source": [
    "### `%paste`"
   ]
  },
  {
   "cell_type": "markdown",
   "metadata": {},
   "source": [
    "This magic pastes content of clipboard to the cell and execute the cell. It is similar but sometimes more convenient than pasting the content using system shortcuts such as `Cmd-V` (mac). The additional options allow you to execute the pasted workflow with these options (see magic `%run` for details)."
   ]
  },
  {
   "cell_type": "markdown",
   "metadata": {},
   "source": [
    "### `%runcell`"
   ]
  },
  {
   "cell_type": "markdown",
   "metadata": {},
   "source": [
    "The `%runcell` magic allows you to run the content of a cell as a SoS workflow with specify SoS options such as `-v` (verbosity), `-j` (max number of jobs), and workflow options as defined by `parameter:` keyword. A complete list of arguments can be shown using the `-h` option."
   ]
  },
  {
   "cell_type": "code",
   "execution_count": 50,
   "metadata": {
    "kernel": "sos"
   },
   "outputs": [
    {
     "name": "stdout",
     "output_type": "stream",
     "text": [
      "usage: run [-h] [-J EXTERNAL_JOBS] [-c CONFIG_FILE] [-t FILE [FILE ...]]\n",
      "           [-b [BIN_DIR [BIN_DIR ...]]] [-q [QUEUE]] [-w] [-W]\n",
      "           [-r [REPORT_FILE]] [-n] [-s SIGMODE] [-d [DAG]] [-v {0,1,2,3,4}]\n",
      "           [WORKFLOW]\n",
      "\n",
      "Execute default or specified workflow defined in script\n",
      "\n",
      "positional arguments:\n",
      "  WORKFLOW              Name of the workflow to execute. This option can be\n",
      "                        ignored if the script defines a default workflow (with\n",
      "                        no name or with name `default`) or defines only a\n",
      "                        single workflow. A subworkflow or a combined workflow\n",
      "                        can also be specified, where a subworkflow executes a\n",
      "                        subset of workflow (`name_steps` where `steps` can be\n",
      "                        `n` (a step `n`), `:n` (up to step `n`), `n:m` (from\n",
      "                        step `n` to `m`), and `n:` (from step `n`)), and a\n",
      "                        combined workflow executes to multiple (sub)workflows\n",
      "                        combined by `+` (e.g. `A_0+B+C`).\n",
      "\n",
      "optional arguments:\n",
      "  -h, --help            show this help message and exit\n",
      "  -J EXTERNAL_JOBS      Maximum number of externally running tasks. This\n",
      "                        option overrides option \"max_running_jobs\" of a task\n",
      "                        queue (option -q) so that you can, for example, submit\n",
      "                        one job at a time (with -J 1) to test the task queue.\n",
      "  -c CONFIG_FILE        A configuration file in the format of YAML/JSON. The\n",
      "                        content of the configuration file will be available as\n",
      "                        a dictionary CONF in the SoS script being executed.\n",
      "  -t FILE [FILE ...]    One of more files or alias of other targets that will\n",
      "                        be the target of execution. If specified, SoS will\n",
      "                        execute only part of a workflow or multiple workflows\n",
      "                        or auxiliary steps to generate specified targets.\n",
      "  -b [BIN_DIR [BIN_DIR ...]]\n",
      "                        Extra directories in which SoS will look for\n",
      "                        executables before standard $PATH. This option\n",
      "                        essentially prefix $PATH with these directories. Note\n",
      "                        that the default value '~/.sos/bin' is by convention a\n",
      "                        default directory for commands that are installed by\n",
      "                        SoS. You can use option '-b' without value to disallow\n",
      "                        commands under ~/.sos/bin.\n",
      "  -q [QUEUE]            host (server) or job queues to execute all tasks in\n",
      "                        the workflow. The queue can be defined in global or\n",
      "                        local sos configuration file, or a file specified by\n",
      "                        option --config. A host is assumed to be a remote\n",
      "                        machine with process type if no configuration is\n",
      "                        found. SoS will list all configured queues (with\n",
      "                        details varying by option -v) if this option is\n",
      "                        specified without value.\n",
      "  -w                    Wait for the completion of external tasks regardless\n",
      "                        of the setting of individual task queue.\n",
      "  -W                    Do not wait for the completion of external tasks and\n",
      "                        quit SoS if all tasks are being executed by external\n",
      "                        task queues. This option overrides the default wait\n",
      "                        setting of task queues.\n",
      "  -r [REPORT_FILE]      Default output of action report, which is by default\n",
      "                        the standard output but you can redirect it to another\n",
      "                        file with this option. Files specified by this option\n",
      "                        will be interpolated so you can use names such as\n",
      "                        'out_${step_name}.md' to out to step-depedent files.\n",
      "\n",
      "Run mode options:\n",
      "  Control how sos scirpt is executed.\n",
      "\n",
      "  -n                    Execute a workflow in dryrun mode. Please check\n",
      "                        command sos dryrun for details of the dryrun mode.\n",
      "  -s SIGMODE            How runtime signature would be handled, which can be\n",
      "                        \"default\" (save and use signature, default mode in\n",
      "                        batch mode), \"ignore\" (ignore runtime signature,\n",
      "                        default mode in interactive mode), \"force\" (ignore\n",
      "                        existing signature and overwrite them while executing\n",
      "                        the workflow), \"build\" (build new or overwrite\n",
      "                        existing signature from existing environment and\n",
      "                        output files), and \"assert\" for validating existing\n",
      "                        files against their signatures. Please refer to online\n",
      "                        documentation for details about the use of runtime\n",
      "                        signatures.\n",
      "\n",
      "Output options:\n",
      "  Output of workflow\n",
      "\n",
      "  -d [DAG]              Output Direct Acyclic Graph (DAGs) in graphiviz .dot\n",
      "                        format. An exntesion of \".dot\" would be added\n",
      "                        automatically. Because DAG could change during the\n",
      "                        execution of workflow, multiple DAGs could be outputed\n",
      "                        with names $FILE_1.dot, $FILE_2.dot. If this option is\n",
      "                        specified without a name, the DAG would be wrritten to\n",
      "                        the standard output.\n",
      "  -v {0,1,2,3,4}        Output error (0), warning (1), info (2), debug (3) and\n",
      "                        trace (4) information to standard output (default to\n",
      "                        2).\n",
      "\n",
      "Arbitrary parameters defined by the [parameters] step of the script, and\n",
      "[parameters] steps of other scripts if nested workflows are defined in other\n",
      "SoS files (option `source`). The name, default and type of the parameters are\n",
      "specified in the script. Single value parameters should be passed using option\n",
      "`--name value` and multi-value parameters should be passed using option\n",
      "`--name value1 value2`.\n"
     ]
    }
   ],
   "source": [
    "%use sos\n",
    "%runcell -h"
   ]
  },
  {
   "cell_type": "markdown",
   "metadata": {},
   "source": [
    "### `%run`"
   ]
  },
  {
   "cell_type": "markdown",
   "metadata": {},
   "source": [
    "The `%run` option is a very special magic in that it **executes SoS steps defined in the entire notebook**. Essentially speaking, this magic\n",
    "\n",
    "* Collect the content of all SoS cells in the notebook that starts with a section header. Comments and magics before section header is allowed and is ignored.\n",
    "* Append the steps to the content of the step.\n",
    "* Execute the entire workflow with options specified by magic `%run`, as if executed from command `sos run`.\n",
    "\n",
    "For example,"
   ]
  },
  {
   "cell_type": "code",
   "execution_count": 51,
   "metadata": {
    "collapsed": true,
    "kernel": "sos"
   },
   "outputs": [],
   "source": [
    "[global]\n",
    "# this is the global section of a workflow\n",
    "gvar = 20"
   ]
  },
  {
   "cell_type": "code",
   "execution_count": 52,
   "metadata": {
    "kernel": "sos"
   },
   "outputs": [
    {
     "name": "stdout",
     "output_type": "stream",
     "text": [
      "This is step workflow_10\n"
     ]
    }
   ],
   "source": [
    "[workflow_10]\n",
    "print(\"This is step ${step_name}\")"
   ]
  },
  {
   "cell_type": "code",
   "execution_count": 53,
   "metadata": {
    "kernel": "sos"
   },
   "outputs": [
    {
     "name": "stdout",
     "output_type": "stream",
     "text": [
      "This is step workflow_20\n"
     ]
    }
   ],
   "source": [
    "[workflow_20]\n",
    "print(\"This is step ${step_name}\")"
   ]
  },
  {
   "cell_type": "code",
   "execution_count": 54,
   "metadata": {
    "kernel": "sos"
   },
   "outputs": [
    {
     "name": "stdout",
     "output_type": "stream",
     "text": [
      "This is step workflow_10\n",
      "This is step workflow_20\n"
     ]
    }
   ],
   "source": [
    "%run workflow"
   ]
  },
  {
   "cell_type": "markdown",
   "metadata": {},
   "source": [
    "The content of the workflow is displayed at the side panel (if opened) so that you know what has been collected. Using the workflow feature of SoS, you can execute cells of a notebook conditionally, repeatedly, with different parameters...\n",
    "\n",
    "The following example demonstrates how to execute a step repeated as a nested workflow of another workflow."
   ]
  },
  {
   "cell_type": "code",
   "execution_count": 55,
   "metadata": {
    "kernel": "sos"
   },
   "outputs": [
    {
     "name": "stdout",
     "output_type": "stream",
     "text": [
      "process 5\n"
     ]
    }
   ],
   "source": [
    "# this is a worker step\n",
    "[worker]\n",
    "parameter: val = 5\n",
    "sh:\n",
    "    echo process ${val}"
   ]
  },
  {
   "cell_type": "code",
   "execution_count": 56,
   "metadata": {
    "kernel": "sos"
   },
   "outputs": [
    {
     "name": "stdout",
     "output_type": "stream",
     "text": [
      "process 0\n",
      "process 1\n",
      "process 2\n",
      "process 3\n",
      "process 4\n"
     ]
    }
   ],
   "source": [
    "# this step will execute the previous cell multiple times\n",
    "%run batch\n",
    "[batch]\n",
    "input: for_each={'val': range(5)}\n",
    "sos_run('worker',val=val)"
   ]
  },
  {
   "cell_type": "markdown",
   "metadata": {},
   "source": [
    "### `%rerun`"
   ]
  },
  {
   "cell_type": "markdown",
   "metadata": {},
   "source": [
    "The `%rerun` magic re-executed the last script, which is basically content of the last cell without the magics. This allows you to re-run the last cell with or without a new set of parameters. Note that cells without a script (e.g. a cell with only magics) does not change the last executed script."
   ]
  },
  {
   "cell_type": "code",
   "execution_count": 57,
   "metadata": {
    "kernel": "sos"
   },
   "outputs": [
    {
     "name": "stdout",
     "output_type": "stream",
     "text": [
      "a is set to 10\n"
     ]
    }
   ],
   "source": [
    "parameter: a = 10\n",
    "[10]\n",
    "print(\"a is set to ${a}\")"
   ]
  },
  {
   "cell_type": "code",
   "execution_count": 58,
   "metadata": {
    "kernel": "sos"
   },
   "outputs": [
    {
     "name": "stdout",
     "output_type": "stream",
     "text": [
      "a is set to 20\n"
     ]
    }
   ],
   "source": [
    "%rerun --a 20"
   ]
  },
  {
   "cell_type": "markdown",
   "metadata": {},
   "source": [
    "### `%set`"
   ]
  },
  {
   "cell_type": "markdown",
   "metadata": {},
   "source": [
    "The `%set` magic sets a persistent sos options so you do not have to enter them each time after `%run` or `%paste`. For example, if you set `%set -v3`, you can execute all cells in the notebook at verbosity level 3 (`DEBUG`).\n",
    "\n",
    "Note that this magic only accepts keyword arguments (with leading `-` or `--`) so you cannot use it to specify a default workflow to execute."
   ]
  },
  {
   "cell_type": "code",
   "execution_count": 59,
   "metadata": {
    "kernel": "sos"
   },
   "outputs": [
    {
     "name": "stdout",
     "output_type": "stream",
     "text": [
      "Set sos options to \"-v2\"\n"
     ]
    },
    {
     "name": "stderr",
     "output_type": "stream",
     "text": [
      "INFO: Executing \u001b[32mcat_10\u001b[0m: \n",
      "INFO: input:    \u001b[32m[]\u001b[0m\n",
      "INFO: output:   \u001b[32m[]\u001b[0m\n",
      "INFO: Executing \u001b[32mcat_20\u001b[0m: \n",
      "INFO: input:    \u001b[32m[]\u001b[0m\n",
      "INFO: output:   \u001b[32m[]\u001b[0m\n"
     ]
    }
   ],
   "source": [
    "%set -v2\n",
    "[cat_10]\n",
    "[cat_20]"
   ]
  },
  {
   "cell_type": "code",
   "execution_count": 60,
   "metadata": {
    "kernel": "sos"
   },
   "outputs": [
    {
     "name": "stdout",
     "output_type": "stream",
     "text": [
      "Set sos options to \"-v1\"\n"
     ]
    }
   ],
   "source": [
    "%set -v1\n",
    "[mouse_10]\n",
    "[mouse_20]"
   ]
  },
  {
   "cell_type": "markdown",
   "metadata": {},
   "source": [
    "### `%matplotlib`\n",
    "\n",
    "Similar to ipython's `matplotlib` magic, the `%matplotlib inline` magic allows the display of matplotlib figures inline in Jupyter notebook or qtconsole."
   ]
  },
  {
   "cell_type": "code",
   "execution_count": 61,
   "metadata": {
    "collapsed": true,
    "kernel": "sos"
   },
   "outputs": [],
   "source": [
    "%matplotlib inline"
   ]
  },
  {
   "cell_type": "code",
   "execution_count": 62,
   "metadata": {
    "kernel": "sos"
   },
   "outputs": [
    {
     "data": {
      "image/png": "[encoded data removed]",
      "text/plain": [
       "<matplotlib.figure.Figure at 0x117156470>"
      ]
     },
     "metadata": {},
     "output_type": "display_data"
    }
   ],
   "source": [
    "import matplotlib.pyplot as plt\n",
    "import numpy as np\n",
    "x = np.linspace(0, 10)\n",
    "plt.plot(x, np.sin(x), '--', linewidth=2)\n",
    "plt.show()"
   ]
  },
  {
   "cell_type": "markdown",
   "metadata": {
    "kernel": "sos"
   },
   "source": [
    "### `%restart`\n",
    "\n",
    "`%restart` specified kernel without affecting the current working kernel. "
   ]
  },
  {
   "cell_type": "markdown",
   "metadata": {},
   "source": [
    "### `%dict` \n",
    "\n",
    "The `%dict` magic lists or rests the content of SoS dict, using syntax\n",
    "\n",
    "```\n",
    "%dict [-a|-all] [-k|--keys] [-r|--reset] [var1] [var2] ...\n",
    "```\n",
    "\n",
    "where\n",
    "\n",
    "* `var1`, `var2` etc are name of variables. All variables will be displayed if no variable is specified.\n",
    "* `-a|-all`: list all dictionary keys, including SoS functions and variables.\n",
    "* `-k|--keys`: list only keys, not their values\n",
    "* `-r|--reset`: reset the dictionary to its original content (with only SoS internal values)"
   ]
  },
  {
   "cell_type": "markdown",
   "metadata": {
    "collapsed": true,
    "kernel": "sos"
   },
   "source": [
    "For example, you can see all keys in the SoS dictionary using"
   ]
  },
  {
   "cell_type": "code",
   "execution_count": 63,
   "metadata": {
    "kernel": "sos"
   },
   "outputs": [
    {
     "data": {
      "text/plain": [
       "{'R_var',\n",
       " '_a_b',\n",
       " '_depends',\n",
       " '_index',\n",
       " '_input',\n",
       " '_local_input_0',\n",
       " '_local_input_1',\n",
       " '_local_input_2',\n",
       " '_local_input_3',\n",
       " '_local_input_4',\n",
       " '_local_output_0',\n",
       " '_local_output_1',\n",
       " '_local_output_2',\n",
       " '_local_output_3',\n",
       " '_local_output_4',\n",
       " '_output',\n",
       " '_runtime',\n",
       " '_var',\n",
       " 'a',\n",
       " 'b',\n",
       " 'c',\n",
       " 'd',\n",
       " 'data',\n",
       " 'e',\n",
       " 'filename',\n",
       " 'gvar',\n",
       " 'local_input',\n",
       " 'local_output',\n",
       " 'n',\n",
       " 'np',\n",
       " 'pd',\n",
       " 'plt',\n",
       " 'ran',\n",
       " 'ref_genome',\n",
       " 'res_path',\n",
       " 'sos_var',\n",
       " 'val',\n",
       " 'x'}"
      ]
     },
     "execution_count": 63,
     "metadata": {},
     "output_type": "execute_result"
    }
   ],
   "source": [
    "%dict --keys"
   ]
  },
  {
   "cell_type": "markdown",
   "metadata": {},
   "source": [
    "and reset the dictionary with the `--reset` option"
   ]
  },
  {
   "cell_type": "code",
   "execution_count": 64,
   "metadata": {
    "kernel": "sos"
   },
   "outputs": [
    {
     "data": {
      "text/plain": [
       "set()"
      ]
     },
     "execution_count": 64,
     "metadata": {},
     "output_type": "execute_result"
    }
   ],
   "source": [
    "%dict --reset\n",
    "%dict --keys"
   ]
  },
  {
   "cell_type": "markdown",
   "metadata": {
    "kernel": "sos"
   },
   "source": [
    "### `%sandbox`"
   ]
  },
  {
   "cell_type": "markdown",
   "metadata": {},
   "source": [
    "The `%sandbox` magic executes the current cell in the temporary directory with a separate dictionary so that it would change SoS dictionary and files in the current directory. \n",
    "\n",
    "This magic accepts three parameters:\n",
    "\n",
    "1. If `-d` or `--dir` is specified, sandbox will use the specified directory. It will create the directory if it is does not exist, and will not clean or remove the directory after the completion of execution.\n",
    "2. If `-k` or `--keep-dict` is specified, the cell would use the existing SoS dictionary instead of creating a new one.\n",
    "3. If `-e` or `--expect-error` is specified, the cell expects an error and would return `ok` only if an `error` occurs. In practice, this option would prevent Jupyter from stopping at a cell that expects an error when you execute the whole notebook with \"execute all\"."
   ]
  },
  {
   "cell_type": "markdown",
   "metadata": {
    "kernel": "sos"
   },
   "source": [
    "For example, this `ls` commands happens at the current directory"
   ]
  },
  {
   "cell_type": "code",
   "execution_count": 65,
   "metadata": {
    "kernel": "sos"
   },
   "outputs": [
    {
     "name": "stdout",
     "output_type": "stream",
     "text": [
      "Auxiliary_Steps.ipynb\n"
     ]
    }
   ],
   "source": [
    "!ls Auxil*"
   ]
  },
  {
   "cell_type": "markdown",
   "metadata": {
    "kernel": "sos"
   },
   "source": [
    "but the notebook is not available in the sandbox"
   ]
  },
  {
   "cell_type": "code",
   "execution_count": 66,
   "metadata": {
    "kernel": "sos"
   },
   "outputs": [
    {
     "name": "stderr",
     "output_type": "stream",
     "text": [
      "ls: Auxil*: No such file or directory\n"
     ]
    }
   ],
   "source": [
    "%sandbox\n",
    "!ls Auxil*"
   ]
  },
  {
   "cell_type": "markdown",
   "metadata": {},
   "source": [
    "and the sandbox dictionary is empty"
   ]
  },
  {
   "cell_type": "code",
   "execution_count": 67,
   "metadata": {
    "kernel": "sos"
   },
   "outputs": [
    {
     "data": {
      "text/plain": [
       "set()"
      ]
     },
     "execution_count": 67,
     "metadata": {},
     "output_type": "execute_result"
    }
   ],
   "source": [
    "%sandbox\n",
    "%dict --keys"
   ]
  },
  {
   "cell_type": "markdown",
   "metadata": {},
   "source": [
    "Note that the working directory of subkernels is not affected by the `%sandbox` magic."
   ]
  },
  {
   "cell_type": "markdown",
   "metadata": {
    "kernel": "sos"
   },
   "source": [
    "### `%cd`\n",
    "\n",
    "Change the current working directory of the SoS kernel to `dir`. The working directory of started subkernels is not affected."
   ]
  },
  {
   "cell_type": "markdown",
   "metadata": {
    "kernel": "sos"
   },
   "source": [
    "### `!shell-command`\n",
    "\n",
    "If any other command is entered after `!`, sos will treat the rest of the line as a shell command and execute it. Only single-line commands are supported. String interpolation is supported. Note that `!cd` does not change the current working directory because the command is executed in a separate process. Use magic `%cd` for that purpose."
   ]
  },
  {
   "cell_type": "markdown",
   "metadata": {
    "kernel": "sos"
   },
   "source": [
    "The command line would accept string interpolation so you can for example do"
   ]
  },
  {
   "cell_type": "code",
   "execution_count": 68,
   "metadata": {
    "collapsed": true,
    "kernel": "sos"
   },
   "outputs": [],
   "source": [
    "import tempfile\n",
    "filename = tempfile.mkstemp()[1]\n",
    "with open(filename, 'w') as out:\n",
    "  out.write('something\\n')    "
   ]
  },
  {
   "cell_type": "code",
   "execution_count": 69,
   "metadata": {
    "kernel": "sos"
   },
   "outputs": [
    {
     "name": "stdout",
     "output_type": "stream",
     "text": [
      "cat /var/folders/ys/gnzk0qbx5wbdgm531v82xxljv5yqy8/T/tmpbhqhy3qx\n",
      "## -- End interpolated command --\n",
      "something\n"
     ]
    }
   ],
   "source": [
    "!cat ${filename}"
   ]
  },
  {
   "cell_type": "code",
   "execution_count": 70,
   "metadata": {
    "kernel": "sos"
   },
   "outputs": [
    {
     "name": "stdout",
     "output_type": "stream",
     "text": [
      "rm /var/folders/ys/gnzk0qbx5wbdgm531v82xxljv5yqy8/T/tmpbhqhy3qx\n",
      "## -- End interpolated command --\n"
     ]
    }
   ],
   "source": [
    "# clean up\n",
    "!rm ${filename}"
   ]
  },
  {
   "cell_type": "markdown",
   "metadata": {},
   "source": [
    "## Code completion and variable inspection"
   ]
  },
  {
   "cell_type": "markdown",
   "metadata": {},
   "source": [
    "Code completion are very useful for you to work with a SoS environment. For example, you can enter `<tab>` in\n",
    "```\n",
    "%<tab>\n",
    "```\n",
    "to get a list of available magics, in\n",
    "```\n",
    "%get <tab>\n",
    "```\n",
    "to get a list of available variables, in\n",
    "```\n",
    "%get dat<tab>\n",
    "```\n",
    "to get a list of all variables starting with name `dat`, in\n",
    "```\n",
    "%cd ~/<tab>\n",
    "```\n",
    "to get a list of all files under the home directory, and in\n",
    "```\n",
    "prin<tab>\n",
    "```\n",
    "to complete the function call to `print` if `prin` matches only `print` in the SoS namespace."
   ]
  },
  {
   "cell_type": "markdown",
   "metadata": {},
   "source": [
    "Variable inspection is an often-forgotten feature that can be really useful when you work with the SoS kernel. Basically, if you land your cursor on any sos variable or keyword, enter `<Shift-Tab>` to get some information about the variable or keyword. It is often more convenient to use than the `%preview` magic especially if you do not want to keep the output in the notebook. "
   ]
  },
  {
   "cell_type": "markdown",
   "metadata": {},
   "source": [
    "## Conversion between `.ipynb` and `.sos` files\n",
    "\n",
    "You can save a Jupyter notebook with SoS kernel to a SoS script using `File -> Download As -> SoS` from the browser, or using command\n",
    "\n",
    "```\n",
    "$ sos convert myscript.ipynb myscript.sos\n",
    "```\n",
    "\n",
    "You can also convert an `.sos` script to `.ipynb` format using command\n",
    "\n",
    "```\n",
    "$ sos convert myscript.sos myscript.ipynb\n",
    "```\n",
    "\n",
    "or even to an executed notebook with option `--execute`\n",
    "\n",
    "```\n",
    "$ sos convert myscript.sos myscript.ipynb --execute\n",
    "```\n",
    "\n",
    "Please refer to the tutorial on [File Conversion](../tutorials/File_Conversion.html) for details of these commands."
   ]
  }
 ],
 "metadata": {
  "anaconda-cloud": {},
  "celltoolbar": "Select cell kernel",
  "kernelspec": {
   "display_name": "SoS",
   "language": "sos",
   "name": "sos"
  },
  "language_info": {
   "codemirror_mode": "sos",
   "file_extension": ".sos",
   "mimetype": "text/x-sos",
   "name": "sos",
   "nbconvert_exporter": "sos.jupyter.converter.SoS_Exporter",
   "pygments_lexer": "sos"
  },
  "sos": {
   "celltoolbar": true,
   "kernels": [
    [
     "sos",
     "SoS",
     ""
    ],
    [
     "ir",
     "R",
     "#FDEDEC"
    ],
    [
     "python3",
     "Python3",
     "#EAFAF1"
    ],
    [
     "bash",
     "Bash",
     "#E6EEFF"
    ],
    [
     "python2",
     "Python2",
     "#F6FAEA"
    ]
   ],
   "panel": {
    "displayed": false,
    "height": 0,
    "style": "side"
   }
  },
  "toc": {
   "colors": {
    "hover_highlight": "#DAA520",
    "running_highlight": "#FF0000",
    "selected_highlight": "#FFD700"
   },
   "moveMenuLeft": true,
   "nav_menu": {
    "height": "503px",
    "width": "254px"
   },
   "navigate_menu": true,
   "number_sections": true,
   "sideBar": true,
   "threshold": 4,
   "toc_cell": false,
   "toc_position": {
    "height": "923px",
    "left": "0px",
    "right": "1400.4px",
    "top": "107px",
    "width": "262px"
   },
   "toc_section_display": "block",
   "toc_window_display": true
  }
 },
 "nbformat": 4,
 "nbformat_minor": 1
}
