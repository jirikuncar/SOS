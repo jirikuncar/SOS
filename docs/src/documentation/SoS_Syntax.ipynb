{
 "cells": [
  {
   "cell_type": "markdown",
   "metadata": {},
   "source": [
    "# SoS Syntax"
   ]
  },
  {
   "cell_type": "markdown",
   "metadata": {
    "workflow_cell": true
   },
   "source": [
    "## Terminology & Grammar"
   ]
  },
  {
   "cell_type": "markdown",
   "metadata": {},
   "source": [
    "A SoS **script** defines one or more **workflows**, and each workflow consists of one or more **steps**. \n",
    "\n",
    "![workflow](../media/workflow.png)\n",
    "\n",
    "SoS steps are defined by SoS **sections**. A SoS **section** consists of a **header** with one or more step names and optional options. The body of a SoS section consists of optional **comments**, \n",
    "**statements**, **input**, **output**, **depends** directives, **parameter** definitions, and external **task**. \n",
    "\n",
    "![sos_step](../media/sos_step.png)\n"
   ]
  },
  {
   "cell_type": "markdown",
   "metadata": {
    "workflow_cell": true
   },
   "source": [
    "The following terms will be used throughout this documentation:\n",
    "\n",
    "* **Script**: A SoS script that defines one or more workflows.\n",
    "* **section**: A group of statements with a header that defines one or more SoS steps.\n",
    "* **Workflow**: A sequence of steps that can be executed to complete certain task.\n",
    "* **Step**: A step of a workflow that perform one piece of the workflow.\n",
    "* **Target**: Objects that are input and result of a SoS step, which are usually files, but can also be objects such as an executable command (with variable locations), and a SoS variable.\n",
    "* **Step options**: Options of the step that assist the definition of the workflow.\n",
    "* **Step input**: Specifies the input files of the step.\n",
    "* **Step output**: Specifies the output files and targets of the step.\n",
    "* **Step dependencies**: Specifies the files and targets that are required by the step.\n",
    "* **Step process**: The process that a step executes to complete specified work, specified as one or more Python statements. It consists of all statements after step input specification, or all statements in a step if no input is specified.\n",
    "* **Task**: Part or all step process that will be executed and monitored outside of SoS. These are usually resource intensive jobs that will take long time to complete.\n",
    "* **Action**: SoS or user-defined Python functions. They differ from regular Python functions in that they may behave differently in different running mode of SoS (e.g. ignore when executed in dryrun mode)."
   ]
  },
  {
   "cell_type": "markdown",
   "metadata": {
    "workflow_cell": true
   },
   "source": [
    "More formally defined, the SoS syntax obeys the following grammar, given in extended Backus-Naur form (EBNF):\n",
    "\n",
    "```\n",
    "Script         = {comment}, {step};\n",
    "comment        = \"#\", text, NEWLINE\n",
    "assignment     = name, \"=\", expression, NEWLINE\n",
    "```\n",
    "\n",
    "with SoS steps defined as\n",
    "\n",
    "```\n",
    "step           = [step_header],\n",
    "                 {comment}, {{statement}, [input | output | depends ]},\n",
    "                 [process, NEWLINE, {script} ]\n",
    "step_header    = \"[\", step_names, [\":\", names | options], \"]\", NEWLINE\n",
    "parameter      = \"parameter\", \":\", assignment\n",
    "input          = \"input\", \":\", [expressions], [\",\", options], NEWLINE\n",
    "output         = \"output\", \":\", [expressions], [\",\", options], NEWLINE\n",
    "depends        = \"depends\", \":\", [expressions], [\",\", options], NEWLINE\n",
    "task           = \"task\", \":\",  [options]\n",
    "action         = func_format | script_format\n",
    "func_format    = name, \"(\", [options], \")\"\n",
    "script_format  = name, \":\", [options], NEWLINE, script \n",
    "step_names     = step_name | step_pattern, [\"(\", text, \")\"],\n",
    "                 {\",\", step_name | steo_pattern, [\"(\", text, \")\"]}\n",
    "names          = name, {\",\", name}\n",
    "workflow       = name, ['_', steps], {\"+\", name, ['_', steps}\n",
    "assignment     = name, \"=\", expression, NEWLINW\n",
    "expressions    = expression, {\",\", expression}\n",
    "options        = option, {\",\" option}\n",
    "option         = name, \"=\", expression\n",
    "step_name      = letter, { letter | digit | \"-\" | \"_\" }\n",
    "step_pattern   = {letter | digit | \"*\" | \"?\" | \"-\" | \"_\"}\n",
    "```\n",
    "\n",
    "Here `name`, `expression` and `statement` are arbitrary [Python 3](http://www.python.org) names, expression and statements with added SoS features."
   ]
  },
  {
   "cell_type": "markdown",
   "metadata": {},
   "source": [
    "## Basic Syntax"
   ]
  },
  {
   "cell_type": "markdown",
   "metadata": {},
   "source": [
    "**SoS is based on the Python 3 programming language**. If you are unfamiliar with Python, you can learn some basics of Python, usually in less than half a day, by reading some Python tutorials (e.g. [the official python tutorial](https://docs.python.org/3/tutorial/)). This [short introduction](https://docs.python.org/3/tutorial/introduction.html) is good enough for you to get started.\n",
    "\n",
    "SoS addes the following syntax to standard Python syntax: "
   ]
  },
  {
   "cell_type": "markdown",
   "metadata": {},
   "source": [
    "### Script style function"
   ]
  },
  {
   "cell_type": "markdown",
   "metadata": {
    "workflow_cell": true
   },
   "source": [
    "SoS allows you to write SoS **actions** (basically a Python function) that accept a script (string) as the first parameter in a special script format. For example, an action `R` that executes a script\n",
    "\n",
    "```sos\n",
    "R(\"\"\"\n",
    "pdf('${_input}')\n",
    "plot(0, 0)\n",
    "dev.off()\n",
    "\"\"\", workdir='result')\n",
    "```\n",
    "\n",
    "can be written as\n",
    "\n",
    "```sos\n",
    "R:     workdir='result'\n",
    "pdf('${_input}')\n",
    "plot(0, 0)\n",
    "dev.off()\n",
    "```"
   ]
  },
  {
   "cell_type": "markdown",
   "metadata": {
    "workflow_cell": true
   },
   "source": [
    "**The script is a string without quotation marks** that subject to string interpolation (see below). You can also indent the script (add equal amount of leading white spaces to all lines) and write the action as\n",
    "\n",
    "```sos\n",
    "R:  workdir='result'\n",
    "   pdf('${_input}')\n",
    "   plot(0, 0)\n",
    "   dev.off()\n",
    "```\n",
    "\n",
    "The latter is much preferred because it avoids trouble if your script contains strings such as `[1]` and `option:` (and be treated as SoS directives), and more importantly, allows starting a new statement from a non-indented line. For example, `print('Hello world')` would be considered part of a R script in\n",
    "\n",
    "```sos\n",
    "R:  workdir='result'\n",
    "pdf('${_input}')\n",
    "plot(0, 0)\n",
    "dev.off()\n",
    "\n",
    "print('Hello world')\n",
    "```\n",
    "\n",
    "but a separate statement in \n",
    "\n",
    "```sos\n",
    "R:  workdir='result'\n",
    "   pdf('${_input}')\n",
    "   plot(0, 0)\n",
    "   dev.off()\n",
    "\n",
    "print('Hello world')\n",
    "```"
   ]
  },
  {
   "cell_type": "markdown",
   "metadata": {},
   "source": [
    "### String Interpolation"
   ]
  },
  {
   "cell_type": "markdown",
   "metadata": {},
   "source": [
    "On top of Python's `format` function, SoS uses string interpolation to format strings with expressions. Compared to other python string format methods, SoS' string interpolation feature\n",
    "\n",
    "* Does not require any prefix and is applied to only double quoted strings (`\" \"`, `\"\"\" \"\"\"`, `r\" \"`, and `r\"\"\" \"\"\"`).\n",
    "* Does not always use the default `__format__` function to get string represent objects. For example, `${[1,2]}` is interpolated as `1 2` instead of `[1, 2]` as other format methods do.\n",
    "* Allows more string converters, mostly for the conversion of filenames. For example, `'${\"filename.txt\"!a}'` would return the absolute path name of `filename.txt`.\n",
    "* Uses backslash to disable interpolation, and\n",
    "* Allows the use of alternative sigils."
   ]
  },
  {
   "cell_type": "markdown",
   "metadata": {},
   "source": [
    "Although configurable, the default sigil for SoS string interpolation is `'${ }'`, which means by default any expression between `${` and `}` would be evaluated by SoS. For example,"
   ]
  },
  {
   "cell_type": "code",
   "execution_count": 1,
   "metadata": {
    "kernel": "sos"
   },
   "outputs": [
    {
     "data": {
      "text/plain": [
       "'~/.sos/resources/hg19/refGenome.fasta'"
      ]
     },
     "execution_count": 1,
     "metadata": {},
     "output_type": "execute_result"
    }
   ],
   "source": [
    "resource_path = '~/.sos/resources'\n",
    "\"${resource_path}/hg19/refGenome.fasta\""
   ]
  },
  {
   "cell_type": "code",
   "execution_count": 2,
   "metadata": {
    "kernel": "sos"
   },
   "outputs": [
    {
     "data": {
      "text/plain": [
       "'Sample A results'"
      ]
     },
     "execution_count": 2,
     "metadata": {},
     "output_type": "execute_result"
    }
   ],
   "source": [
    "sample_names  = ['A', 'B', 'C']\n",
    "\"Sample ${sample_names[0]} results\""
   ]
  },
  {
   "cell_type": "code",
   "execution_count": 3,
   "metadata": {
    "kernel": "sos"
   },
   "outputs": [
    {
     "data": {
      "text/plain": [
       "'Samples A B C'"
      ]
     },
     "execution_count": 3,
     "metadata": {},
     "output_type": "execute_result"
    }
   ],
   "source": [
    "\"Samples ${sample_names}\""
   ]
  },
  {
   "cell_type": "code",
   "execution_count": 4,
   "metadata": {
    "kernel": "sos"
   },
   "outputs": [
    {
     "data": {
      "text/plain": [
       "'${sample_names} is not interpolated'"
      ]
     },
     "execution_count": 4,
     "metadata": {},
     "output_type": "execute_result"
    }
   ],
   "source": [
    "# single quoted strings are not interpolated\n",
    "'${sample_names} is not interpolated'"
   ]
  },
  {
   "cell_type": "markdown",
   "metadata": {},
   "source": [
    "SoS actions specified in **script format** is assumed to be in raw tripple quote and will be interpolated. For example, variable `num` is passed from SoS to a shell script in the following example"
   ]
  },
  {
   "cell_type": "code",
   "execution_count": 5,
   "metadata": {
    "kernel": "sos"
   },
   "outputs": [
    {
     "name": "stdout",
     "output_type": "stream",
     "text": [
      "Random number is 2\n"
     ]
    }
   ],
   "source": [
    "import random\n",
    "num = random.randint(1, 6)\n",
    "sh:\n",
    "    echo \"Random number is ${num}\""
   ]
  },
  {
   "cell_type": "markdown",
   "metadata": {},
   "source": [
    "As you might have noticed, SoS interpolation results do not always agree with what `format` function would produce. The biggest difference is that **string formatting and conversion are applied to elements of sequences** and joined by `' '` or `','`.\n",
    "\n",
    "|type |string representation | example | output|\n",
    "|-----|-----------------------|--------|--------|\n",
    "|`string`| `format(x)` | `'abc'` | `abc`|\n",
    "|`boolean`| `format(x)` | `True` | `True`|\n",
    "|`int`| `format(x)` | `123` | `123`|\n",
    "|`float`| `format(x)` | `1.23` | `1.23`|\n",
    "|`list`| `sep.join(format(k) for k in x)`|`['A.txt']`| `A.txt`|\n",
    "|`tuple`| `sep.join(format(k) for k in x)`|`(1, 2, 3)`| `1 2 3`|\n",
    "|`set`| `sep.join(format(k) for k in x)`|`['{1, '3'}`| `1 3` or `3 1`|\n",
    "|`dict`| `sep.join(format(k) for k in x.keys())`|`{'A': 'A.txt', 'B': 'B.txt'}`| `A B` or `B A`|\n",
    "\n",
    "For example,"
   ]
  },
  {
   "cell_type": "code",
   "execution_count": 6,
   "metadata": {
    "kernel": "sos"
   },
   "outputs": [
    {
     "data": {
      "text/plain": [
       "'James Bob Kathy'"
      ]
     },
     "execution_count": 6,
     "metadata": {},
     "output_type": "execute_result"
    }
   ],
   "source": [
    "names = ['James', 'Bob', 'Kathy']\n",
    "\"${names}\""
   ]
  },
  {
   "cell_type": "code",
   "execution_count": 7,
   "metadata": {
    "kernel": "sos"
   },
   "outputs": [
    {
     "data": {
      "text/plain": [
       "'Employees: Bob James Kathy'"
      ]
     },
     "execution_count": 7,
     "metadata": {},
     "output_type": "execute_result"
    }
   ],
   "source": [
    "salary = {'James': 20, 'Bob': 25, 'Kathy': 18}\n",
    "\"Employees: ${salary}\""
   ]
  },
  {
   "cell_type": "markdown",
   "metadata": {},
   "source": [
    "SoS string interpolation supports all string format and conversion specification as in the [Python string format specifier](https://docs.python.org/3/library/string.html#formatspec). That is to say, you can use `: specifier` at the end of the expression to control the format of the output. For example"
   ]
  },
  {
   "cell_type": "code",
   "execution_count": 8,
   "metadata": {
    "kernel": "sos"
   },
   "outputs": [
    {
     "data": {
      "text/plain": [
       "'0.33'"
      ]
     },
     "execution_count": 8,
     "metadata": {},
     "output_type": "execute_result"
    }
   ],
   "source": [
    "\"${1/3. :.2f}\""
   ]
  },
  {
   "cell_type": "code",
   "execution_count": 9,
   "metadata": {
    "kernel": "sos"
   },
   "outputs": [
    {
     "data": {
      "text/plain": [
       "'            test.sos'"
      ]
     },
     "execution_count": 9,
     "metadata": {},
     "output_type": "execute_result"
    }
   ],
   "source": [
    "filename = 'test.sos'\n",
    "\"${filename:>20}\""
   ]
  },
  {
   "cell_type": "markdown",
   "metadata": {},
   "source": [
    "SoS also extends the conversion operators of the standard Python string format string to give you more control on the string representation of objects, particularly file and directory names. The conversion operators should be specified after a `!` character.\n",
    "\n",
    "SoS currently supports the following convertors:\n",
    "\n",
    "\n",
    "| convertor | effect | input | output |\n",
    "| :----------| :----- | :----- | :-------|\n",
    "| `s`         | `str()`  | `${file1!s}` | `file 1.txt` |\n",
    "| `r`         | `repr()`  | `${file1!r}` | `'file 1.txt'` |\n",
    "| `q`         | `quoted()` | `${file1!q}` | `'file 1.txt'`|\n",
    "| `e`         | `replace(' ', '\\\\ ')` | `${file1!e}` | `file\\ 1.txt`|\n",
    "| `a`         | `abspath(expanduser())` |  `${file2!a}` | `/path/to/user/SoS/test.sos` |\n",
    "| `b`         | `basename())` |  `${file2!b}` | `test.sos` |\n",
    "| `d`         | `dirname())` |  `${file2!d}` | `/path/to/user/SoS/` |\n",
    "| `n`         | `splitext()[0]` | `${file2!n}` | `~/SoS/test` |\n",
    "| `u`         | `expanduser()` | `${file2!u}` | `/path/to/user/SoS/test.sos`|\n",
    "| `,`         | `','.join()` | `${files!,}` | `a.txt,b.txt`|\n",
    "\n",
    "\n",
    "here we assume\n",
    "\n",
    "```\n",
    "file1='file 1.txt'\n",
    "file2='~/SoS/test.sos'\n",
    "files=['a.txt', 'b.txt']\n",
    "```"
   ]
  },
  {
   "cell_type": "markdown",
   "metadata": {},
   "source": [
    "Depending on how your scripts handle filenames, it can be handy to pass filenames to scripts in expanded format. For example, it would be perfectly OK to pass `~/a.txt` to a shell script, but a `u` convertor should be added if you are passing the filename to a script that does not understand `~` in filenames. SoS makes it easy for you to pass filenames in different forms to underlying scripts. For example,"
   ]
  },
  {
   "cell_type": "code",
   "execution_count": 10,
   "metadata": {
    "kernel": "sos",
    "output_cache": "[]"
   },
   "outputs": [],
   "source": [
    "%preview name filename basefilename expanded parparname\n",
    "file = '~/sos/examples/update_toc.sos'\n",
    "name = \"${file!n}\"\n",
    "filename = \"${file!b}\"\n",
    "basefilename = \"${file!bn}\"\n",
    "expanded = \"${file!u}\"\n",
    "parparname = \"${file!ddb}\""
   ]
  },
  {
   "cell_type": "markdown",
   "metadata": {},
   "source": [
    "The last example is pretty interesting because it applies three converters and gets the name of grand-parent directory using an equivalence of `basename(dirname(dirname(file)))`."
   ]
  },
  {
   "cell_type": "markdown",
   "metadata": {},
   "source": [
    "Finally, the `,` converter can be used to output Python sequences with items separated by comma instead of space. For example, if you are passing a Python list as R literals, you can pass them as follows:"
   ]
  },
  {
   "cell_type": "code",
   "execution_count": 11,
   "metadata": {
    "kernel": "sos"
   },
   "outputs": [
    {
     "name": "stdout",
     "output_type": "stream",
     "text": [
      "[1] \"Bob\"   \"James\" \"Kathy\"\n"
     ]
    }
   ],
   "source": [
    "salary = {'James': 20, 'Bob': 25, 'Kathy': 18}\n",
    "R:\n",
    "    employee = c(${salary!,r})\n",
    "    print(employee)"
   ]
  },
  {
   "cell_type": "markdown",
   "metadata": {},
   "source": [
    "Here the `r` converter quotes the strings, and `,` converter joints the strings by `,`."
   ]
  },
  {
   "cell_type": "code",
   "execution_count": 12,
   "metadata": {
    "kernel": "sos"
   },
   "outputs": [
    {
     "data": {
      "text/plain": [
       "\"'Bob','James','Kathy'\""
      ]
     },
     "execution_count": 12,
     "metadata": {},
     "output_type": "execute_result"
    }
   ],
   "source": [
    "\"${salary!,r}\""
   ]
  },
  {
   "cell_type": "markdown",
   "metadata": {},
   "source": [
    "Although the SoS format specifiers are convenient to use, you are not limited to these rules and can define your own ways to present objects. For example"
   ]
  },
  {
   "cell_type": "code",
   "execution_count": 13,
   "metadata": {
    "kernel": "sos"
   },
   "outputs": [
    {
     "data": {
      "text/plain": [
       "\"c('James','Bob','Kathy')\""
      ]
     },
     "execution_count": 13,
     "metadata": {},
     "output_type": "execute_result"
    }
   ],
   "source": [
    "def r_list(obj):\n",
    "    return 'c(' + ','.join('{!r}'.format(x) for x in obj) + ')'\n",
    "\n",
    "\"${r_list(salary)}\""
   ]
  },
  {
   "cell_type": "markdown",
   "metadata": {},
   "source": [
    "#### Inclusion of sigil in string"
   ]
  },
  {
   "cell_type": "markdown",
   "metadata": {},
   "source": [
    "If you need to stop SoS from interpolating some expressions in a string, you can \n",
    "\n",
    "1. Use single quotes, or\n",
    "2. precede the SoS sigil with a backslash (`\\`)\n",
    "\n",
    "For example, the following script includes a shell script with shell variable `${file}` that is not interpolated by SoS:"
   ]
  },
  {
   "cell_type": "code",
   "execution_count": 14,
   "metadata": {
    "kernel": "sos"
   },
   "outputs": [
    {
     "name": "stdout",
     "output_type": "stream",
     "text": [
      "Sample A results\n",
      "Processing a.txt ...\n",
      "Processing b.txt ...\n",
      "Processing c.txt ...\n"
     ]
    }
   ],
   "source": [
    "sample_names  = ['A', 'B', 'C']\n",
    "title = \"Sample ${sample_names[0]} results\"\n",
    "sh:\n",
    "    echo ${title}\n",
    "    for file in a.txt b.txt c.txt\n",
    "    do\n",
    "        echo Processing \\${file} ...\n",
    "    done\n"
   ]
  },
  {
   "cell_type": "markdown",
   "metadata": {},
   "source": [
    "#### Alternative sigil"
   ]
  },
  {
   "cell_type": "markdown",
   "metadata": {},
   "source": [
    "If your SoS script contains long bash, perl, or other scripts in which `${ }` are frequently used, it can be tedious and error prone to backquote all sigils in these script. In this case you can assign an alternative sigil to the steps using a `sigil` section option.\n",
    "\n",
    "For example, the example above could be written as "
   ]
  },
  {
   "cell_type": "code",
   "execution_count": 15,
   "metadata": {
    "kernel": "sos"
   },
   "outputs": [
    {
     "name": "stdout",
     "output_type": "stream",
     "text": [
      "Sample A results\n",
      "Processing a.txt ...\n",
      "Processing b.txt ...\n",
      "Processing c.txt ...\n"
     ]
    }
   ],
   "source": [
    "%run\n",
    "[10: sigil='%( )']\n",
    "title = \"Sample %(sample_names[0]) results\"\n",
    "sh:\n",
    "    echo %(title)\n",
    "    for file in a.txt b.txt c.txt\n",
    "    do\n",
    "        echo Processing ${file} ...\n",
    "    done"
   ]
  },
  {
   "cell_type": "markdown",
   "metadata": {},
   "source": [
    "to use an alternative sigil for this particular step using a step option `sigil`."
   ]
  },
  {
   "cell_type": "markdown",
   "metadata": {},
   "source": [
    "You can define any sigil as long as it has a left sigil and a right sigil separated by a space. You can even use sigils with identical left and right sigil (e.g. `# #`), although the latter is more prone to errors"
   ]
  },
  {
   "cell_type": "markdown",
   "metadata": {},
   "source": [
    "### Command line options"
   ]
  },
  {
   "cell_type": "markdown",
   "metadata": {},
   "source": [
    "SoS allows you to define parameters that accept values from command line options easily. "
   ]
  },
  {
   "cell_type": "markdown",
   "metadata": {},
   "source": [
    "#### Optional arguments"
   ]
  },
  {
   "cell_type": "markdown",
   "metadata": {},
   "source": [
    "Any variable assignment prefixed with `parameter:` can accept values from command  line. The format of such lines are\n",
    "\n",
    "```\n",
    "# comment\n",
    "parameter: var_name = default_value\n",
    "```\n",
    "\n",
    "The default value can be number, string, list of string, or expressions that return values of these types. Other types can be used as long as they can be converted to these types from user-provided values. For example"
   ]
  },
  {
   "cell_type": "code",
   "execution_count": 16,
   "metadata": {
    "collapsed": true,
    "kernel": "sos"
   },
   "outputs": [],
   "source": [
    "# path to tool gatk\n",
    "parameter: gatk_path = '~/bin/GATK'"
   ]
  },
  {
   "cell_type": "markdown",
   "metadata": {},
   "source": [
    "defines a variable `gatk_path` with default value `'~/bin/GATK'`."
   ]
  },
  {
   "cell_type": "markdown",
   "metadata": {},
   "source": [
    "If you execute a workflow without defining `gatk_path`, the default value will be used"
   ]
  },
  {
   "cell_type": "code",
   "execution_count": 17,
   "metadata": {
    "kernel": "sos"
   },
   "outputs": [
    {
     "name": "stdout",
     "output_type": "stream",
     "text": [
      "~/bin/GATK\n"
     ]
    }
   ],
   "source": [
    "%run\n",
    "parameter: gatk_path = '~/bin/GATK'\n",
    "print(gatk_path)"
   ]
  },
  {
   "cell_type": "markdown",
   "metadata": {},
   "source": [
    "You can set this parameter from command line using option `--gatk_path`"
   ]
  },
  {
   "cell_type": "code",
   "execution_count": 18,
   "metadata": {
    "kernel": "sos"
   },
   "outputs": [
    {
     "name": "stdout",
     "output_type": "stream",
     "text": [
      "/my/GATK\n"
     ]
    }
   ],
   "source": [
    "%run --gatk_path /my/GATK\n",
    "parameter: gatk_path = '~/bin/GATK'\n",
    "print(gatk_path)"
   ]
  },
  {
   "cell_type": "markdown",
   "metadata": {},
   "source": [
    "You can also use `-` in place of `_` in command line, although the variable name cannot have `-` in it."
   ]
  },
  {
   "cell_type": "code",
   "execution_count": 19,
   "metadata": {
    "kernel": "sos"
   },
   "outputs": [
    {
     "name": "stdout",
     "output_type": "stream",
     "text": [
      "/my/GATK\n"
     ]
    }
   ],
   "source": [
    "%run --gatk-path /my/GATK\n",
    "parameter: gatk_path = '~/bin/GATK'\n",
    "print(gatk_path)"
   ]
  },
  {
   "cell_type": "markdown",
   "metadata": {},
   "source": [
    "The default value of the parameter determines the type of values it accepts. For example, the following command yields an error because the parameter expects an integer (from default value `0`) but a string is passed."
   ]
  },
  {
   "cell_type": "code",
   "execution_count": 20,
   "metadata": {},
   "outputs": [
    {
     "name": "stderr",
     "output_type": "stream",
     "text": [
      "Failed to process statement if \"sos_handle_parameter_\" in ...ff',  0\\n)\\n (ArgumentError): argument --cutoff: invalid int value: 'zero'\n"
     ]
    }
   ],
   "source": [
    "%sandbox --expect-error\n",
    "\n",
    "%run --cutoff zero\n",
    "parameter: cutoff = 0"
   ]
  },
  {
   "cell_type": "markdown",
   "metadata": {},
   "source": [
    "Simiarly, a list would be created if the parameter has a default value of type list"
   ]
  },
  {
   "cell_type": "code",
   "execution_count": 21,
   "metadata": {
    "kernel": "sos"
   },
   "outputs": [
    {
     "name": "stdout",
     "output_type": "stream",
     "text": [
      "['A']\n"
     ]
    }
   ],
   "source": [
    "%run --sample-names A\n",
    "parameter: sample_names = []\n",
    "print(sample_names)"
   ]
  },
  {
   "cell_type": "markdown",
   "metadata": {},
   "source": [
    "Finally, the convention to specify `True` or `False` of a boolean parameter is to use `--no-PARAM` for `PARAM=False`. For example,"
   ]
  },
  {
   "cell_type": "code",
   "execution_count": 22,
   "metadata": {
    "kernel": "sos"
   },
   "outputs": [
    {
     "name": "stdout",
     "output_type": "stream",
     "text": [
      "False\n"
     ]
    }
   ],
   "source": [
    "%run --no-trim\n",
    "parameter: trim=True\n",
    "print(trim)"
   ]
  },
  {
   "cell_type": "markdown",
   "metadata": {},
   "source": [
    "#### Required arguments"
   ]
  },
  {
   "cell_type": "markdown",
   "metadata": {},
   "source": [
    "In cases where there is no suitable default values and/or command line arguments are mandatary, you can list the type of arguments (e.g. `int`, `bool`, `str`, `list` of strings) in place of default values. This will force SoS to get a parameter from command line, and yield an error if no value is specified for this parameter.\n",
    "\n",
    "For example, if an integer parameter `cutoff` is required, you can define it as"
   ]
  },
  {
   "cell_type": "code",
   "execution_count": 23,
   "metadata": {},
   "outputs": [
    {
     "name": "stderr",
     "output_type": "stream",
     "text": [
      "Failed to process statement if \"sos_handle_parameter_\" in ...',  int\\n)\\n (ArgumentError): Argument cutoff of type int is required\n"
     ]
    }
   ],
   "source": [
    "%sandbox --expect-error\n",
    "\n",
    "# cutoff value\n",
    "parameter: cutoff = int"
   ]
  },
  {
   "cell_type": "markdown",
   "metadata": {},
   "source": [
    "and execute the workflow without parameter, SoS would fail with an error message. This will force the users to provide an integer to this parameter. You can do the same for lists but SoS assumes that you need a **list of strings**. For example, the following definition"
   ]
  },
  {
   "cell_type": "code",
   "execution_count": 24,
   "metadata": {
    "kernel": "sos"
   },
   "outputs": [
    {
     "name": "stdout",
     "output_type": "stream",
     "text": [
      "['A.bam', 'B.bam']\n"
     ]
    }
   ],
   "source": [
    "%run --bam-files A.bam B.bam\n",
    "# input bam files\n",
    "parameter: bam_files = list\n",
    "print(bam_files)"
   ]
  },
  {
   "cell_type": "markdown",
   "metadata": {},
   "source": [
    "request a list of strings from command line. SoS will return a list even if only one value is provided."
   ]
  },
  {
   "cell_type": "markdown",
   "metadata": {},
   "source": [
    "## Native SoS file format"
   ]
  },
  {
   "cell_type": "markdown",
   "metadata": {},
   "source": [
    "A sos script can be defined in a plain text file. A `.sos` suffix is recommended but not required. A SoS script consists of **sections** that define **steps** of one or more **workflows**."
   ]
  },
  {
   "cell_type": "markdown",
   "metadata": {},
   "source": [
    "A SoS script usually starts with lines\n",
    "\n",
    "```python\n",
    "#!/usr/bin/env sos-runner\n",
    "#fileformat=SOS1.0\n",
    "```\n",
    "\n",
    "The first line allows the script to be executed by command `sos-runner` if it is executed as an executable script. The second line tells SoS the format of the script. The `#fileformat` line does not have to be the first or second line but should be in the first comment block. The latest version of SOS format is assumed if no format line is present so it is a good practice to specify version of file format to make sure the script is interpreted correctly."
   ]
  },
  {
   "cell_type": "markdown",
   "metadata": {},
   "source": [
    "### Global section and default variables"
   ]
  },
  {
   "cell_type": "markdown",
   "metadata": {},
   "source": [
    "A global section can be defined without section header in a `.sos` file as statements before any other section, or as a regular section with header `[global]`. The global section is usually the first section in the script although it can be defined anywhere in the script if it contains a header."
   ]
  },
  {
   "cell_type": "markdown",
   "metadata": {},
   "source": [
    "Definitions in the global section are shared by all sections so it is usually used to define global variables and parameters. SoS implicitly defines the following variables in the global section:\n",
    "\n",
    "* **`SOS_VERSION`**: version of SoS interpreter.\n",
    "* **`CONFIG`**: A dictionary of configurations specified by the global sos configuration file (`~/.sos/config.yml`), host configuration file (`~/.sos/hosts.yml`), local configuration file (`./config.yml`) and a configuration file specified by command line option `-c`. The configuration files should be in [YAML format](http://www.yaml.org/start.html). Dictionaries defined in all these configuration files are merged to form a single dictionary `CONFIG`. Local and user-specified configurations override global configurations if a dictionary values conflict."
   ]
  },
  {
   "cell_type": "markdown",
   "metadata": {},
   "source": [
    "### SoS Sections"
   ]
  },
  {
   "cell_type": "markdown",
   "metadata": {},
   "source": [
    "A SoS section is marked by a section header in the format of\n",
    "\n",
    "```\n",
    "[names: options]\n",
    "```\n",
    "\n",
    "The header should start with a `[` from the beginning of a line and end with a `]`. It can contain one or more names with optional description (for each step) and section options (for all steps defined in the section)."
   ]
  },
  {
   "cell_type": "markdown",
   "metadata": {},
   "source": [
    "Section names of a section follow the following rules:\n",
    "\n",
    "| Format | Example | Usage |\n",
    "|--------|---| -------|\n",
    "| **`name_index`** |`human_10`|Defines step `index` of workflow `name`. Here `name` can be any name with alpha-numeric characters and `-` and `_`. `index` should be a non-negative number.|\n",
    "| **`name`** |`update-website`| Section name without index is equivalent to `name_0` |\n",
    "| **`index`** |`10`| Section name without workflow name is equivalent to `default_index`|\n",
    "| **`pattern_index`** |`*_0`, `human*_10`| Equivalent to step `index` of all matching workflows defined in the script. The `pattern` should follow [Unix filename matching](https://docs.python.org/2/library/fnmatch.html)|\n",
    "| **`stepname (desc)`**| `10 (align)`| Optional short description can be used to describe the goal of the step|\n",
    "| **`name1,name2,...`** |`human_10,mouse_10`| Comma separated names define multiple steps for one or more workflows|"
   ]
  },
  {
   "cell_type": "markdown",
   "metadata": {},
   "source": [
    "A SoS step accepts the following options:\n",
    "\n",
    "| Name | Example | Usage |\n",
    "|------|--------|---------|\n",
    "|**`skip`** | `skip` | Skip step |\n",
    "|           | `skip=False` | Conditional skip, `expr` should be evaluated as `True` or `False`|\n",
    "|**`sigil`**|`sigil='%( )'`| Use specified sigil for string interpolation for this section.|\n",
    "|**`shared`**|`shared='K'` | Variable that will be made available to the workflow after completion of the step |\n",
    "|     |`shared={'K': 'output[0]'}`| Variable as result of expression |\n",
    "|**`provides`**|`provides='filename'`| File that will be generated after the completion of the step. This option turns the step to an auxiliary step that will be executed when the provided target is needed. |\n",
    "| |`provides=executable('fastqc')`| Target that will be generated by the step|\n",
    "| |`provides='{filename}.bam.gz'`| Pattern of files so that the step could be executed to generate any file that matches the pattern.|\n",
    "| |`provides=['A1.txt', 'A2.txt']`| List of files or targets.|\n",
    "\n",
    "Please refer to section [SoS Step](SoS_Step.html) for more details on the options. "
   ]
  },
  {
   "cell_type": "markdown",
   "metadata": {},
   "source": [
    "A section can have arbitrary Python statements and SoS-specific statements that define the input, output, and dependent targets, and external tasks of the step.\n",
    "\n",
    "|Keyword|Example|Usage|\n",
    "|-------|-------|-----|\n",
    "|**`input`**| (unspecified) | Use output from previous step for a numbered step |\n",
    "|     | `input: 'test1.txt', 'text2.txt'` | Specified input files. List of files are flattened and joined. |\n",
    "|     | `input: '*.txt'` | All files that match specified pattern when the script is parsed|\n",
    "|     | `input: dynamic('*.txt')` | All files that match specified pattern when the step is executed|\n",
    "|**`depends`**| `depends: 'hg19.fa'`| Step depends on a specified file |\n",
    "|    |`depends: \"${_input}.idx\"`| Step depends on a file derived from input filename |\n",
    "|    |`depends: R_library('ggplot2')`| Step depends on a specific target|\n",
    "|**`output`**| (unspecified) | Step has no defined output |\n",
    "|   | `output: 'output.bam'` | Step generates specific output file|\n",
    "|   | `output: '${_input}.idx'`| Step generates output derived from input filename|\n",
    "|**`task`**|`task:`| Statements following the statement will be executed as an external task|\n",
    "\n",
    "These statements accept a large number of options to specify how input, output targets are processed and how external tasks are executed. Please refer to section [SoS step](SoS_Step.html) for more details about different types of steps and step options, and section [External Task](External_Task.html) on topics related to external tasks."
   ]
  },
  {
   "cell_type": "markdown",
   "metadata": {},
   "source": [
    "As an example for a complete script, the following script defines a workflow with a global section without header, and a workflow `gff` with two steps\n",
    "\n",
    "```sos\n",
    "#!/usr/bin/env sos-runner\n",
    "#fileformat=SOS1.0\n",
    "\n",
    "local_resource = '~/Resource/'\n",
    "data_dir       = '~/Data/bams/'\n",
    "resource_dir   = '${local_resource}/resources/hg19/Ensembl/Genes'\n",
    "\n",
    "# samples to be processed\n",
    "parameter: samples = ['s312', 's315', 's312a', 's315a']\n",
    "\n",
    "[gff_0]\n",
    "# download gene models from the MISO website\n",
    "output: '${resource_dir}/Home_sapiens.GRCh37.65.gff.zip'\n",
    "download: dest_dir=resource_dir, decompress=True\n",
    "    http://genes.mit.edu/burgelab/miso/annotations/gene-models/Homo_sapiens.GRCh37.65.gff.zip\n",
    "\n",
    "[gff_1]\n",
    "# Index gtf file using index_gff\n",
    "output: '${resource_dir}/${hg19_gff_index}/genes.gff'\n",
    "task:   working_dir=resource_dir\n",
    "run:    docker_image='mdabioinfo/miso:latest'\n",
    "    rm -rf ${hg19_gff_index}\n",
    "    index_gff --index ${hg19_gff_file} ${hg19_gff_index}\n",
    "```"
   ]
  },
  {
   "cell_type": "markdown",
   "metadata": {},
   "source": [
    "## Jupyter notebook format"
   ]
  },
  {
   "cell_type": "markdown",
   "metadata": {},
   "source": [
    "SoS provides a Jupyter frontend in which you can execute sos steps and workflows interactively or in batch mode. The Jupyter notebook format `.ipynb` can contain **markdown cells** and **code cells** with statements in SoS and any other supported languages (e.g. `R`)."
   ]
  },
  {
   "cell_type": "markdown",
   "metadata": {},
   "source": [
    "One or more SoS workflows can be defined in a `.ipynb` file from **code cells in SoS kernel that start with section headers**. For example, the same workflow defined in the `.sos` file could be defined in a Jupyter notebook, with cells starting with section headers as follows: "
   ]
  },
  {
   "cell_type": "code",
   "execution_count": 25,
   "metadata": {
    "collapsed": true,
    "kernel": "sos"
   },
   "outputs": [],
   "source": [
    "[global]\n",
    "local_resource = '~/Resource/'\n",
    "data_dir       = '~/Data/bams/'\n",
    "resource_dir   = '${local_resource}/resources/hg19/Ensembl/Genes'\n",
    "\n",
    "# samples to be processed\n",
    "parameter: samples = ['s312', 's315', 's312a', 's315a']"
   ]
  },
  {
   "cell_type": "code",
   "execution_count": 26,
   "metadata": {
    "collapsed": true,
    "kernel": "sos"
   },
   "outputs": [],
   "source": [
    "[gff_0]\n",
    "# download gene models from the MISO website\n",
    "output: '${resource_dir}/Home_sapiens.GRCh37.65.gff.zip'\n",
    "download: dest_dir=resource_dir, decompress=True\n",
    "    http://genes.mit.edu/burgelab/miso/annotations/gene-models/Homo_sapiens.GRCh37.65.gff.zip"
   ]
  },
  {
   "cell_type": "code",
   "execution_count": 27,
   "metadata": {
    "collapsed": true,
    "kernel": "sos"
   },
   "outputs": [],
   "source": [
    "# This is step 1 of the gff workflow\n",
    "[gff_1]\n",
    "# Index gtf file using index_gff\n",
    "output: '${resource_dir}/${hg19_gff_index}/genes.gff'\n",
    "task:   working_dir=resource_dir\n",
    "run:    docker_image='mdabioinfo/miso:latest'\n",
    "    rm -rf ${hg19_gff_index}\n",
    "    index_gff --index ${hg19_gff_file} ${hg19_gff_index}"
   ]
  },
  {
   "cell_type": "markdown",
   "metadata": {},
   "source": [
    "Note that\n",
    "1. The `[global]` section header is needed for the cell to be recognized as part of a workflow.\n",
    "2. Section headers can be defined after comments, magics, and empty lines. Here we use `%skip` magic to stop Jupyter from executing the cell (for example, when you execute the complete notebook using Cell -> Run all), but the steps would still be part of the workflow the notebook defines.\n",
    "3. A cell can define one or more steps, even a complete workflow.\n",
    "\n",
    "SoS commands such as `sos run` and `sos-runner` can execute workflows defined in `.ipynb` files directly."
   ]
  },
  {
   "cell_type": "markdown",
   "metadata": {},
   "source": [
    "## Workflow Specification"
   ]
  },
  {
   "cell_type": "markdown",
   "metadata": {},
   "source": [
    "### Forward-style workflows"
   ]
  },
  {
   "cell_type": "markdown",
   "metadata": {},
   "source": [
    "A SoS forward-style workflow has a name and one or more numbered steps. The workflows are defined from sections in a SoS script. \n",
    "\n",
    "For example, the following sections specify a workflow with four steps `5`, `10`, `20`, and `100`. The workflow steps can be specified in any order and do not have to be consecutive."
   ]
  },
  {
   "cell_type": "code",
   "execution_count": 28,
   "metadata": {
    "collapsed": true,
    "kernel": "sos"
   },
   "outputs": [],
   "source": [
    "[5]\n",
    "[20]\n",
    "[10]\n",
    "[100]"
   ]
  },
  {
   "cell_type": "markdown",
   "metadata": {},
   "source": [
    "A workflow specified in this way is the **`default`** workflow and is actually called `default` in SoS output. You can specify a workflow with name and give each step a short description as follows:"
   ]
  },
  {
   "cell_type": "code",
   "execution_count": 29,
   "metadata": {
    "collapsed": true,
    "kernel": "sos"
   },
   "outputs": [],
   "source": [
    "[mapping_5 (get data)]\n",
    "[mapping_20 (align)]\n",
    "[mapping_10 (quality control)]\n",
    "[mapping_100 (generate report)]"
   ]
  },
  {
   "cell_type": "markdown",
   "metadata": {},
   "source": [
    "A SoS script can define multiple workflows. For example, the following sections of SoS script defines two workflows named ``mouse`` and ``human``. "
   ]
  },
  {
   "cell_type": "code",
   "execution_count": 30,
   "metadata": {
    "collapsed": true,
    "kernel": "sos"
   },
   "outputs": [],
   "source": [
    "[mouse_10]\n",
    "[mouse_20]\n",
    "[mouse_30]\n",
    "[human_10]\n",
    "[human_20]\n",
    "[human_30]"
   ]
  },
  {
   "cell_type": "markdown",
   "metadata": {},
   "source": [
    "In this case, a command line option is needed to specify workflow name. This can be done by magic `%run` in Jupyter notebook, or a positional argument from the command line, e.g.\n",
    "\n",
    "```\n",
    "    % sos run myscript mouse\n",
    "```"
   ]
  },
  {
   "cell_type": "markdown",
   "metadata": {},
   "source": [
    "Note that the workflow argument is not needed if a `default` workflow is defined in the script like the following example"
   ]
  },
  {
   "cell_type": "code",
   "execution_count": 31,
   "metadata": {
    "collapsed": true,
    "kernel": "sos"
   },
   "outputs": [],
   "source": [
    "[10]\n",
    "[20]\n",
    "[30]\n",
    "[test_10]\n",
    "[test_20]\n",
    "[test_30]"
   ]
  },
  {
   "cell_type": "markdown",
   "metadata": {
    "collapsed": true
   },
   "source": [
    "Multiple steps can share a single step as follows"
   ]
  },
  {
   "cell_type": "code",
   "execution_count": 32,
   "metadata": {
    "collapsed": true,
    "kernel": "sos"
   },
   "outputs": [],
   "source": [
    "[mouse_10,human_10]\n",
    "[mouse_20]\n",
    "[human_20]\n",
    "[mouse_30,human_30]"
   ]
  },
  {
   "cell_type": "markdown",
   "metadata": {},
   "source": [
    "and wildcard steps can be used to define a step for multiple workflows:"
   ]
  },
  {
   "cell_type": "code",
   "execution_count": 33,
   "metadata": {
    "collapsed": true,
    "kernel": "sos"
   },
   "outputs": [],
   "source": [
    "%run mouse\n",
    "[*_10]\n",
    "[mouse_20]\n",
    "[human_20]\n",
    "[*_30]"
   ]
  },
  {
   "cell_type": "markdown",
   "metadata": {},
   "source": [
    "If the steps defined in a shared section is similar but not identical, it can use step variable (discussed elsewhere) `step_name` to behave differently in different workflows. In the following example, the variable `step_name` will be `mouse_20` or `human_20` depending on the workflow being executed, and is used to determine the correct reference genome for different workflows."
   ]
  },
  {
   "cell_type": "code",
   "execution_count": 34,
   "metadata": {
    "kernel": "sos"
   },
   "outputs": [],
   "source": [
    "[mouse_20,human_20]\n",
    "reference = \"/path/to/mouse/reference\" if \\\n",
    "  step_name.startswith('mouse') else \"/path/to/human/reference\"\n",
    "\n",
    "print(\"Reference genome ${reference} is used\")"
   ]
  },
  {
   "cell_type": "markdown",
   "metadata": {},
   "source": [
    "### Sub- and combined workflows"
   ]
  },
  {
   "cell_type": "markdown",
   "metadata": {},
   "source": [
    "Although workflows are defined separately with all their steps, they do not have to be executed in their entirety. A `subworkflow` refers to a workflow that is defined from one or more steps of an existing workflows. It is specified using syntax `workflow:[from-to]` where `from-to` can be `n` (step `n`), `-n` (up to `n`), `n-m` (step `n` to `m`) and `m-` (from `m`). For example"
   ]
  },
  {
   "cell_type": "markdown",
   "metadata": {},
   "source": [
    "```python\n",
    "A              # complete workflow A\n",
    "A:5-10         # step 5 to 10 of A\n",
    "A:50-          # step 50 up\n",
    "A:-10          # up to step 10 of A\n",
    "A:10           # step 10 of workflow A\n",
    "```"
   ]
  },
  {
   "cell_type": "markdown",
   "metadata": {},
   "source": [
    "In practice, the `-n` format is frequently used to execute part of the workflow for debudding purposes, for example:"
   ]
  },
  {
   "cell_type": "code",
   "execution_count": 35,
   "metadata": {
    "kernel": "sos"
   },
   "outputs": [
    {
     "name": "stdout",
     "output_type": "stream",
     "text": [
      "default_10\n",
      "default_20\n"
     ]
    }
   ],
   "source": [
    "%run default:-20\n",
    "[10]\n",
    "print(step_name)\n",
    "[20]\n",
    "print(step_name)\n",
    "[30]\n",
    "print(step_name)"
   ]
  },
  {
   "cell_type": "markdown",
   "metadata": {},
   "source": [
    "You can also combine subworkflows to execute multiple workflows one after another. For example,"
   ]
  },
  {
   "cell_type": "markdown",
   "metadata": {},
   "source": [
    "```python\n",
    "A + B          # workflow A, followed by B\n",
    "A:0 + B        # step 0 of A, followed by B\n",
    "A:-50 + B + C  # up to step 50 of workflow A, followed by B, and C\n",
    "```"
   ]
  },
  {
   "cell_type": "markdown",
   "metadata": {},
   "source": [
    "This syntax can be used from the command line, e.g.\n",
    "\n",
    "```bash\n",
    "sos-runner myscript align+call\n",
    "```\n",
    "\n",
    "or from the `%run` magic of Jupyter notebook"
   ]
  },
  {
   "cell_type": "code",
   "execution_count": 36,
   "metadata": {
    "kernel": "sos"
   },
   "outputs": [
    {
     "name": "stdout",
     "output_type": "stream",
     "text": [
      "check_10\n",
      "align_10\n",
      "align_20\n",
      "call_10\n",
      "call_20\n"
     ]
    }
   ],
   "source": [
    "#local run\n",
    "%run check+align+call\n",
    "[check_10]\n",
    "print(step_name)\n",
    "[align_10]\n",
    "print(step_name)\n",
    "[align_20]\n",
    "print(step_name)\n",
    "[call_10]\n",
    "print(step_name)\n",
    "[call_20]\n",
    "print(step_name)"
   ]
  },
  {
   "cell_type": "markdown",
   "metadata": {},
   "source": [
    "It is worth noting that combined workflow might work differently from when they are executed separately (e.g. default input of `B` is changed from empty to output of `A_0`), and it is up to the user to resolve conflicts between them."
   ]
  },
  {
   "cell_type": "markdown",
   "metadata": {},
   "source": [
    "### Nested workflow\n",
    "\n",
    "SoS also supports nested workflow in which a complete workflow is treated as part of a step process.\n",
    "The workflow is execute by SoS action `sos_run`, e.g.\n",
    "\n",
    "```python\n",
    "sos_run('A')            # execute workflow A\n",
    "sos_run('A + B')        # execute workflow B after A\n",
    "sos_run('D:-10 + C')    # execute up to step 10 of D and workflow C\n",
    "\n",
    "# execute user-specified aligner and caller workflows\n",
    "sos_run('${aligner} + ${caller}')  \n",
    "```"
   ]
  },
  {
   "cell_type": "markdown",
   "metadata": {},
   "source": [
    "In its simplest form, nested workflow allows you to define another workflow from existing ones. For example,"
   ]
  },
  {
   "cell_type": "code",
   "execution_count": 37,
   "metadata": {
    "kernel": "sos"
   },
   "outputs": [
    {
     "name": "stdout",
     "output_type": "stream",
     "text": [
      "align_10\n",
      "align_20\n",
      "call_10\n",
      "call_20\n"
     ]
    }
   ],
   "source": [
    "%run\n",
    "[align_10]\n",
    "print(step_name)\n",
    "[align_20]\n",
    "print(step_name)\n",
    "[call_10]\n",
    "print(step_name)\n",
    "[call_20]\n",
    "print(step_name)\n",
    "[default]\n",
    "sos_run('align+call')"
   ]
  },
  {
   "cell_type": "markdown",
   "metadata": {},
   "source": [
    "defines a nested workflow that combines workflows `align` and `call` so that the workflow will by default execute two workflows, but can also execute one of them as separate workflows `align` and `call`."
   ]
  },
  {
   "cell_type": "markdown",
   "metadata": {},
   "source": [
    "Nested workflow also allows you to define multiple mini-workflows and connect them freely. For example\n",
    "\n",
    "```python\n",
    "[a_1]\n",
    "[a_2]\n",
    "[b]\n",
    "[c]\n",
    "[d_1]\n",
    "sos_run('a+b')\n",
    "[d_2]\n",
    "sos_run('a+c')\n",
    "```\n",
    "\n",
    "defines workflows `d` that will execute steps `d_1`, `a_1`, `a_2`, `b_0`, `d_2`,  `a_1`, `a_2`, and `c_0`. "
   ]
  },
  {
   "cell_type": "markdown",
   "metadata": {},
   "source": [
    "Because `sos_run` is simply a SoS action and takes a string as its parameter, it allows very flexible ways to compose (e.g. determine workflow from command line arguments) and execute (e.g. repeated execution of workflows with different options or input files) complex workflows."
   ]
  },
  {
   "cell_type": "markdown",
   "metadata": {},
   "source": [
    "The `parameter` statement usually gets its value from command line. However, when a workflow is executed as a subworkflow by action `sos_run`, the `parameter` statement can get its value from the `args` or `**kwargs` parameters of `sos_run`.\n",
    "\n",
    "For example, when the `default` workflow of the following script is executed, `cutoff` takes its default value of `10`. "
   ]
  },
  {
   "cell_type": "code",
   "execution_count": 38,
   "metadata": {
    "kernel": "sos"
   },
   "outputs": [],
   "source": [
    "[default_1]\n",
    "parameter: cutoff=10\n",
    "sh:\n",
    "  echo ${cutoff}\n",
    "\n",
    "[batch]\n",
    "for cutoff in range(3):\n",
    "    sos_run('default', cutoff=cutoff)"
   ]
  },
  {
   "cell_type": "markdown",
   "metadata": {},
   "source": [
    "A command line argument can be used to set this parameter to `8`,"
   ]
  },
  {
   "cell_type": "code",
   "execution_count": 39,
   "metadata": {
    "kernel": "sos",
    "scrolled": true
   },
   "outputs": [],
   "source": [
    "%rerun --cutoff 8"
   ]
  },
  {
   "cell_type": "markdown",
   "metadata": {},
   "source": [
    "Now, if the workflow is called as a subworkflow of step `batch`, `sos_run` set up the environment so that the statement `parameter: cutoff=10` gets a different cutoff value pass by  `sos_run`."
   ]
  },
  {
   "cell_type": "code",
   "execution_count": 40,
   "metadata": {
    "kernel": "sos",
    "scrolled": false
   },
   "outputs": [],
   "source": [
    "%rerun batch "
   ]
  },
  {
   "cell_type": "markdown",
   "metadata": {},
   "source": [
    "### Makefile-style workflow"
   ]
  },
  {
   "cell_type": "markdown",
   "metadata": {},
   "source": [
    "Using [auxiliary steps](Auxiliary_Steps.html) that are only executed to provide desired output, a SoS workflow can consist of a graph with or without a \"stem\" with numbered forward-style steps. By specifying the targets of a workflow instead of which steps to execute, you essentially let SoS execute the required steps to generate the targets. For example,"
   ]
  },
  {
   "cell_type": "code",
   "execution_count": 41,
   "metadata": {
    "kernel": "sos",
    "scrolled": true
   },
   "outputs": [
    {
     "name": "stdout",
     "output_type": "stream",
     "text": [
      "Generating test.bam.bai\n",
      "Calling variants from test.bam with test.bam.bai to test.vcf\n"
     ]
    }
   ],
   "source": [
    "%sandbox\n",
    "\n",
    "!touch test.bam\n",
    "%run -t test.vcf\n",
    "\n",
    "# this step provides variable `var`\n",
    "[index: provides='{filename}.bam.bai']\n",
    "input: \"${filename}.bam\"\n",
    "sh:\n",
    "   echo \"Generating ${output}\"\n",
    "   touch ${output}\n",
    "\n",
    "[call: provides='{filename}.vcf']\n",
    "input:   \"${filename}.bam\"\n",
    "depends: \"${input}.bai\"\n",
    "sh:\n",
    "   echo \"Calling variants from ${input} with ${depends} to ${output}\"\n",
    "   touch ${output}"
   ]
  },
  {
   "cell_type": "markdown",
   "metadata": {},
   "source": [
    "In this example, instead of specifiying a workflow, a target `test.bam.bai` is requested. SoS checks all auxiliary steps and calls step `index` to generate `test.bam.bai`. After step `index` is completed, step `call` is executed again to produce the final requested target `test.vcf`."
   ]
  },
  {
   "cell_type": "markdown",
   "metadata": {},
   "source": [
    "The `-t` option could specify more than one targets and could be used in combination with a forward-style workflow. Please refer to [documentation on makefile-style workflows](Auxiliary_Steps.html) for more details."
   ]
  }
 ],
 "metadata": {
  "anaconda-cloud": {},
  "kernelspec": {
   "display_name": "SoS",
   "language": "sos",
   "name": "sos"
  },
  "language_info": {
   "codemirror_mode": "sos",
   "file_extension": ".sos",
   "mimetype": "text/x-sos",
   "name": "sos",
   "nbconvert_exporter": "sos.jupyter.converter.SoS_Exporter",
   "pygments_lexer": "sos"
  },
  "sos": {
   "celltoolbar": true,
   "kernels": [
    [
     "sos",
     "SoS",
     ""
    ],
    [
     "bash",
     "Bash",
     "#E6EEFF"
    ],
    [
     "python2",
     "Python2",
     "#F6FAEA"
    ],
    [
     "ir",
     "R",
     "#FDEDEC"
    ],
    [
     "python3",
     "Python3",
     "#EAFAF1"
    ]
   ],
   "panel": {
    "displayed": true,
    "height": 0,
    "style": "side"
   }
  },
  "toc": {
   "nav_menu": {
    "height": "386px",
    "width": "254px"
   },
   "navigate_menu": true,
   "number_sections": true,
   "sideBar": true,
   "threshold": 4,
   "toc_cell": false,
   "toc_section_display": "block",
   "toc_window_display": true
  }
 },
 "nbformat": 4,
 "nbformat_minor": 1
}
