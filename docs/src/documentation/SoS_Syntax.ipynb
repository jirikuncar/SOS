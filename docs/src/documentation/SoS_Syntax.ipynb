{
 "cells": [
  {
   "cell_type": "markdown",
   "metadata": {},
   "source": [
    "# SoS Syntax"
   ]
  },
  {
   "cell_type": "markdown",
   "metadata": {},
   "source": [
    "## Terminology & Grammar"
   ]
  },
  {
   "cell_type": "markdown",
   "metadata": {},
   "source": [
    "A SoS **script** defines one or more **workflows**, and each workflow consists of one or more **steps**. \n",
    "\n",
    "![workflow](../media/workflow.png)\n",
    "\n",
    "A SoS script contains **comments**, **statements**, and one or more SoS **steps**. A SoS **step** consists of a **header**\n",
    "with one or more step names and optional options. The body of a SoS step consists of optional **comments**, \n",
    "**statements**, **input**, **output**, **depends** directives, **parameter** definitions, followed by step **process**. "
   ]
  },
  {
   "cell_type": "markdown",
   "metadata": {},
   "source": [
    "More precisely,\n",
    "\n",
    "* **Script**: A SoS script that defines one or more workflows.\n",
    "* **section**: A group of statements with a header that defines one or more SoS steps.\n",
    "* **Workflow**: A sequence of steps that can be executed to complete certain task.\n",
    "* **Step**: A step of a workflow that perform one piece of the workflow.\n",
    "* **Target**: Objects that are input and result of a SoS step, which are usually files, but can also be objects such as an executable command (with variable locations), and a SoS variable.\n",
    "* **Step options**: Options of the step that assist the definition of the workflow.\n",
    "* **Step input**: Specifies the input files of the step.\n",
    "* **Step output**: Specifies the output files and targets of the step.\n",
    "* **Step dependencies**: Specifies the files and targets that are required by the step.\n",
    "* **Step process**: The process that a step executes to complete specified work, specified as one or more Python statements. \n",
    "* **Task**: Part or all step process that will be executed and monitored outside of SoS. These are usually resource intensive jobs that will take long time to complete.\n",
    "* **Action**: SoS or user-defined Python functions. They differ from regular Python functions in that they may behave differently in different running mode of SoS (e.g. ignore when executed in dryrun mode)."
   ]
  },
  {
   "cell_type": "markdown",
   "metadata": {},
   "source": [
    "More formally defined, the SoS syntax obeys the following grammar, given in extended Backus-Naur form (EBNF):\n",
    "\n",
    "```\n",
    "Script         = {comment}, {statement}, {step};\n",
    "comment        = \"#\", text, NEWLINE\n",
    "assignment     = name, \"=\", expression, NEWLINE\n",
    "```\n",
    "\n",
    "with SoS steps defined as\n",
    "\n",
    "```\n",
    "step           = step_header,\n",
    "                 {comment}, {{statement}, [input | output | depends ]},\n",
    "                 [process, NEWLINE, {script} ]\n",
    "step_header    = \"[\", section_names, [\":\", names | options], \"]\", NEWLINE\n",
    "parameter      = \"parameter\", \":\", assignment\n",
    "input          = \"input\", \":\", [expressions], [\",\", options], NEWLINE\n",
    "output         = \"output\", \":\", [expressions], [\",\", options], NEWLINE\n",
    "depends        = \"depends\", \":\", [expressions], [\",\", options], NEWLINE\n",
    "task           = \"task\", \":\",  [options]\n",
    "action         = func_format | script_format\n",
    "func_format    = name, \"(\", [options], \")\"\n",
    "script_format  = name, \":\", [options], NEWLINE, script \n",
    "section_names  = section_name, \",\", section_name\n",
    "section_name   = name, \"(\", text, \")\"\n",
    "names          = name, {\",\", name}\n",
    "workflow       = name, ['_', steps], {\"+\", name, ['_', steps}\n",
    "assignment     = name, \"=\", expression, NEWLINW\n",
    "expressions    = expression, {\",\", expression}\n",
    "options        = option, {\",\" option}\n",
    "option         = name, \"=\", expression\n",
    "```\n",
    "\n",
    "Here `name`, `expression` and `statement` are arbitrary [Python 3](http://www.python.org) names, expression and statements with added SoS features."
   ]
  },
  {
   "cell_type": "markdown",
   "metadata": {},
   "source": [
    "## Native SoS file format (`.sos`)"
   ]
  },
  {
   "cell_type": "markdown",
   "metadata": {},
   "source": [
    "A sos script can be defined in a plain text file. A `.sos` suffix is recommended but not required. A SoS script consists of **sections** that define **steps** of one or more **workflows**."
   ]
  },
  {
   "cell_type": "markdown",
   "metadata": {},
   "source": [
    "A SoS script usually starts with lines\n",
    "\n",
    "```python\n",
    "#!/usr/bin/env sos-runner\n",
    "#fileformat=SOS1.0\n",
    "```\n",
    "\n",
    "The first line allows the script to be executed by command `sos-runner` if it is executed as an executable script. The second line tells SoS the format of the script. The `#fileformat` line does not have to be the first or second line but should be in the first comment block. The latest version of SOS format is assumed if no format line is present so it is a good practice to specify version of file format to make sure the script is interpreted correctly."
   ]
  },
  {
   "cell_type": "markdown",
   "metadata": {},
   "source": [
    "### Global section and default variables"
   ]
  },
  {
   "cell_type": "markdown",
   "metadata": {},
   "source": [
    "A global section can be defined without section header in a `.sos` file as statements before any section, or as a regular section with header `[global]`. The global section is usually the first section in the script although it can be defined anywhere in the script if it contains a header."
   ]
  },
  {
   "cell_type": "markdown",
   "metadata": {},
   "source": [
    "Definitions in the global section are shared by all sections so it is usually used to define global variables and parameters. SoS implicitly defines the following variables in the global section:\n",
    "\n",
    "* **`SOS_VERSION`**: version of SoS interpreter.\n",
    "* **`CONFIG`**: A dictionary of configurations specified by the global sos configuration file (`~/.sos/config.yml`), host configuration file (`~/.sos/hosts.yml`), local configuration file (`./config.yml`) and a configuration file specified by command line option `-c`. The configuration files should be in [YAML format](http://www.yaml.org/start.html). Dictionaries defined in all these configuration files are merged to form a single dictionary `CONFIG`. Local and user-specified configurations override global configurations if a dictionary values conflict."
   ]
  },
  {
   "cell_type": "markdown",
   "metadata": {},
   "source": [
    "### SoS Sections"
   ]
  },
  {
   "cell_type": "markdown",
   "metadata": {},
   "source": [
    "A SoS section is marked by a section header in the format of\n",
    "\n",
    "```\n",
    "[names: options]\n",
    "```\n",
    "\n",
    "The header should start with a `[` from the beginning of a line and end with a `]`. It can contain one or more names with optional description (for each step) and section options (for all steps)."
   ]
  },
  {
   "cell_type": "markdown",
   "metadata": {},
   "source": [
    "Section names of a section follow the following rules:\n",
    "\n",
    "| format | example | usage |\n",
    "|--------|---| -------|\n",
    "| **`name_index`** |`human_10`|Defines step `index` of workflow `name`. Here `name` can be any name with alpha-numeric characters and `-` and `_`. `index` should be a non-negative number.|\n",
    "| **`name`** |`update-website`| Section name without index is equivalent to `name_0` |\n",
    "| **`index`** |`10`| Section name without workflow name is equivalent to `default_index`|\n",
    "| **`pattern_index`** |`*_0`, `human*_10`| Equivalent to step `index` of all matching workflows defined in the script. The `pattern` should follow [Unix filename matching](https://docs.python.org/2/library/fnmatch.html)|\n",
    "| **`stepname (desc)`**| `10 (align)`| Optional short description can be used to describe the goal of the step|\n",
    "| **`name1,name2,...`** |`human_10,mouse_10`| Comma separated names define multiple steps for one or more workflows|"
   ]
  },
  {
   "cell_type": "markdown",
   "metadata": {},
   "source": [
    "A section can have arbitrary Python statements and SoS-specific statements that define the input, output, and dependent targets, and external tasks of the step. These statements starts with keywords `input:`, `output:`, `depends:`, and `task:`. Please refer to [SoS step](SoS_Step.html) for more details about different types of steps, step options and these statements."
   ]
  },
  {
   "cell_type": "markdown",
   "metadata": {},
   "source": [
    "For example, the following script defines a workflow with a global section without header, and a workflow `gff` with two steps\n",
    "\n",
    "```sos\n",
    "#!/usr/bin/env sos-runner\n",
    "#fileformat=SOS1.0\n",
    "\n",
    "local_resource = '~/Resource/'\n",
    "data_dir       = '~/Data/bams/'\n",
    "resource_dir   = '${local_resource}/resources/hg19/Ensembl/Genes'\n",
    "\n",
    "# samples to be processed\n",
    "parameter: samples = ['s312', 's315', 's312a', 's315a']\n",
    "\n",
    "[gff_0]\n",
    "# download gene models from the MISO website\n",
    "output: '${resource_dir}/Home_sapiens.GRCh37.65.gff.zip'\n",
    "download: dest_dir=resource_dir, decompress=True\n",
    "    http://genes.mit.edu/burgelab/miso/annotations/gene-models/Homo_sapiens.GRCh37.65.gff.zip\n",
    "\n",
    "[gff_1]\n",
    "# Index gtf file using index_gff\n",
    "output: '${resource_dir}/${hg19_gff_index}/genes.gff'\n",
    "task:   working_dir=resource_dir\n",
    "run:    docker_image='mdabioinfo/miso:latest'\n",
    "    rm -rf ${hg19_gff_index}\n",
    "    index_gff --index ${hg19_gff_file} ${hg19_gff_index}\n",
    "```"
   ]
  },
  {
   "cell_type": "markdown",
   "metadata": {},
   "source": [
    "## Jupyter notebook format (`.ipynb` )"
   ]
  },
  {
   "cell_type": "markdown",
   "metadata": {},
   "source": [
    "SoS provides a Jupyter frontend in which you can execute sos steps and workflows interactively or in batch mode. The Jupyter notebook format `.ipynb` can contain **markdown cells** and **code cells** with statements in SoS and any other supported languages (e.g. `R`)."
   ]
  },
  {
   "cell_type": "markdown",
   "metadata": {},
   "source": [
    "One or more SoS workflows can be defined in a `.ipynb` file from **code cells in SoS kernel that start with section headers**. For example, the same workflow defined in the `.sos` file could be defined in a Jupyter notebook, with cells starting with section headers as follows: "
   ]
  },
  {
   "cell_type": "code",
   "execution_count": null,
   "metadata": {
    "collapsed": true,
    "kernel": "sos"
   },
   "outputs": [],
   "source": [
    "[global]\n",
    "local_resource = '~/Resource/'\n",
    "data_dir       = '~/Data/bams/'\n",
    "resource_dir   = '${local_resource}/resources/hg19/Ensembl/Genes'\n",
    "\n",
    "# samples to be processed\n",
    "parameter: samples = ['s312', 's315', 's312a', 's315a']"
   ]
  },
  {
   "cell_type": "code",
   "execution_count": null,
   "metadata": {
    "collapsed": true,
    "kernel": "sos"
   },
   "outputs": [],
   "source": [
    "[gff_0]\n",
    "# download gene models from the MISO website\n",
    "output: '${resource_dir}/Home_sapiens.GRCh37.65.gff.zip'\n",
    "download: dest_dir=resource_dir, decompress=True\n",
    "    http://genes.mit.edu/burgelab/miso/annotations/gene-models/Homo_sapiens.GRCh37.65.gff.zip"
   ]
  },
  {
   "cell_type": "code",
   "execution_count": null,
   "metadata": {
    "collapsed": true,
    "kernel": "sos"
   },
   "outputs": [],
   "source": [
    "# This is step 1 of the gff workflow\n",
    "\n",
    "[gff_1]\n",
    "# Index gtf file using index_gff\n",
    "output: '${resource_dir}/${hg19_gff_index}/genes.gff'\n",
    "task:   working_dir=resource_dir\n",
    "run:    docker_image='mdabioinfo/miso:latest'\n",
    "    rm -rf ${hg19_gff_index}\n",
    "    index_gff --index ${hg19_gff_file} ${hg19_gff_index}"
   ]
  },
  {
   "cell_type": "markdown",
   "metadata": {},
   "source": [
    "Note that\n",
    "1. The `[global]` section header is needed for the cell to be recognized as part of a workflow.\n",
    "2. Section headers can be defined after comments, magics, and empty lines.\n",
    "3. A cell can define one or more steps, even a complete workflow.\n",
    "\n",
    "SoS commands such as `sos run` and `sos-runner` can execute workflows defined in `.ipynb` files directly."
   ]
  },
  {
   "cell_type": "markdown",
   "metadata": {},
   "source": [
    "## Basic Syntax"
   ]
  },
  {
   "cell_type": "markdown",
   "metadata": {},
   "source": [
    "SoS is based on the Python 3 programming language. If you are unfamiliar with Python, you can learn some basics of Python, usually in less than half a day, by reading some Python tutorials (e.g. [the official python tutorial](https://docs.python.org/3/tutorial/)). This [short introduction](https://docs.python.org/3/tutorial/introduction.html) is good enough for you to get started.\n",
    "\n",
    "SoS addes the following syntax to standard Python syntax: "
   ]
  },
  {
   "cell_type": "markdown",
   "metadata": {},
   "source": [
    "### String Interpolation"
   ]
  },
  {
   "cell_type": "markdown",
   "metadata": {},
   "source": [
    "On top of Python's `format` function, SoS uses string interpolation to format strings with expressions. Unlike Python format string, SoS string interpolation **does not require any prefix**, and is **applied to only double quoted strings** (`\" \"`, `\"\"\" \"\"\"`, `r\" \"`, and `r\"\"\" \"\"\"`). Compared to python `format` function and the new format string (`f\" \"`), SoS' string interpolation feature\n",
    "\n",
    "1. Does not always use the default `__format__` function. For example, `${[1,2]}` would be interpolated as `1 2` instead of `[1, 2]` as a result of `{}'.format([1,2])` or `f'{[1, 2]}`.\n",
    "2. Allows more string converters, mostly for the conversion of filenames. For example, `'${\"filename.txt\"!a}'` would return the absolute path name of `filename.txt`.\n",
    "3. Uses backslash to disable interpolation, and\n",
    "4. Allows the use of alternative sigils."
   ]
  },
  {
   "cell_type": "markdown",
   "metadata": {},
   "source": [
    "Although configurable, the default sigil for SoS string interpolation is `'${ }'`, which means by default any expression between `${` and `}` would be evaluated by SoS. For example, expressions `resource_path`, `sample_names[0]` and `sample_names` would be replaced by their values in variables `ref_genome`, `title`, and `all_names`, but not in `single_quoted` because the string literal is quoted by single quotes. For convenience, we use a magic `%preview` of the SoS kernel to display the values of variables after the evaluation of the cell content."
   ]
  },
  {
   "cell_type": "code",
   "execution_count": 1,
   "metadata": {
    "kernel": "sos"
   },
   "outputs": [
    {
     "data": {
      "text/html": [
       "<pre><font color=\"green\">%preview ref_genome title all_names single_quoted</font></pre>"
      ]
     },
     "metadata": {},
     "output_type": "display_data"
    },
    {
     "data": {
      "text/html": [
       "<pre><font color=\"green\">> ref_genome:</font> str of length 37</pre>"
      ],
      "text/plain": [
       ">>> ref_genome:\n"
      ]
     },
     "metadata": {},
     "output_type": "display_data"
    },
    {
     "data": {
      "text/plain": [
       "'~/.sos/resources/hg19/refGenome.fasta'"
      ]
     },
     "metadata": {},
     "output_type": "display_data"
    },
    {
     "data": {
      "text/html": [
       "<pre><font color=\"green\">> title:</font> str of length 16</pre>"
      ],
      "text/plain": [
       ">>> title:\n"
      ]
     },
     "metadata": {},
     "output_type": "display_data"
    },
    {
     "data": {
      "text/plain": [
       "'Sample A results'"
      ]
     },
     "metadata": {},
     "output_type": "display_data"
    },
    {
     "data": {
      "text/html": [
       "<pre><font color=\"green\">> all_names:</font> str of length 13</pre>"
      ],
      "text/plain": [
       ">>> all_names:\n"
      ]
     },
     "metadata": {},
     "output_type": "display_data"
    },
    {
     "data": {
      "text/plain": [
       "'Samples A B C'"
      ]
     },
     "metadata": {},
     "output_type": "display_data"
    },
    {
     "data": {
      "text/html": [
       "<pre><font color=\"green\">> single_quoted:</font> str of length 35</pre>"
      ],
      "text/plain": [
       ">>> single_quoted:\n"
      ]
     },
     "metadata": {},
     "output_type": "display_data"
    },
    {
     "data": {
      "text/plain": [
       "'${sample_names} is not interpolated'"
      ]
     },
     "metadata": {},
     "output_type": "display_data"
    }
   ],
   "source": [
    "%preview ref_genome title all_names single_quoted\n",
    "\n",
    "resource_path = '~/.sos/resources'\n",
    "ref_genome    = \"${resource_path}/hg19/refGenome.fasta\"\n",
    "\n",
    "sample_names  = ['A', 'B', 'C']\n",
    "title         = \"Sample ${sample_names[0]} results\"\n",
    "all_names     = \"Samples ${sample_names}\"\n",
    "\n",
    "single_quoted = '${sample_names} is not interpolated'"
   ]
  },
  {
   "cell_type": "markdown",
   "metadata": {},
   "source": [
    "SoS actions specified in **script format** is assumed to be in raw tripple quote and will be interpolated. For example, variable `num` is passed from SoS to a shell script in the following example"
   ]
  },
  {
   "cell_type": "code",
   "execution_count": 2,
   "metadata": {
    "kernel": "sos"
   },
   "outputs": [
    {
     "name": "stdout",
     "output_type": "stream",
     "text": [
      "Random number is 2\n"
     ]
    }
   ],
   "source": [
    "import random\n",
    "num = random.randint(1, 6)\n",
    "run:\n",
    "    echo \"Random number is ${num}\""
   ]
  },
  {
   "cell_type": "markdown",
   "metadata": {},
   "source": [
    "because the code is equivalent to"
   ]
  },
  {
   "cell_type": "code",
   "execution_count": 3,
   "metadata": {
    "kernel": "sos"
   },
   "outputs": [
    {
     "name": "stdout",
     "output_type": "stream",
     "text": [
      "Random number is 4\n"
     ]
    }
   ],
   "source": [
    "import random\n",
    "num = random.randint(1, 6)\n",
    "run(r\"\"\"\n",
    "echo \"Random number is ${num}\"\n",
    "\"\"\")"
   ]
  },
  {
   "cell_type": "markdown",
   "metadata": {},
   "source": [
    "#### String representation of Objects"
   ]
  },
  {
   "cell_type": "markdown",
   "metadata": {},
   "source": [
    "SoS evaluate an expression and returns the string representation of the value.\n",
    "\n",
    "If the value is of simple Python types such as string, boolean, and numbers, the standard Python representation of the value (`repr(obj)`) will be returned."
   ]
  },
  {
   "cell_type": "code",
   "execution_count": 4,
   "metadata": {
    "kernel": "sos"
   },
   "outputs": [
    {
     "data": {
      "text/plain": [
       "'1024'"
      ]
     },
     "execution_count": 4,
     "metadata": {},
     "output_type": "execute_result"
    }
   ],
   "source": [
    "\"${2**10}\""
   ]
  },
  {
   "cell_type": "code",
   "execution_count": 5,
   "metadata": {
    "kernel": "sos"
   },
   "outputs": [
    {
     "data": {
      "text/plain": [
       "'Hi, Bob'"
      ]
     },
     "execution_count": 5,
     "metadata": {},
     "output_type": "execute_result"
    }
   ],
   "source": [
    "user = 'Bob'\n",
    "\"${\\\"Hi, \\\" + user}\""
   ]
  },
  {
   "cell_type": "markdown",
   "metadata": {},
   "source": [
    "For objects with an iterator interface (e.g. Python `list`, `tuple`, `dict`, and `set`), SoS join the string representation of each item by a space (or comma with `,` conversion flag). For example,\n",
    "\n",
    "  * List of strings will be converted to a string by joining strings with a space or comma.\n",
    "  * Dictionary of strings will be converted to a string by joining dictionary keys with no guarantee on the order of values."
   ]
  },
  {
   "cell_type": "code",
   "execution_count": 6,
   "metadata": {
    "kernel": "sos"
   },
   "outputs": [
    {
     "data": {
      "text/plain": [
       "'James Bob Kathy'"
      ]
     },
     "execution_count": 6,
     "metadata": {},
     "output_type": "execute_result"
    }
   ],
   "source": [
    "names = ['James', 'Bob', 'Kathy']\n",
    "\"${names}\""
   ]
  },
  {
   "cell_type": "code",
   "execution_count": 7,
   "metadata": {
    "kernel": "sos"
   },
   "outputs": [
    {
     "data": {
      "text/plain": [
       "'Employees: Bob James Kathy'"
      ]
     },
     "execution_count": 7,
     "metadata": {},
     "output_type": "execute_result"
    }
   ],
   "source": [
    "salary = {'James': 20, 'Bob': 25, 'Kathy': 18}\n",
    "\"Employees: ${salary}\""
   ]
  },
  {
   "cell_type": "markdown",
   "metadata": {},
   "source": [
    "It is worth noting that the step input and output variables (`input`, `output`, `depends`, and its looped version `_input`, `_output`, and `_depends`) are always list of targets. However, if the list contains only one filename, `\"${input}\"` would be the same as `\"${input[0]}\"`."
   ]
  },
  {
   "cell_type": "markdown",
   "metadata": {},
   "source": [
    "SoS string interpolation supports all string format and conversion specification as in the [Python string format specifier](https://docs.python.org/3/library/string.html#formatspec). That is to say, you can use `: specifier` at the end of the expression to control the format of the output. For example"
   ]
  },
  {
   "cell_type": "code",
   "execution_count": 8,
   "metadata": {
    "kernel": "sos"
   },
   "outputs": [
    {
     "data": {
      "text/plain": [
       "'0.33'"
      ]
     },
     "execution_count": 8,
     "metadata": {},
     "output_type": "execute_result"
    }
   ],
   "source": [
    "\"${1/3. :.2f}\""
   ]
  },
  {
   "cell_type": "code",
   "execution_count": 9,
   "metadata": {
    "kernel": "sos"
   },
   "outputs": [
    {
     "data": {
      "text/plain": [
       "'            test.sos'"
      ]
     },
     "execution_count": 9,
     "metadata": {},
     "output_type": "execute_result"
    }
   ],
   "source": [
    "filename = 'test.sos'\n",
    "\"${filename:>20}\""
   ]
  },
  {
   "cell_type": "markdown",
   "metadata": {},
   "source": [
    "SoS also extends the conversion operators of the standard Python string format string to give you more control on the string representation of objects, particularly file and directory names. The conversion operators should be specified after a `!` character.\n",
    "\n",
    "SoS currently supports the following convertors:\n",
    "\n",
    "\n",
    "| convertor | effect | input | output |\n",
    "| :----------| :----- | :----- | :-------|\n",
    "| `s`         | `str()`  | `${file1!s}` | `file 1.txt` |\n",
    "| `r`         | `repr()`  | `${file1!r}` | `'file 1.txt'` |\n",
    "| `q`         | `quoted()` | `${file1!q}` | `'file 1.txt'`|\n",
    "| `e`         | `replace(' ', '\\\\ ')` | `${file1!e}` | `file\\ 1.txt`|\n",
    "| `a`         | `abspath(expanduser())` |  `${file2!a}` | `/path/to/user/SoS/test.sos` |\n",
    "| `b`         | `basename())` |  `${file2!b}` | `test.sos` |\n",
    "| `d`         | `dirname())` |  `${file2!d}` | `/path/to/user/SoS/` |\n",
    "| `n`         | `splitext()[0]` | `${file2!n}` | `~/SoS/test` |\n",
    "| `u`         | `expanduser()` | `${file2!u}` | `/path/to/user/SoS/test.sos`|\n",
    "| `,`         | `','.join()` | `${files!,}` | `a.txt,b.txt`|\n",
    "\n",
    "\n",
    "here we assume\n",
    "\n",
    "```\n",
    "file1='file 1.txt'\n",
    "file2='~/SoS/test.sos'\n",
    "files=['a.txt', 'b.txt']\n",
    "```"
   ]
  },
  {
   "cell_type": "markdown",
   "metadata": {},
   "source": [
    "For example, if we need to create a file called `Bon Jovi.txt` and run"
   ]
  },
  {
   "cell_type": "code",
   "execution_count": 10,
   "metadata": {},
   "outputs": [
    {
     "name": "stdout",
     "output_type": "stream",
     "text": [
      "test Jovi.txt\n"
     ]
    },
    {
     "name": "stderr",
     "output_type": "stream",
     "text": [
      "cat: Jovi.txt: No such file or directory\n",
      "Failed to process statement run(r\"\"\"echo \"test\" > ${filena...name}\"\"\")\\n (RuntimeError): Failed to execute script (ret=1).\n",
      "Please use command\n",
      "\t``/bin/bash \\\n",
      "\t  /var/folders/ys/gnzk0qbx5wbdgm531v82xxljv5yqy8/T/tmp0q6rm6bx/.sos/interactive_0_0_2b5a234c``\n",
      "under \"/private/var/folders/ys/gnzk0qbx5wbdgm531v82xxljv5yqy8/T/tmp0q6rm6bx\" to test it.\n"
     ]
    }
   ],
   "source": [
    "%sandbox --expect-error\n",
    "filename = 'Bon Jovi.txt'\n",
    "run:\n",
    "    echo \"test\" > ${filename}\n",
    "    cat ${filename}"
   ]
  },
  {
   "cell_type": "markdown",
   "metadata": {},
   "source": [
    "We would get two files `Bon` and `Jovi.txt` because the command executed was actually\n",
    "\n",
    "```\n",
    "    echo \"test\" > Bon Jovi.txt\n",
    "    cat Bon Jovi.txt\n",
    "```"
   ]
  },
  {
   "cell_type": "markdown",
   "metadata": {},
   "source": [
    "To avoid such problems, you can quote the filename using the `q` (quoted) convertor"
   ]
  },
  {
   "cell_type": "code",
   "execution_count": 11,
   "metadata": {
    "kernel": "sos"
   },
   "outputs": [
    {
     "name": "stdout",
     "output_type": "stream",
     "text": [
      "test\n"
     ]
    }
   ],
   "source": [
    "run:\n",
    "   echo \"test\" > ${filename!q}\n",
    "   cat ${filename!q}"
   ]
  },
  {
   "cell_type": "markdown",
   "metadata": {},
   "source": [
    "Depending on how your scripts handle filenames, it can be handy to pass filenames to scripts in expanded format. For example, it would be perfectly OK to pass `~/a.txt` to a shell script, but a `u` convertor should be added if you are passing the filename to a script that does not understand `~` in filenames. SoS makes it easy for you to pass filenames in different forms to underlying scripts. For example,"
   ]
  },
  {
   "cell_type": "code",
   "execution_count": 12,
   "metadata": {
    "kernel": "sos",
    "output_cache": "[]"
   },
   "outputs": [
    {
     "data": {
      "text/html": [
       "<pre><font color=\"green\">%preview name filename basefilename expanded parparname</font></pre>"
      ]
     },
     "metadata": {},
     "output_type": "display_data"
    },
    {
     "data": {
      "text/html": [
       "<pre><font color=\"green\">> name:</font> str of length 25</pre>"
      ],
      "text/plain": [
       ">>> name:\n"
      ]
     },
     "metadata": {},
     "output_type": "display_data"
    },
    {
     "data": {
      "text/plain": [
       "'~/sos/examples/update_toc'"
      ]
     },
     "metadata": {},
     "output_type": "display_data"
    },
    {
     "data": {
      "text/html": [
       "<pre><font color=\"green\">> filename:</font> str of length 14</pre>"
      ],
      "text/plain": [
       ">>> filename:\n"
      ]
     },
     "metadata": {},
     "output_type": "display_data"
    },
    {
     "data": {
      "text/plain": [
       "'update_toc.sos'"
      ]
     },
     "metadata": {},
     "output_type": "display_data"
    },
    {
     "data": {
      "text/html": [
       "<pre><font color=\"green\">> basefilename:</font> str of length 10</pre>"
      ],
      "text/plain": [
       ">>> basefilename:\n"
      ]
     },
     "metadata": {},
     "output_type": "display_data"
    },
    {
     "data": {
      "text/plain": [
       "'update_toc'"
      ]
     },
     "metadata": {},
     "output_type": "display_data"
    },
    {
     "data": {
      "text/html": [
       "<pre><font color=\"green\">> expanded:</font> str of length 41</pre>"
      ],
      "text/plain": [
       ">>> expanded:\n"
      ]
     },
     "metadata": {},
     "output_type": "display_data"
    },
    {
     "data": {
      "text/plain": [
       "'/Users/bpeng1/sos/examples/update_toc.sos'"
      ]
     },
     "metadata": {},
     "output_type": "display_data"
    },
    {
     "data": {
      "text/html": [
       "<pre><font color=\"green\">> parparname:</font> str of length 3</pre>"
      ],
      "text/plain": [
       ">>> parparname:\n"
      ]
     },
     "metadata": {},
     "output_type": "display_data"
    },
    {
     "data": {
      "text/plain": [
       "'sos'"
      ]
     },
     "metadata": {},
     "output_type": "display_data"
    }
   ],
   "source": [
    "%preview name filename basefilename expanded parparname\n",
    "file = '~/sos/examples/update_toc.sos'\n",
    "name = \"${file!n}\"\n",
    "filename = \"${file!b}\"\n",
    "basefilename = \"${file!bn}\"\n",
    "expanded = \"${file!u}\"\n",
    "parparname = \"${file!ddb}\""
   ]
  },
  {
   "cell_type": "markdown",
   "metadata": {},
   "source": [
    "The last example is pretty interesting because it applies three converters and gets the name of grand-parent directory using an equivalence of `basename(dirname(dirname(file)))`."
   ]
  },
  {
   "cell_type": "markdown",
   "metadata": {},
   "source": [
    "Finally, the `,` converter can be used to output Python sequences with items separated by comma instead of space. For example, if you are passing a Python list as R literals, you can pass them as follows:"
   ]
  },
  {
   "cell_type": "code",
   "execution_count": 13,
   "metadata": {
    "kernel": "sos"
   },
   "outputs": [
    {
     "name": "stdout",
     "output_type": "stream",
     "text": [
      "[1] \"Bob\"   \"James\" \"Kathy\"\n"
     ]
    }
   ],
   "source": [
    "salary = {'James': 20, 'Bob': 25, 'Kathy': 18}\n",
    "R:\n",
    "    employee = c(${salary!,r})\n",
    "    print(employee)"
   ]
  },
  {
   "cell_type": "markdown",
   "metadata": {},
   "source": [
    "Here the `r` converter quotes the strings, and `,` converter joints the strings by `,`."
   ]
  },
  {
   "cell_type": "code",
   "execution_count": 14,
   "metadata": {
    "kernel": "sos"
   },
   "outputs": [
    {
     "data": {
      "text/plain": [
       "\"'Bob','James','Kathy'\""
      ]
     },
     "execution_count": 14,
     "metadata": {},
     "output_type": "execute_result"
    }
   ],
   "source": [
    "\"${salary!,r}\""
   ]
  },
  {
   "cell_type": "markdown",
   "metadata": {},
   "source": [
    "Although the SoS format specifiers are convenient to use, you are not limited to these rules and can define your own ways to present objects. For example"
   ]
  },
  {
   "cell_type": "code",
   "execution_count": 15,
   "metadata": {
    "kernel": "sos"
   },
   "outputs": [
    {
     "data": {
      "text/plain": [
       "\"c('James','Kathy','Bob')\""
      ]
     },
     "execution_count": 15,
     "metadata": {},
     "output_type": "execute_result"
    }
   ],
   "source": [
    "def r_list(obj):\n",
    "    return 'c(' + ','.join('{!r}'.format(x) for x in obj) + ')'\n",
    "\n",
    "\"${r_list(salary)}\""
   ]
  },
  {
   "cell_type": "markdown",
   "metadata": {},
   "source": [
    "#### Inclusion of sigil in string"
   ]
  },
  {
   "cell_type": "markdown",
   "metadata": {},
   "source": [
    "If you need to stop SoS from interpolating some expressions in a string, you can \n",
    "\n",
    "1. Use single quotes, or\n",
    "2. precede the SoS sigil with a backslash (`\\`)\n",
    "\n",
    "For example, the following script includes a shell script with shell variable `${file}` that is not interpolated by SoS:"
   ]
  },
  {
   "cell_type": "code",
   "execution_count": 16,
   "metadata": {
    "kernel": "sos"
   },
   "outputs": [
    {
     "name": "stdout",
     "output_type": "stream",
     "text": [
      "Sample A results\n",
      "Processing a.txt ...\n",
      "Processing b.txt ...\n",
      "Processing c.txt ...\n"
     ]
    }
   ],
   "source": [
    "[10]\n",
    "title = \"Sample ${sample_names[0]} results\"\n",
    "run:\n",
    "    echo ${title}\n",
    "    for file in a.txt b.txt c.txt\n",
    "    do\n",
    "        echo Processing \\${file} ...\n",
    "    done\n"
   ]
  },
  {
   "cell_type": "markdown",
   "metadata": {},
   "source": [
    "#### Alternative sigil"
   ]
  },
  {
   "cell_type": "markdown",
   "metadata": {},
   "source": [
    "If your SoS script contains long bash, perl, or other scripts in which `${ }` are frequently used, it can be tedious and error prone to backquote all sigils in these script. In this case you can assign an alternative sigil to the steps using a `sigil` section option.\n",
    "\n",
    "For example, the example above could be written as "
   ]
  },
  {
   "cell_type": "code",
   "execution_count": 17,
   "metadata": {
    "kernel": "sos"
   },
   "outputs": [
    {
     "name": "stdout",
     "output_type": "stream",
     "text": [
      "Sample A results\n",
      "Processing a.txt ...\n",
      "Processing b.txt ...\n",
      "Processing c.txt ...\n"
     ]
    }
   ],
   "source": [
    "[10: sigil='%( )']\n",
    "title = \"Sample %(sample_names[0]) results\"\n",
    "run:\n",
    "    echo %(title)\n",
    "    for file in a.txt b.txt c.txt\n",
    "    do\n",
    "        echo Processing ${file} ...\n",
    "    done"
   ]
  },
  {
   "cell_type": "markdown",
   "metadata": {},
   "source": [
    "to use an alternative sigil for this particular step using a step option `sigil`."
   ]
  },
  {
   "cell_type": "markdown",
   "metadata": {},
   "source": [
    "You can define any sigil as long as it has a left sigil and a right sigil separated by a space. You can even use sigils with identical left and right sigil (e.g. `# #`), although the latter is more prone to errors"
   ]
  },
  {
   "cell_type": "markdown",
   "metadata": {},
   "source": [
    "### Script style function"
   ]
  },
  {
   "cell_type": "markdown",
   "metadata": {},
   "source": [
    "SoS allows you to write SoS `action` (basically a Python function) that accept a script (string) as the first parameter in a special script format. For example,\n",
    "\n",
    "```sos\n",
    "R(\"\"\"\n",
    "pdf('${input}')\n",
    "plot(0, 0)\n",
    "dev.off()\n",
    "\"\"\", workdir='result')\n",
    "```\n",
    "\n",
    "can be written as\n",
    "\n",
    "```sos\n",
    "R:     workdir='result'\n",
    "pdf('${_input}')\n",
    "plot(0, 0)\n",
    "dev.off()\n",
    "```"
   ]
  },
  {
   "cell_type": "markdown",
   "metadata": {},
   "source": [
    "**The script is a string without quotation marks** and the normal string interpolation will take place. You can also indent the script (add equal amount of leading white spaces to all lines) and write the action as\n",
    "\n",
    "```sos\n",
    "R:  workdir='result'\n",
    "   pdf('${_input}')\n",
    "   plot(0, 0)\n",
    "   dev.off()\n",
    "```\n",
    "\n",
    "The latter is much preferred because it avoids trouble if your script contains strings such as `[1]` and `option:` (and be treated as SoS directives), and more importantly, allows starting a new statement from a non-indented line. For example, `print('Hello world')` would be considered part of a R script in\n",
    "\n",
    "```sos\n",
    "R:  workdir='result'\n",
    "pdf('${_input}')\n",
    "plot(0, 0)\n",
    "dev.off()\n",
    "\n",
    "print('Hello world')\n",
    "```\n",
    "\n",
    "but a separate statement in \n",
    "\n",
    "```sos\n",
    "R:  workdir='result'\n",
    "   pdf('${_input}')\n",
    "   plot(0, 0)\n",
    "   dev.off()\n",
    "\n",
    "print('Hello world')\n",
    "```\n",
    "\n",
    "Although the script format is more concise and easier to read, it is limited to actions that accept a string as its first parameter and cannot return value or be used within `try/except` of `if/else` statements."
   ]
  },
  {
   "cell_type": "markdown",
   "metadata": {},
   "source": [
    "## Workflow Specification"
   ]
  },
  {
   "cell_type": "markdown",
   "metadata": {},
   "source": [
    "### Forward-style workflows"
   ]
  },
  {
   "cell_type": "markdown",
   "metadata": {},
   "source": [
    "A SoS forward-style workflow has a name and one or more numbered steps. The workflows are defined from sections in a SoS script. \n",
    "\n",
    "For example, the following sections specify a workflow with four steps `5`, `10`, `20`, and `100`. The workflow steps can be specified in any order and do not have to be consecutive."
   ]
  },
  {
   "cell_type": "code",
   "execution_count": 3,
   "metadata": {
    "collapsed": true,
    "kernel": "sos"
   },
   "outputs": [],
   "source": [
    "[5]\n",
    "[20]\n",
    "[10]\n",
    "[100]"
   ]
  },
  {
   "cell_type": "markdown",
   "metadata": {},
   "source": [
    "A workflow specified in this way is the **`default`** workflow and is actually called `default` in SoS output. You can specify a workflow with name and give each step a short description as follows:"
   ]
  },
  {
   "cell_type": "code",
   "execution_count": 4,
   "metadata": {
    "collapsed": true,
    "kernel": "sos"
   },
   "outputs": [],
   "source": [
    "[mapping_5 (get data)]\n",
    "[mapping_20 (align)]\n",
    "[mapping_10 (quality control)]\n",
    "[mapping_100 (generate report)]"
   ]
  },
  {
   "cell_type": "markdown",
   "metadata": {},
   "source": [
    "A SoS script can define multiple workflows. For example, the following sections of SoS script defines two workflows named ``mouse`` and ``human``. "
   ]
  },
  {
   "cell_type": "code",
   "execution_count": 13,
   "metadata": {
    "collapsed": true,
    "kernel": "sos"
   },
   "outputs": [],
   "source": [
    "%run mouse\n",
    "[mouse_10]\n",
    "[mouse_20]\n",
    "[mouse_30]\n",
    "[human_10]\n",
    "[human_20]\n",
    "[human_30]"
   ]
  },
  {
   "cell_type": "markdown",
   "metadata": {},
   "source": [
    "In this case, a command line option is needed to specify workflow name. This can be done by magic `%run` in Jupyter notebook, or a positional argument from the command line, e.g.\n",
    "\n",
    "```\n",
    "    % sos run myscript mouse\n",
    "```"
   ]
  },
  {
   "cell_type": "markdown",
   "metadata": {},
   "source": [
    "Note that the workflow argument is not needed if a `default` workflow is defined in the script like the following example"
   ]
  },
  {
   "cell_type": "code",
   "execution_count": 14,
   "metadata": {
    "collapsed": true,
    "kernel": "sos"
   },
   "outputs": [],
   "source": [
    "[10]\n",
    "[20]\n",
    "[30]\n",
    "[test_10]\n",
    "[test_20]\n",
    "[test_30]"
   ]
  },
  {
   "cell_type": "code",
   "execution_count": null,
   "metadata": {
    "collapsed": true
   },
   "outputs": [],
   "source": [
    "Multiple steps can share a single step as follows"
   ]
  },
  {
   "cell_type": "code",
   "execution_count": 16,
   "metadata": {
    "collapsed": true,
    "kernel": "sos"
   },
   "outputs": [],
   "source": [
    "%run mouse\n",
    "[mouse_10,human_10]\n",
    "[mouse_20]\n",
    "[human_20]\n",
    "[mouse_30,human_30]"
   ]
  },
  {
   "cell_type": "markdown",
   "metadata": {},
   "source": [
    "and wildcard steps can be used to define a step for multiple workflows:"
   ]
  },
  {
   "cell_type": "code",
   "execution_count": 17,
   "metadata": {
    "collapsed": true,
    "kernel": "sos"
   },
   "outputs": [],
   "source": [
    "%run mouse\n",
    "[*_10]\n",
    "[mouse_20]\n",
    "[human_20]\n",
    "[*_30]"
   ]
  },
  {
   "cell_type": "markdown",
   "metadata": {},
   "source": [
    "If the steps defined in a shared section is similar but not identical, it can use step variable (discussed elsewhere) `step_name` to behave differently in different workflows. In the following example, the variable `step_name` will be `mouse_20` or `human_20` depending on the workflow being executed, and is used to determine the correct reference genome for different workflows."
   ]
  },
  {
   "cell_type": "code",
   "execution_count": 16,
   "metadata": {
    "kernel": "sos"
   },
   "outputs": [
    {
     "name": "stderr",
     "output_type": "stream",
     "text": [
      "INFO: Executing \u001b[32mmouse_20\u001b[0m: \n",
      "INFO: input:    \u001b[32m[]\u001b[0m\n",
      "INFO: output:   \u001b[32m[]\u001b[0m\n"
     ]
    },
    {
     "name": "stdout",
     "output_type": "stream",
     "text": [
      "Reference genome /path/to/mouse/reference is used\n"
     ]
    }
   ],
   "source": [
    "%run mouse -v2\n",
    "[mouse_20,human_20]\n",
    "reference = \"/path/to/mouse/reference\" if \\\n",
    "  step_name.startswith('mouse') else \"/path/to/human/reference\"\n",
    "\n",
    "print(\"Reference genome ${reference} is used\")"
   ]
  },
  {
   "cell_type": "markdown",
   "metadata": {},
   "source": [
    "### Sub- and combined workflows"
   ]
  },
  {
   "cell_type": "markdown",
   "metadata": {},
   "source": [
    "Although workflows are defined separately with all their steps, they do not have to be executed in their entirety. A `subworkflow` refers to a workflow that is defined from one or more steps of an existing workflows. It is specified using syntax `workflow:[from-to]` where `from-to` can be `n` (step `n`), `-n` (up to `n`), `n-m` (step `n` to `m`) and `m-` (from `m`). For example"
   ]
  },
  {
   "cell_type": "markdown",
   "metadata": {},
   "source": [
    "  ```python\n",
    "  A              # complete workflow A\n",
    "  A:5-10         # step 5 to 10 of A\n",
    "  A:50-          # step 50 up\n",
    "  A:-10          # up to step 10 of A\n",
    "  A:10           # step 10 of workflow A\n",
    "  ```"
   ]
  },
  {
   "cell_type": "markdown",
   "metadata": {},
   "source": [
    "In practice, the `-n` format is frequently used to execute part of the workflow for debudding purposes, for example:"
   ]
  },
  {
   "cell_type": "code",
   "execution_count": 17,
   "metadata": {
    "kernel": "sos"
   },
   "outputs": [
    {
     "name": "stderr",
     "output_type": "stream",
     "text": [
      "INFO: Executing \u001b[32mdefault_10\u001b[0m: \n",
      "INFO: input:    \u001b[32m[]\u001b[0m\n",
      "INFO: output:   \u001b[32m[]\u001b[0m\n",
      "INFO: Executing \u001b[32mdefault_20\u001b[0m: \n",
      "INFO: input:    \u001b[32m[]\u001b[0m\n",
      "INFO: output:   \u001b[32m[]\u001b[0m\n"
     ]
    }
   ],
   "source": [
    "%run default:-20\n",
    "[10]\n",
    "[20]\n",
    "[30]"
   ]
  },
  {
   "cell_type": "markdown",
   "metadata": {},
   "source": [
    "You can also combine subworkflows to execute multiple workflows one after another. For example,"
   ]
  },
  {
   "cell_type": "markdown",
   "metadata": {},
   "source": [
    "```python\n",
    "A + B          # workflow A, followed by B\n",
    "A:0 + B        # step 0 of A, followed by B\n",
    "A:-50 + B + C  # up to step 50 of workflow A, followed by B, and C\n",
    "```"
   ]
  },
  {
   "cell_type": "markdown",
   "metadata": {},
   "source": [
    "This syntax can be used from the command line, e.g.\n",
    "\n",
    "```bash\n",
    "sos-runner myscript align+call\n",
    "```\n",
    "\n",
    "or from the `%run` magic of Jupyter notebook"
   ]
  },
  {
   "cell_type": "code",
   "execution_count": 18,
   "metadata": {
    "kernel": "sos"
   },
   "outputs": [
    {
     "name": "stderr",
     "output_type": "stream",
     "text": [
      "INFO: Executing \u001b[32mcheck_10\u001b[0m: \n",
      "INFO: input:    \u001b[32m[]\u001b[0m\n",
      "INFO: output:   \u001b[32m[]\u001b[0m\n",
      "INFO: Executing \u001b[32malign_10\u001b[0m: \n",
      "INFO: input:    \u001b[32m[]\u001b[0m\n",
      "INFO: output:   \u001b[32m[]\u001b[0m\n",
      "INFO: Executing \u001b[32malign_20\u001b[0m: \n",
      "INFO: input:    \u001b[32m[]\u001b[0m\n",
      "INFO: output:   \u001b[32m[]\u001b[0m\n",
      "INFO: Executing \u001b[32mcall_10\u001b[0m: \n",
      "INFO: input:    \u001b[32m[]\u001b[0m\n",
      "INFO: output:   \u001b[32m[]\u001b[0m\n",
      "INFO: Executing \u001b[32mcall_20\u001b[0m: \n",
      "INFO: input:    \u001b[32m[]\u001b[0m\n",
      "INFO: output:   \u001b[32m[]\u001b[0m\n"
     ]
    }
   ],
   "source": [
    "#local run\n",
    "%run check+align+call\n",
    "[check_10]\n",
    "[align_10]\n",
    "[align_20]\n",
    "[call_10]\n",
    "[call_20]"
   ]
  },
  {
   "cell_type": "markdown",
   "metadata": {},
   "source": [
    "It is worth noting that combined workflow might work differently from when they are executed separately (e.g. default input of `B` is changed from empty to output of `A_0`), and it is up to the user to resolve conflicts between them."
   ]
  },
  {
   "cell_type": "markdown",
   "metadata": {},
   "source": [
    "### Nested workflow\n",
    "\n",
    "SoS also supports nested workflow in which a complete workflow is treated as part of a step process.\n",
    "The workflow is execute by SoS action `sos_run`, e.g.\n",
    "\n",
    "```python\n",
    "sos_run('A')            # execute workflow A\n",
    "sos_run('A + B')        # execute workflow B after A\n",
    "sos_run('D:-10 + C')    # execute up to step 10 of D and workflow C\n",
    "\n",
    "# execute user-specified aligner and caller workflows\n",
    "sos_run('${aligner} + ${caller}')  \n",
    "```"
   ]
  },
  {
   "cell_type": "markdown",
   "metadata": {},
   "source": [
    "In its simplest form, nested workflow allows you to define another workflow from existing ones. For example,"
   ]
  },
  {
   "cell_type": "code",
   "execution_count": 8,
   "metadata": {
    "kernel": "sos"
   },
   "outputs": [
    {
     "name": "stderr",
     "output_type": "stream",
     "text": [
      "INFO: Executing \u001b[32mdefault_0\u001b[0m: \n",
      "INFO: input:    \u001b[32m[]\u001b[0m\n",
      "INFO: Executing workflow \u001b[32malign+call\u001b[0m with input \u001b[32m[]\u001b[0m and no args\n",
      "INFO: Executing \u001b[32malign_10\u001b[0m: \n",
      "INFO: input:    \u001b[32m[]\u001b[0m\n",
      "INFO: output:   \u001b[32m[]\u001b[0m\n",
      "INFO: Executing \u001b[32malign_20\u001b[0m: \n",
      "INFO: input:    \u001b[32m[]\u001b[0m\n",
      "INFO: output:   \u001b[32m[]\u001b[0m\n",
      "INFO: Executing \u001b[32mcall_10\u001b[0m: \n",
      "INFO: input:    \u001b[32m[]\u001b[0m\n",
      "INFO: output:   \u001b[32m[]\u001b[0m\n",
      "INFO: Executing \u001b[32mcall_20\u001b[0m: \n",
      "INFO: input:    \u001b[32m[]\u001b[0m\n",
      "INFO: output:   \u001b[32m[]\u001b[0m\n",
      "INFO: Workflow align+call (ID=bae5d90c45edd864) is executed successfully.\n",
      "INFO: output:   \u001b[32m[]\u001b[0m\n",
      "INFO: Workflow default (ID=37dcbb4fce3d5473) is executed successfully.\n"
     ]
    }
   ],
   "source": [
    "%run -v2\n",
    "[align_10]\n",
    "[align_20]\n",
    "[call_10]\n",
    "[call_20]\n",
    "[default]\n",
    "sos_run('align+call')"
   ]
  },
  {
   "cell_type": "markdown",
   "metadata": {},
   "source": [
    "defines a nested workflow that combines workflows `align` and `call` so that the workflow will by default execute two workflows, but can also execute one of them as separate workflows `align` and `call`."
   ]
  },
  {
   "cell_type": "markdown",
   "metadata": {},
   "source": [
    "Nested workflow also allows you to define multiple mini-workflows and connect them freely. For example\n",
    "\n",
    "```python\n",
    "[a_1]\n",
    "[a_2]\n",
    "[b]\n",
    "[c]\n",
    "[d_1]\n",
    "sos_run('a+b')\n",
    "[d_2]\n",
    "sos_run('a+c')\n",
    "```\n",
    "\n",
    "defines workflows `d` that will execute steps `d_1`, `a_1`, `a_2`, `b_0`, `d_2`,  `a_1`, `a_2`, and `c_0`. "
   ]
  },
  {
   "cell_type": "markdown",
   "metadata": {},
   "source": [
    "Because `sos_run` is simply a SoS action and takes a string as its parameter, it allows very flexible ways to compose (e.g. determine workflow from command line arguments) and execute (e.g. repeated execution of workflows with different options or input files) complex workflows."
   ]
  },
  {
   "cell_type": "markdown",
   "metadata": {},
   "source": [
    "### Makefile-style workflow"
   ]
  },
  {
   "cell_type": "markdown",
   "metadata": {},
   "source": [
    "Using [auxiliary steps](Auxiliary_Steps.html) that are only executed to provide desired output, a SoS workflow can consist of a graph with or without a \"stem\" with numbered forward-style steps. By specifying the targets of a workflow instead of which steps to execute, you essentially let SoS execute the required steps to generate the targets. For example,"
   ]
  },
  {
   "cell_type": "code",
   "execution_count": 18,
   "metadata": {
    "kernel": "sos",
    "scrolled": true
   },
   "outputs": [
    {
     "name": "stdout",
     "output_type": "stream",
     "text": [
      "Generating test.bam.bai\n",
      "Calling variants from test.bam with test.bam.bai to test.vcf\n"
     ]
    }
   ],
   "source": [
    "%sandbox\n",
    "\n",
    "!touch test.bam\n",
    "%run -t test.vcf\n",
    "\n",
    "# this step provides variable `var`\n",
    "[index: provides='{filename}.bam.bai']\n",
    "input: \"${filename}.bam\"\n",
    "sh:\n",
    "   echo \"Generating ${output}\"\n",
    "   touch ${output}\n",
    "\n",
    "[call: provides='{filename}.vcf']\n",
    "input:   \"${filename}.bam\"\n",
    "depends: \"${input}.bai\"\n",
    "sh:\n",
    "   echo \"Calling variants from ${input} with ${depends} to ${output}\"\n",
    "   touch ${output}"
   ]
  },
  {
   "cell_type": "markdown",
   "metadata": {},
   "source": [
    "In this example, instead of specifiying a workflow, a target `test.bam.bai` is requested. SoS checks all auxiliary steps and calls step `index` to generate `test.bam.bai`. After step `index` is completed, step `call` is executed again to produce the final requested target `test.vcf`."
   ]
  },
  {
   "cell_type": "markdown",
   "metadata": {},
   "source": [
    "The `-t` option could specify more than one targets and could be used in combination with a forward-style workflow. Please refer to [documentation on makefile-style workflows](Auxiliary_Steps.html) for more details."
   ]
  }
 ],
 "metadata": {
  "anaconda-cloud": {},
  "kernelspec": {
   "display_name": "SoS",
   "language": "sos",
   "name": "sos"
  },
  "language_info": {
   "codemirror_mode": "sos",
   "file_extension": ".sos",
   "mimetype": "text/x-sos",
   "name": "sos",
   "nbconvert_exporter": "sos.jupyter.converter.SoS_Exporter",
   "pygments_lexer": "sos"
  },
  "sos": {
   "celltoolbar": true,
   "kernels": [
    [
     "sos",
     "SoS",
     ""
    ],
    [
     "bash",
     "Bash",
     "#E6EEFF"
    ],
    [
     "python2",
     "Python2",
     "#F6FAEA"
    ],
    [
     "ir",
     "R",
     "#FDEDEC"
    ],
    [
     "python3",
     "Python3",
     "#EAFAF1"
    ]
   ],
   "panel": {
    "displayed": true,
    "height": 0,
    "style": "side"
   }
  },
  "toc": {
   "nav_menu": {
    "height": "386px",
    "width": "254px"
   },
   "navigate_menu": true,
   "number_sections": true,
   "sideBar": true,
   "threshold": 4,
   "toc_cell": false,
   "toc_section_display": "block",
   "toc_window_display": true
  }
 },
 "nbformat": 4,
 "nbformat_minor": 1
}
