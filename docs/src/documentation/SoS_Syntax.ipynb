{
 "cells": [
  {
   "cell_type": "markdown",
   "metadata": {},
   "source": [
    "# SoS Syntax"
   ]
  },
  {
   "cell_type": "markdown",
   "metadata": {},
   "source": [
    "## Overview of SoS scripts"
   ]
  },
  {
   "cell_type": "markdown",
   "metadata": {},
   "source": [
    "A SoS **script** defines one or more **workflows**, and each workflow consists of one or more **steps**. \n",
    "\n",
    "![workflow](../media/workflow.png)\n",
    "\n",
    "Although the input and output can be more general, each step typically has its **input**, **output**, and **dependents** files, it executes a **step process** that consists of one or more Python statements and SoS actions (special python functions). Part or all the step process, called **tasks**, can be executed and monitored externally.\n",
    "\n",
    "![sos_step](../media/sos_step.png)\n",
    "\n",
    "A SoS script contains **comments**, **statements**, and one or more SoS **steps**. A SoS **step** consists of a **header**\n",
    "with one or more step names and optional options. The body of a SoS step consists of optional **comments**, \n",
    "**statements**, **input**, **output**, **depends** files, **parameter** definitions, followed by step **process**. The following figure \n",
    "shows a sample script that defines a workflow with two steps:\n",
    "\n",
    "![sample_script](../media/sample_script.jpg)"
   ]
  },
  {
   "cell_type": "markdown",
   "metadata": {},
   "source": [
    "## Formal definitions of terminology & grammar"
   ]
  },
  {
   "cell_type": "markdown",
   "metadata": {},
   "source": [
    "* **Script**: A SoS script that defines one or more workflows.\n",
    "* **Workflow**: A sequence of processes that can be executed to complete certain task.\n",
    "* **Step**: A step of a workflow that perform one piece of the workflow.\n",
    "* **Target**: Objects that are input and result of a SoS step, which are usually files, but can also be objects such as an executable command (with variable locations), and a SoS variable.\n",
    "* **Step options**: Options of the step that assist the definition of the workflow.\n",
    "* **Step input**: Specifies the input files of the step.\n",
    "* **Step output**: Specifies the output files and targets of the step.\n",
    "* **Step dependencies**: Specifies the files and targets that are required by the step.\n",
    "* **Step process**: The process that a step executes to complete specified work, specified as one or more Python statements. \n",
    "* **Task**: Part or all step process that will be executed and monitored outside of SoS. These are usually resource intensive jobs that will take long time to complete.\n",
    "* **Action**: SoS or user-defined Python functions. They differ from regular Python functions in that they may behave differently in different running mode of SoS (e.g. ignore when executed in dryrun mode)."
   ]
  },
  {
   "cell_type": "markdown",
   "metadata": {},
   "source": [
    "More formally defined, the SoS syntax obeys the following grammar, given in extended Backus-Naur form (EBNF):\n",
    "\n",
    "```\n",
    "Script         = {comment}, {statement}, {step};\n",
    "comment        = \"#\", text, NEWLINE\n",
    "assignment     = name, \"=\", expression, NEWLINE\n",
    "```\n",
    "\n",
    "with SoS steps defined as\n",
    "\n",
    "```\n",
    "step           = step_header,\n",
    "                 {comment}, {{statement}, [input | output | depends ]},\n",
    "                 [process, NEWLINE, {script} ]\n",
    "step_header    = \"[\", section_names, [\":\", names | options], \"]\", NEWLINE\n",
    "parameter      = \"parameter\", \":\", assignment\n",
    "input          = \"input\", \":\", [expressions], [\",\", options], NEWLINE\n",
    "output         = \"output\", \":\", [expressions], [\",\", options], NEWLINE\n",
    "depends        = \"depends\", \":\", [expressions], [\",\", options], NEWLINE\n",
    "task           = \"task\", \":\",  [options]\n",
    "action         = func_format | script_format\n",
    "func_format    = name, \"(\", [options], \")\"\n",
    "script_format  = name, \":\", [options], NEWLINE, script \n",
    "section_names  = section_name, \",\", section_name\n",
    "section_name   = name, \"(\", text, \")\"\n",
    "names          = name, {\",\", name}\n",
    "workflow       = name, ['_', steps], {\"+\", name, ['_', steps}\n",
    "assignment     = name, \"=\", expression, NEWLINW\n",
    "expressions    = expression, {\",\", expression}\n",
    "options        = option, {\",\" option}\n",
    "option         = name, \"=\", expression\n",
    "```\n",
    "\n",
    "Here `name`, `expression` and `statement` are arbitrary [Python](http://www.python.org) names, expression and statements with added SoS features. **SoS requires Python 3 and does not support Python 2.x specific syntax**"
   ]
  },
  {
   "cell_type": "markdown",
   "metadata": {},
   "source": [
    "## File structure"
   ]
  },
  {
   "cell_type": "markdown",
   "metadata": {},
   "source": [
    "A complete SoS script would have a **header**, followed by a **global section** (without section header), and one or more SoS **sections** with header. SoS **pre-processors** can be used to include other scripts or exclude parts of the scripts conditionally. None of the parts is required so an empty script is a valid SoS script."
   ]
  },
  {
   "cell_type": "markdown",
   "metadata": {},
   "source": [
    "### File header"
   ]
  },
  {
   "cell_type": "markdown",
   "metadata": {},
   "source": [
    "A SoS script usually starts with lines\n",
    "\n",
    "```python\n",
    "#!/usr/bin/env sos-runner\n",
    "#fileformat=SOS1.0\n",
    "```\n",
    "\n",
    "The first line allows the script to be executed by command `sos-runner` if it is executed as an executable script. The second line tells SoS the format of the script. The `#fileformat` line does not have to be the first or second line but should be in the first comment block. SOS format 1.0 is assumed if no format line is present."
   ]
  },
  {
   "cell_type": "markdown",
   "metadata": {},
   "source": [
    "### Global definitions"
   ]
  },
  {
   "cell_type": "markdown",
   "metadata": {},
   "source": [
    "Python functions, classes, variables can be defined or imported (using Python `import` statement) before any SoS step is defined. These definitions usually contains variables such as version and date of the script, paths to various resources, and utility functions that will be used by later steps. **These definitions are visible to all steps of workflows and are assumed to be readonly** (except for [`parameters`](Command_Line_Options.html) defined by the `parameter:` keyword.\n",
    "\n",
    "SoS defines the following variables before any variables are defined\n",
    "\n",
    "* **`SOS_VERSION`**: version of SoS command.\n",
    "* **`CONFIG`**: A dictionary of configurations specified by the global sos configuration file (`~/.sos/config.yaml`), local configuration file (`./config.yaml`) and command line option `-c config_file`. \n",
    "\n",
    "Please refer to sections [command line options](Command_Line_Options.html) and [configuration files](Configuration_Files.html) for the use of `parameter` keyword and `CONFIG` variable."
   ]
  },
  {
   "cell_type": "markdown",
   "metadata": {},
   "source": [
    "### SoS Sections"
   ]
  },
  {
   "cell_type": "markdown",
   "metadata": {},
   "source": [
    "A **step** refers to a step of a SoS workflow and is defined by a **section** in a SoS script. A SoS script can define multiple workflows from multiple sections. A section can define multiple steps of one or more workflows.\n",
    "\n",
    "A section starts with header in the format of\n",
    "\n",
    "```\n",
    "[names: options]\n",
    "```\n",
    "\n",
    "The header should start with a `[` from the beginning of a line and end with a `]`. It can contain one or more names with optional section options. Please refer to [workflow specification](Workflow_Specification.html) for the specification of workflows from sections."
   ]
  },
  {
   "cell_type": "markdown",
   "metadata": {},
   "source": [
    "SoS uses [Python 3](http://www.python.org) expressions and statements. If you are unfamiliar with Python, you can learn some basics of Python, usually in less than half a day, by reading some Python tutorials (e.g. [the official python tutorial](https://docs.python.org/3/tutorial/)). This [short introduction](https://docs.python.org/3/tutorial/introduction.html) is good enough for you to get started.\n",
    "\n",
    "A section can have arbitrary Python statements and SoS-specific statements that define the input, output, and dependent targets, and external tasks of the step. These statements starts with keywords `input:`, `output:`, `depends:`, and `task:`. Please refer to [SoS step](SoS_Step.html) for more details about these statements."
   ]
  },
  {
   "cell_type": "markdown",
   "metadata": {},
   "source": [
    "### Script style function\n",
    "\n",
    "SoS allows you to write SoS `action` (basically a Python function) that accept a script (string) as the first parameter in a special script format. For example,\n",
    "\n",
    "```sos\n",
    "R('''\n",
    "pdf('${input}')\n",
    "plot(0, 0)\n",
    "dev.off()\n",
    "''', workdir='result')\n",
    "```\n",
    "\n",
    "can be written as\n",
    "\n",
    "```sos\n",
    "R:     workdir='result'\n",
    "pdf('${_input}')\n",
    "plot(0, 0)\n",
    "dev.off()\n",
    "```"
   ]
  },
  {
   "cell_type": "markdown",
   "metadata": {},
   "source": [
    "**The script is a string without quotation marks** and the normal string interpolation will take place. You can also indent the script (add leading white spaces to all lines) and write the action as\n",
    "\n",
    "```sos\n",
    "R:  workdir='result'\n",
    "   pdf('${_input}')\n",
    "   plot(0, 0)\n",
    "   dev.off()\n",
    "```\n",
    "\n",
    "The latter is much preferred because it avoids trouble if your script contains strings such as `[1]` and `option:` (and be treated as SoS directives), and more importantly, allows starting a new statement from a non-indented line. For example, `check_command('dot')` would be considered part of a R script in\n",
    "\n",
    "```sos\n",
    "R:  workdir='result'\n",
    "pdf('${_input}')\n",
    "plot(0, 0)\n",
    "dev.off()\n",
    "\n",
    "check_command('dot')\n",
    "```\n",
    "\n",
    "but a separate action in \n",
    "\n",
    "```sos\n",
    "R:  workdir='result'\n",
    "   pdf('${_input}')\n",
    "   plot(0, 0)\n",
    "   dev.off()\n",
    "\n",
    "check_command('dot')\n",
    "```\n",
    "\n",
    "Although the script format is more concise and easier to read, it is limited to actions that accept a string as its first parameter and cannot return value or be used within `try/except` of `if/else` statements.\n",
    "\n",
    "One final difference between SoS and regular Python 3 syntax is that SoS is more lenient on the use of mixed tab and spaces for indentation. Although it is highly recommended that you use all spaces for indentation, SoS will give an warning and treat tabs as 4 spaces during execution."
   ]
  },
  {
   "cell_type": "markdown",
   "metadata": {},
   "source": [
    "## SoS precessors"
   ]
  },
  {
   "cell_type": "markdown",
   "metadata": {
    "collapsed": true
   },
   "source": [
    "### Preprocessor `%include`\n",
    "\n",
    "SoS allows you to include variables and steps of another script into the current script using preprocessor `%include`. The `%include` statement should be used before any other SoS statements and follows the same syntax as the python `import` keyword. For example, the following statements are allowed\n",
    "\n",
    "```\n",
    "%include alignment\n",
    "%include alignment as ag\n",
    "%include alignment, calling\n",
    "%include alignment as ag, calling as ca\n",
    "\n",
    "%from alignment include *\n",
    "%from alignment include var1, workflow1\n",
    "%from alignment include workflow1 as wf\n",
    "```\n",
    "\n",
    "Similar to python `import` statement, variables and workflows included using the `%include ... as ...` syntax can be accessed using `module.name` (e.g. `alignment.var1`, `ag.var1` (for `include alignment as ag`)), whereas variables and workflows included using the `from ... include ...` syntax are available directly (e.g. `var1`, `workflow1`, and `wf` (for `workflow1 as wf`).\n",
    "\n",
    "For example\n",
    "\n",
    "```\n",
    "#!/usr/bin/env sos-runner\n",
    "#fileformat=SOS1.0\n",
    "\n",
    "%include alignment\n",
    "%include call\n",
    "[10]\n",
    "sos_run('alignment.default + call.default')\n",
    "```\n",
    "\n",
    "would execute two workflows defined in `alignment.sos` and `call.sos`. The files should be in SoS search path to be included."
   ]
  },
  {
   "cell_type": "markdown",
   "metadata": {},
   "source": [
    "### Preprocessors `%if .. %elif ..%else .. %endif`"
   ]
  },
  {
   "cell_type": "markdown",
   "metadata": {},
   "source": [
    "SoS allows you to conditionally include part of the script using macos `%if`, `%elif`, `%else`, and `%endif`. The condition in `%if cond` and `elif cond` should be valid python expression. The condition should not expand multiple lines and should not have trailing `:`. The conditions are evaluated at parsing time so no SoS variables are allowed. For example, you can use\n",
    "\n",
    "```\n",
    "%if sys.platform == 'darwin'\n",
    "\n",
    "[step]\n",
    "Mac OSX step\n",
    "\n",
    "%else\n",
    "\n",
    "[step]\n",
    "Linux step\n",
    "\n",
    "%endif\n",
    "```\n",
    "\n",
    "to define platform specific steps."
   ]
  },
  {
   "cell_type": "markdown",
   "metadata": {},
   "source": [
    "### Preprocessor `%set_options`"
   ]
  },
  {
   "cell_type": "markdown",
   "metadata": {},
   "source": [
    "You can set global SoS options using preprocessor `%set_options`. Currently SoS only support option `sigil`, which sets global default sigil. You can either set it to a valid sigil (e.g. `'{ }'`, `'[ ]'`), or `None` if you would like to disable string interpolation. Please refer to section [string interpolation](String_Interpolation.html) for details of this option."
   ]
  },
  {
   "cell_type": "code",
   "execution_count": null,
   "metadata": {
    "collapsed": true
   },
   "outputs": [],
   "source": []
  }
 ],
 "metadata": {
  "anaconda-cloud": {},
  "kernelspec": {
   "display_name": "SoS",
   "language": "sos",
   "name": "sos"
  },
  "language_info": {
   "codemirror_mode": "sos",
   "file_extension": ".sos",
   "mimetype": "text/x-sos",
   "name": "sos",
   "nbconvert_exporter": "sos.kernel.SoS_Exporter",
   "pygments_lexer": "sos"
  }
 },
 "nbformat": 4,
 "nbformat_minor": 1
}
