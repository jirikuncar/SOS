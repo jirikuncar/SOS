{
 "cells": [
  {
   "cell_type": "markdown",
   "metadata": {},
   "source": [
    "# Generating Reports using SoS"
   ]
  },
  {
   "cell_type": "markdown",
   "metadata": {},
   "source": [
    "The general workflow of generating a report in s SoS workflow is\n",
    "\n",
    "1. Use `report` action to write a small piece of results piece by piece during the execution of the workflow.\n",
    "2. At the end of the workflow, use a master `report` action to collect all reports, or use actions such as `pandoc` or `Rmarkdown` to convert report to a nice-looking report in HTML or PDf format.\n",
    "\n",
    "Let us demonstrate this process using a few examples."
   ]
  },
  {
   "cell_type": "markdown",
   "metadata": {},
   "source": [
    "## Reporting to a single output stream"
   ]
  },
  {
   "cell_type": "markdown",
   "metadata": {},
   "source": [
    "If you have a simple workflow with steps executed sequentially, you can write all reports to standard output or a specified file. For example, without any option, the `report` actions write the script they get (in script format) to standard output."
   ]
  },
  {
   "cell_type": "code",
   "execution_count": 4,
   "metadata": {
    "collapsed": false
   },
   "outputs": [
    {
     "name": "stdout",
     "output_type": "stream",
     "text": [
      "* Result from default_10\n",
      "\n",
      "* Result from default_20"
     ]
    }
   ],
   "source": [
    "[10]\n",
    "report:\n",
    "   * Result from ${step_name}\n",
    "  \n",
    "[20]\n",
    "report:\n",
    "   * Result from ${step_name}\n"
   ]
  },
  {
   "cell_type": "code",
   "execution_count": null,
   "metadata": {
    "collapsed": true
   },
   "outputs": [],
   "source": [
    "A command line option `-r` can be used to direct the output to another file."
   ]
  },
  {
   "cell_type": "code",
   "execution_count": 5,
   "metadata": {
    "collapsed": false
   },
   "outputs": [
    {
     "data": {
      "text/html": [
       "<pre><font color=\"green\">## %preview out.md</font></pre>"
      ]
     },
     "metadata": {},
     "output_type": "display_data"
    },
    {
     "data": {
      "text/html": [
       "<pre><font color=\"green\">> out.md (50 B):</font></pre>"
      ],
      "text/plain": [
       "\n",
       "> out.md (50 B):"
      ]
     },
     "metadata": {},
     "output_type": "display_data"
    },
    {
     "data": {
      "text/html": [
       "<ul>\n",
       "<li>\n",
       "<p>Result from default_10</p>\n",
       "</li>\n",
       "<li>\n",
       "<p>Result from default_20</p>\n",
       "</li>\n",
       "</ul>"
      ],
      "text/plain": [
       "* Result from default_10\n",
       "\n",
       "* Result from default_20"
      ]
     },
     "metadata": {},
     "output_type": "display_data"
    }
   ],
   "source": [
    "%sandbox\n",
    "%preview out.md\n",
    "%run -r out.md\n",
    "\n",
    "[10]\n",
    "report:\n",
    "   * Result from ${step_name}\n",
    "  \n",
    "[20]\n",
    "report:\n",
    "   * Result from ${step_name}"
   ]
  },
  {
   "cell_type": "markdown",
   "metadata": {},
   "source": [
    "## Reporting to multiple output streams"
   ]
  },
  {
   "cell_type": "markdown",
   "metadata": {},
   "source": [
    "The previous examples work well when the workflow is executed sequentially, which is generally not the case. Even if your workflow consists of only forward-style steps that should conceptually be executed sequentially, SoS might execute some later step if it does not depend on the result of a previous one. It is therefore difficult to control the order at which reports are written.\n",
    "\n",
    "The solution of this problem is to write reports to individual files and collect them at the end of the workflow."
   ]
  },
  {
   "cell_type": "code",
   "execution_count": 3,
   "metadata": {
    "collapsed": false
   },
   "outputs": [
    {
     "name": "stdout",
     "output_type": "stream",
     "text": [
      "* Result from default_10\n",
      "\n",
      "* Result from default_20\n",
      "\n"
     ]
    }
   ],
   "source": [
    "%sandbox\n",
    "\n",
    "[10]   \n",
    "report: output='a_10.md'\n",
    "   * Result from ${step_name}\n",
    "  \n",
    "[20]\n",
    "report: output='a_20.md'\n",
    "   * Result from ${step_name}\n",
    "\n",
    "[30]\n",
    "report(input=['a_10.md', 'a_20.md'])"
   ]
  },
  {
   "cell_type": "code",
   "execution_count": 7,
   "metadata": {
    "collapsed": false
   },
   "outputs": [
    {
     "name": "stdout",
     "output_type": "stream",
     "text": [
      "* Result from default_10\n",
      "\n",
      "* Result from default_20\n",
      "\n"
     ]
    }
   ],
   "source": [
    "%sandbox\n",
    "%run -r '${step_name}.md'\n",
    "\n",
    "[10]   \n",
    "report:\n",
    "   * Result from ${step_name}\n",
    "  \n",
    "[20]\n",
    "report:\n",
    "   * Result from ${step_name}\n",
    "\n",
    "[30]\n",
    "report(input=['default_10.md', 'default_20.md'], output='') #, 'default_20.md'])"
   ]
  },
  {
   "cell_type": "markdown",
   "metadata": {
    "collapsed": true
   },
   "source": [
    "## Using `pandoc` to process report"
   ]
  },
  {
   "cell_type": "markdown",
   "metadata": {},
   "source": [
    "## Using `Rmarkdown` to process report"
   ]
  }
 ],
 "metadata": {
  "kernelspec": {
   "display_name": "SoS",
   "language": "sos",
   "name": "sos"
  },
  "language_info": {
   "codemirror_mode": "sos",
   "file_extension": ".sos",
   "mimetype": "text/x-sos",
   "name": "sos",
   "nbconvert_exporter": "sos.jupyter.converter.SoS_Exporter",
   "pygments_lexer": "sos"
  }
 },
 "nbformat": 4,
 "nbformat_minor": 1
}
