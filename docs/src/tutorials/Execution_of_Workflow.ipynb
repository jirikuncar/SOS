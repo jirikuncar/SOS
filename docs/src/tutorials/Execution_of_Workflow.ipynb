{
 "cells": [
  {
   "cell_type": "markdown",
   "metadata": {},
   "source": [
    "# Execution of SoS workflow"
   ]
  },
  {
   "cell_type": "markdown",
   "metadata": {},
   "source": [
    "The content of this chapter is largely applicable to batch mode but we represent it in Jupyter notebook for easy reproduction of results. If you are not familiar with Jupyter notebook, please refer to chapter [SoS Kernel](SoS_Kernel.html) for details. For the impatience, the magics\n",
    "\n",
    "* `%sandgox` execute the cell in a temporary directory\n",
    "* `!cmd` execute shell command `cmd`\n",
    "* `%run` run the cell as if in command line with specified options\n",
    "* `%set` set options that would be included in each `$run` command"
   ]
  },
  {
   "cell_type": "markdown",
   "metadata": {},
   "source": [
    "## logging level"
   ]
  },
  {
   "cell_type": "markdown",
   "metadata": {},
   "source": [
    "SoS uses a logging system to output all sorts of information during the execution of workflows. The amount of output can be controlled by logging level, which can be `error` (0), `warning` (1), `info` (2), `debug` (3), and `trace` (4). The default logging level for SoS is `info` in batch mode and `warning` in interactive mode.\n",
    "\n",
    "For example, logging at `info` level would produce message indicating the steps executed and input output files, but nothing but warning and errors at the `warning` level."
   ]
  },
  {
   "cell_type": "code",
   "execution_count": 2,
   "metadata": {
    "collapsed": false
   },
   "outputs": [
    {
     "name": "stderr",
     "output_type": "stream",
     "text": [
      "INFO: Running \u001b[32mdefault_10\u001b[0m: \n",
      "INFO: Running \u001b[32mdefault_20\u001b[0m: \n",
      "INFO: input:    \u001b[32m['a.txt']\u001b[0m\n",
      "INFO: Running \u001b[32mdefault_30\u001b[0m: \n",
      "INFO: Running \u001b[32mdefault_40\u001b[0m: \n"
     ]
    }
   ],
   "source": [
    "%sandbox\n",
    "!touch a.txt\n",
    "\n",
    "%run -v2\n",
    "[10]\n",
    "[20]\n",
    "input: 'a.txt'\n",
    "[30]\n",
    "[40]"
   ]
  },
  {
   "cell_type": "code",
   "execution_count": 3,
   "metadata": {
    "collapsed": true
   },
   "outputs": [],
   "source": [
    "%sandbox\n",
    "!touch a.txt\n",
    "\n",
    "%run -v1\n",
    "[10]\n",
    "[20]\n",
    "input: 'a.txt'\n",
    "[30]\n",
    "[40]"
   ]
  },
  {
   "cell_type": "markdown",
   "metadata": {},
   "source": [
    "## `dryrun` mode"
   ]
  },
  {
   "cell_type": "markdown",
   "metadata": {},
   "source": [
    "The `dryrun` mode is used to check for syntax errors of a SoS script without actually executing any of the actions. It can be specified with option `-n`. For example, running the following script in dryrun mode would produce an error message"
   ]
  },
  {
   "cell_type": "code",
   "execution_count": 4,
   "metadata": {
    "collapsed": false
   },
   "outputs": [
    {
     "name": "stderr",
     "output_type": "stream",
     "text": [
      "File contains parsing errors: <string>\n",
      "\t[line  2]: [10, skip=20]\n",
      "Invalid statements: SyntaxError('invalid syntax', ('<string>', 1, 10, '[10, skip=20]\\n'))"
     ]
    }
   ],
   "source": [
    "%run -n\n",
    "[10, skip=False]\n",
    "sh:\n",
    "   echo \"I am command echo\""
   ]
  },
  {
   "cell_type": "markdown",
   "metadata": {},
   "source": [
    "Of course the action `sh` would not be executed even after the script is fixed"
   ]
  },
  {
   "cell_type": "code",
   "execution_count": 5,
   "metadata": {
    "collapsed": true
   },
   "outputs": [],
   "source": [
    "%run -n\n",
    "[10: skip=False]\n",
    "sh:\n",
    "   echo \"I am command echo\""
   ]
  },
  {
   "cell_type": "markdown",
   "metadata": {},
   "source": [
    "## Runtime signature"
   ]
  },
  {
   "cell_type": "markdown",
   "metadata": {},
   "source": [
    "SoS uses <font color='red'>runtime signatures</font> to keep track of <font color='red'>execution units</font>, namely the input, output, and dependent targets, and related SoS variables of a piece of workflow. SoS tracks execution of statements at the step level for each [input group](../documentation/SoS_Step.html) and saves runtime signatures at a folder called `.sos` under the project directory. The runtime signatures are used to\n",
    "\n",
    "1. Avoid repeated execution of identical units, and\n",
    "2. Keep track of workflow related files for project management\n",
    "\n",
    "The second usage would be described in detail in [Project Management](Project_Management.html)."
   ]
  },
  {
   "cell_type": "markdown",
   "metadata": {},
   "source": [
    "SoS workflows can be executed in batch mode and in interactive mode using the SoS kernel in Jupyter notebook or qtconsole. Because the SoS kernel is mostly used to execute short statements in SOS and other kernels, runtime signatures are by default set to `ignore` in interactive mode (and to `default` in batch mode). To demonstrate these features in Jupyter notebook, we will need to first turn it on, using option"
   ]
  },
  {
   "cell_type": "code",
   "execution_count": null,
   "metadata": {
    "collapsed": true
   },
   "outputs": [],
   "source": [
    "%set -s default"
   ]
  },
  {
   "cell_type": "markdown",
   "metadata": {},
   "source": [
    "### Re-execution of executed steps"
   ]
  },
  {
   "cell_type": "markdown",
   "metadata": {},
   "source": [
    "## Change system $PATH"
   ]
  },
  {
   "cell_type": "markdown",
   "metadata": {},
   "source": [
    "There are cases where you would like to use a specific version of programs for your workflow but do not want to change the system `$PATH` because of its global effect. In this case you can prepend pathes to these executables to `$PATH` using option `-b`.\n",
    "\n",
    "The following example first cretes a executable `ls` in `tmp` with an `echo` command. Using the option `-b tmp`, the `tmp` directory is prefixed to the system `$PATH` before the workflow is executed. The consequence is that this fake `ls` supersedes the system `ls` when `ls` is called in `step_10` of the workflow."
   ]
  },
  {
   "cell_type": "code",
   "execution_count": 4,
   "metadata": {
    "collapsed": false
   },
   "outputs": [
    {
     "name": "stdout",
     "output_type": "stream",
     "text": [
      "This is fake ls\n"
     ]
    }
   ],
   "source": [
    "%sandbox\n",
    "!mkdir tmp\n",
    "!echo \"#!/bin/bash\" > tmp/ls\n",
    "!echo \"echo This is fake ls\" >> tmp/ls\n",
    "!chmod +x tmp/ls\n",
    "\n",
    "%run -b tmp\n",
    "[10]\n",
    "sh:\n",
    "    ls"
   ]
  },
  {
   "cell_type": "markdown",
   "metadata": {},
   "source": [
    "The `-b` option has a default value `~/.sos/bin`, so any command under `~/.sos/bin` would be executed (before system command with the same name) even if the executables are not under system `$PATH`. This feature allows you to create commands that would only be used inside SoS-scripts, and more interestingly, allows you to create executable or install programs on-the-fly.\n",
    "\n",
    "For example, step 20 of the following workflow depends on an executable `lls` that is not a system executable."
   ]
  },
  {
   "cell_type": "code",
   "execution_count": 3,
   "metadata": {
    "collapsed": false
   },
   "outputs": [
    {
     "name": "stdout",
     "output_type": "stream",
     "text": [
      "This is lls\n"
     ]
    }
   ],
   "source": [
    "%sandbox\n",
    "!rm -f ~/.sos/bin/lls\n",
    "\n",
    "[install_lls: provides=executable('lls')]\n",
    "run:\n",
    "    echo \"#!/bin/bash\" > ~/.sos/bin/lls\n",
    "    echo \"echo This is lls\" >> ~/.sos/bin/lls\n",
    "    chmod +x ~/.sos/bin/lls\n",
    "\n",
    "[20]\n",
    "depends: executable('lls')\n",
    "run:\n",
    "    lls"
   ]
  },
  {
   "cell_type": "markdown",
   "metadata": {},
   "source": [
    "because `lls` is created under `~/.sos/bin`, it would be immediately available to SoS after the `install_lls` step. This works for any program as long as you can create a symbolic link under `~/.sos/bin` after its installation."
   ]
  },
  {
   "cell_type": "markdown",
   "metadata": {},
   "source": [
    "You can always disable this behavior by setting option `-b` without value."
   ]
  }
 ],
 "metadata": {
  "kernelspec": {
   "display_name": "SoS",
   "language": "sos",
   "name": "sos"
  },
  "language_info": {
   "codemirror_mode": "sos",
   "file_extension": ".sos",
   "mimetype": "text/x-sos",
   "name": "sos",
   "nbconvert_exporter": "sos.jupyter.converter.SoS_Exporter",
   "pygments_lexer": "sos"
  },
  "toc": {
   "nav_menu": {
    "height": "111px",
    "width": "254px"
   },
   "navigate_menu": true,
   "number_sections": true,
   "sideBar": true,
   "threshold": 4,
   "toc_cell": false,
   "toc_section_display": "block",
   "toc_window_display": true
  }
 },
 "nbformat": 4,
 "nbformat_minor": 2
}
