{
 "cells": [
  {
   "cell_type": "markdown",
   "metadata": {},
   "source": [
    "# Execution of tasks on remote host without shared file system"
   ]
  },
  {
   "cell_type": "markdown",
   "metadata": {
    "output_cache": "[]"
   },
   "source": [
    "SoS allows you to execute tasks on remote hosts with their own file system. For example, you can execute a complex workflow mostly locally, but execute a few jobs on remote servers if they have more computing power, or if they have some software that cannot be installed locally.\n",
    "\n",
    "With help from a few runtime options (options to `task`), SoS can\n",
    "\n",
    "* Copy specified local files to the remote host, possibly to different directories\n",
    "* Start a SoS task on the remote machine and wait for the completion of the task\n",
    "* Copy results back from the remote host if the execution is successful\n"
   ]
  },
  {
   "cell_type": "markdown",
   "metadata": {
    "output_cache": "[]"
   },
   "source": [
    "## System setup"
   ]
  },
  {
   "cell_type": "markdown",
   "metadata": {
    "output_cache": "[]"
   },
   "source": [
    "### Set up public-key access to the remote host"
   ]
  },
  {
   "cell_type": "markdown",
   "metadata": {
    "output_cache": "[]"
   },
   "source": [
    "Following any online tutorial, set up public-key access from your local machine to the remote host. If your public key does not work, check file permissions of `.ssh`, keys under `.ssh`, and `$HOME` in some cases. After setting up the server, make sure you can login without password using command"
   ]
  },
  {
   "cell_type": "markdown",
   "metadata": {
    "output_cache": "[]"
   },
   "source": [
    "```\n",
    "% ssh remote-host\n",
    "```"
   ]
  },
  {
   "cell_type": "markdown",
   "metadata": {
    "output_cache": "[]"
   },
   "source": [
    "### Install SoS and required software"
   ]
  },
  {
   "cell_type": "markdown",
   "metadata": {
    "output_cache": "[]"
   },
   "source": [
    "You will need to install the latest version of sos (preferrably identical version between local and remote hosts), and the software you will need to run. Test it by logging to the remote machine with commands\n",
    "\n",
    "```\n",
    "% sos -h\n",
    "```"
   ]
  },
  {
   "cell_type": "markdown",
   "metadata": {
    "output_cache": "[]"
   },
   "source": [
    "### Make sure `$PATH` works in non-login mode"
   ]
  },
  {
   "cell_type": "markdown",
   "metadata": {
    "output_cache": "[]"
   },
   "source": [
    "Commands that are available in login shell are not necessarily available during remote execution. Basically, remote execution through `ssh` invokes a non-interactive and non-login shell with basic `$PATH`. SoS tries to address this problem by executing commands through a login shell\n",
    "\n",
    "```\n",
    "% ssh remote-host \"bash --login -c 'sos-command-to-run'\"\n",
    "```\n",
    "\n",
    "but default `.bashrc` on the remote server might contain a line like\n",
    "\n",
    "```\n",
    "[ -z \"$PS1\" ] && return\n",
    "```\n",
    "\n",
    "that makes it exit when `bash` is not running interactively. This line has to be removed in order to make it work.\n",
    "\n",
    "Now, fire command\n",
    "\n",
    "```\n",
    "% ssh remote-host \"bash --login -c 'sos -h'\"\n",
    "```\n",
    "\n",
    "from your local machine and see if `sos` can be invoked. Similarly, check if the command you would like to execute remotely can be executed in this way."
   ]
  },
  {
   "cell_type": "markdown",
   "metadata": {
    "output_cache": "[]"
   },
   "source": [
    "### Set up a local configuration file"
   ]
  },
  {
   "cell_type": "markdown",
   "metadata": {
    "output_cache": "[]"
   },
   "source": [
    "This step is optional but is highly recommended. Basically you can save necessary information for each remote host that you would like to use in SoS configuration file so that you do not have to specify them one by one.\n",
    "\n",
    "First, give your host an alias so that you do not have to specify the long URL each time. To do this execute command\n",
    "\n",
    "```\n",
    "% sos config --global --set hosts.monster.address dcdrlue8ee.yourdomain.com\n",
    "```\n",
    "\n",
    "where `monster` is a short alias and `dcdrlue8ee.yourdomain.com` is the complete address.\n",
    "\n",
    "This commands writes to `~/.sos/config.yml` the following entry\n",
    "\n",
    "```\n",
    "$ cat ~/.sos/config.yml\n",
    "hosts:\n",
    "  monster:\n",
    "    address: dcdrlue8ee.yourdomain.com\n",
    "```\n",
    "\n",
    "You can write to this file directly if you are familiar with YML format.\n",
    "\n",
    "If your account name differ from the local and remote servers, the complete address should be `username@address`. In this example `john@dcdrlue8ee.yourdomain.com` if the remote server account is `john`."
   ]
  },
  {
   "cell_type": "markdown",
   "metadata": {
    "output_cache": "[]"
   },
   "source": [
    "### Set up `path_map`"
   ]
  },
  {
   "cell_type": "markdown",
   "metadata": {
    "output_cache": "[]"
   },
   "source": [
    "`path_map` is a list of directory mappings between local and remote directories. For example, if you work locally on a Mac machine with home directory `/Users/myuser`, and the remote server is a Linux machine with home directory `/home/myuser`, you should define a `path_map` using command\n",
    "\n",
    "```\n",
    "% sos config --global --set hosts.monster.path_map /Users/myuser/:/home/myuser/\n",
    "```\n",
    "\n",
    "In this way, if the local data is `/User/myuser/projects/input.fastq`, the path will be translated to `/home/myuser/projects/input.fastq` during remote execution.\n",
    "\n",
    "In more complicated cases where there are different directories, more than one mapping can be specified. For example, if you have directories under different volumes, you can map them differently using\n",
    "\n",
    "```\n",
    "% sos config --global --set hosts.monster.path_map \\\n",
    "    /Users/myuser/projects/:/home/myuser/scratch/projects/  \\\n",
    "    /Volumes/Resource:/home/myuser/resource \\\n",
    "    /Users/myuser:/home/myuser\n",
    "```\n",
    "\n",
    "This command will result in \n",
    "\n",
    "```\n",
    "$ cat ~/.sos/config.yml\n",
    "hosts:\n",
    "  monster:\n",
    "    address: dcdrlue8ee.yourdomain.com\n",
    "    path_map:\n",
    "    - /Users/myuser/projects/:/home/myuser/scratch/projects/\n",
    "    - /Volumes/Resource:/home/myuser/resource\n",
    "    - /Users/myuser:/home/myuser\n",
    "```\n",
    "\n",
    "and will map your local direcrories as follows\n",
    "\n",
    "```\n",
    "~/projects/data ==> /home/myuser/scratch/projects/data\n",
    "/Volumes/Resources/hg19.fasta ==> /home/myuser/resource/hg19.fasta\n",
    "~/myscript ==> /home/myuser/myscript.py\n",
    "```\n",
    "\n",
    "Note that\n",
    "\n",
    "1. SoS expands local directories to absolute path before applying `path_map`.\n",
    "2. SoS applies path maps at the other in which they are specified, so you should specify general mappings after more specific ones. \n"
   ]
  },
  {
   "cell_type": "markdown",
   "metadata": {
    "output_cache": "[]"
   },
   "source": [
    "## Copying files back and forth (`task` options `to_host` and `from_host`)"
   ]
  },
  {
   "cell_type": "markdown",
   "metadata": {},
   "source": [
    "Now that you have your machine configured, you should try to copy some files and see if they work correctly. File copy is specified with options `to_host` and `from_host`. You can test these options using simple SoS steps such as (replace filenames with files you have, of course),"
   ]
  },
  {
   "cell_type": "markdown",
   "metadata": {
    "output_cache": "[]"
   },
   "source": [
    "```\n",
    "[1]\n",
    "task: \n",
    "    on_host: 'monster',\n",
    "    to_host: ['~/projects/data/test1', '/Volumes/Resources/hg19.fasta'],\n",
    "    from_host: '~/projects/data/test1.res'\n",
    "run:\n",
    "    echo \"Hello, World\"\n",
    "```"
   ]
  },
  {
   "cell_type": "markdown",
   "metadata": {
    "output_cache": "[]"
   },
   "source": [
    "Note that:\n",
    "\n",
    "1. Option `on_host` specifies the host to connect, and allows SoS to retrieve `path_map` from configuration file.\n",
    "2. Option `to_host` specifies local files or directories that will be copied to the remote host (using `rsync`).\n",
    "3 Option `from_host` specifies **local files** that needs to be copied from the remote host. SoS will use `path_map` to determine path to the corresponding remote file to be copied."
   ]
  },
  {
   "cell_type": "markdown",
   "metadata": {
    "output_cache": "[]"
   },
   "source": [
    "## Translate your task to be executed on remote host (`task` option `map_vars`)"
   ]
  },
  {
   "cell_type": "markdown",
   "metadata": {
    "output_cache": "[]"
   },
   "source": [
    "Each task has an `environment` that contains variables that will be used to, for example, compose scripts to be executed. Even if the task will be executed remotely, you should write your task as if it is executed locally. For example, you might have a script that generates a `STAR` index from fasta file. You should have all these files available locally and write the task as:\n",
    "\n",
    "```\n",
    "depends:      hg19_fasta\n",
    "run:\n",
    "    STAR \\\n",
    "\t\t--runThreadN 8 \\\n",
    "\t\t--runMode genomeGenerate \\\n",
    "\t\t--genomeDir ${hg19_star_index} \\\n",
    "\t\t--genomeFastaFiles ${hg19_fasta} \\\n",
    "\t\t--sjdbGTFfile ${hg19_genes_gtf} \\\n",
    "\t\t--sjdbOverhang 100\n",
    "```\n",
    "\n",
    "Now, to make the script execute remotely, you should tell SoS which variables need to be translated to remote path. This can be done using option `map_vars`\n",
    "\n",
    "\n",
    "```\n",
    "depends:      hg19_fasta\n",
    "\n",
    "task:     on_host='monster', map_vars=['hg19_fasta', 'hg19_star_index', 'hg19_genes_gtf']\n",
    "run:\n",
    "    STAR \\\n",
    "\t\t--runThreadN 8 \\\n",
    "\t\t--runMode genomeGenerate \\\n",
    "\t\t--genomeDir ${hg19_star_index} \\\n",
    "\t\t--genomeFastaFiles ${hg19_fasta} \\\n",
    "\t\t--sjdbGTFfile ${hg19_genes_gtf} \\\n",
    "\t\t--sjdbOverhang 100\n",
    "```\n",
    "\n",
    "This option will **change the runtime environment** of the task that reconfigures file paths so that the script can be executed using variables corresponding to remote servers.\n",
    "\n",
    "Note that \n",
    "\n",
    "1. Variables such as `_input`, `input`, `_output` are automatically translated so you only need to specify non-system variables.\n",
    "2. You can hard-code path in remote host, but that will make your script host-dependent. It is therefore highly recommended that you **write your script in local paths** and let SoS do the conversion so that you do not have to change the script itself if you are switching to another host with differnt `path_map`."
   ]
  },
  {
   "cell_type": "markdown",
   "metadata": {
    "output_cache": "[]"
   },
   "source": [
    "## Running task remotely"
   ]
  },
  {
   "cell_type": "markdown",
   "metadata": {
    "output_cache": "[]"
   },
   "source": [
    "With all the pieces putting together, you can now execute the task on the remote host using `task` options\n",
    "\n",
    "```sos\n",
    "depends:      hg19_fasta\n",
    "\n",
    "task:     on_host='monster', map_vars=['hg19_fasta', 'hg19_star_index', 'hg19_genes_gtf'],\n",
    "          to_host=[hg19_fasta, hg19_genes_gtf], from_host=hg19_star_index\n",
    "\n",
    "run:\n",
    "    STAR \\\n",
    "\t\t--runThreadN 8 \\\n",
    "\t\t--runMode genomeGenerate \\\n",
    "\t\t--genomeDir ${hg19_star_index} \\\n",
    "\t\t--genomeFastaFiles ${hg19_fasta} \\\n",
    "\t\t--sjdbGTFfile ${hg19_genes_gtf} \\\n",
    "\t\t--sjdbOverhang 100\n",
    "```"
   ]
  },
  {
   "cell_type": "markdown",
   "metadata": {
    "output_cache": "[]"
   },
   "source": [
    "## Advanced usages"
   ]
  },
  {
   "cell_type": "markdown",
   "metadata": {
    "output_cache": "[]"
   },
   "source": [
    "### `path_map` option\n",
    "\n",
    "You can specify `path_map` as a `task` option. This allows you to write everything in the script clearly and you do not have to use any configuration file. For example,\n",
    "\n",
    "```\n",
    "task:     on_host='dcdrlue8ee.yourdomain.com', path_map='/Users/myuser:/home/myuser',\n",
    "          other_options...\n",
    "```"
   ]
  },
  {
   "cell_type": "markdown",
   "metadata": {
    "output_cache": "[]"
   },
   "source": [
    "### `send_cmd`, `received_cmd`, `execute_cmd`"
   ]
  },
  {
   "cell_type": "markdown",
   "metadata": {
    "output_cache": "[]"
   },
   "source": [
    "SoS uses `rsync` command to exchange files between hosts, and use `ssh` to execute command. If the default commands do not work for your configuration (e.g. if you do not have `rsync` and need to use `scp`, you can \n",
    "\n",
    "1. Use option `-v3` to display the exact command used to transfer files and execute commands\n",
    "\n",
    "2. Define options `send_cmd`, `received_cmd` and `execute_cmd` for your particular configuration. These variables should be defined with `${source}` and `${dest}` which will be replaced by source and destination filenames for each file.\n",
    "\n"
   ]
  }
 ],
 "metadata": {
  "kernelspec": {
   "display_name": "SoS",
   "language": "sos",
   "name": "sos"
  },
  "language_info": {
   "codemirror_mode": "sos",
   "file_extension": ".sos",
   "mimetype": "text/x-sos",
   "name": "sos",
   "nbconvert_exporter": "sos.jupyter.converter.SoS_Exporter",
   "pygments_lexer": "sos"
  },
  "sos": {
   "celltoolbar": true,
   "kernels": [
    [
     "sos",
     "SoS",
     ""
    ],
    [
     "python2",
     "Python2",
     "#F6FAEA"
    ],
    [
     "python3",
     "Python3",
     "#EAFAF1"
    ],
    [
     "ir",
     "ir",
     ""
    ],
    [
     "bash",
     "Bash",
     "#E6EEFF"
    ]
   ],
   "panel": {
    "displayed": true,
    "height": 0,
    "style": "side"
   }
  }
 },
 "nbformat": 4,
 "nbformat_minor": 2
}
