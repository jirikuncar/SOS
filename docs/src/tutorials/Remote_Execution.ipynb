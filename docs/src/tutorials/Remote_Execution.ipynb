{
 "cells": [
  {
   "cell_type": "markdown",
   "metadata": {},
   "source": [
    "# Execution of tasks on remote host"
   ]
  },
  {
   "cell_type": "markdown",
   "metadata": {
    "output_cache": "[]"
   },
   "source": [
    "SoS allows you to execute tasks on remote hosts with or without their own file systems. For example, you can execute a complex workflow mostly locally, but execute a few jobs on a remote host if it provides more computing power, or if it has some software that cannot be installed locally. The remote host could have its own file system (separate systems), share its file system with the local machine (e.g. nodes on the cluster), or share some storage with the local machine (e.g. have the same shared storage), so file synchronization will be needed in some cases.\n",
    "\n",
    "With help from a few runtime options (options to `task`), SoS can\n",
    "\n",
    "* Copy specified local files to the remote host, possibly to different directories\n",
    "* Start a SoS task on the remote machine and wait for the completion of the task\n",
    "* Copy results back from the remote host if the execution is successful"
   ]
  },
  {
   "cell_type": "markdown",
   "metadata": {
    "output_cache": "[]"
   },
   "source": [
    "## System setup"
   ]
  },
  {
   "cell_type": "markdown",
   "metadata": {
    "output_cache": "[]"
   },
   "source": [
    "### Public-key access"
   ]
  },
  {
   "cell_type": "markdown",
   "metadata": {
    "output_cache": "[]"
   },
   "source": [
    "Following any online tutorial, set up public-key access from your local machine to the remote host. If your public key does not work, check file permissions of `~/.ssh`, files under `.ssh`, and `$HOME` in some cases. After setting up the server, make sure you can login without password using command"
   ]
  },
  {
   "cell_type": "markdown",
   "metadata": {
    "output_cache": "[]"
   },
   "source": [
    "```bash\n",
    "% ssh remote-host\n",
    "```"
   ]
  },
  {
   "cell_type": "markdown",
   "metadata": {
    "output_cache": "[]"
   },
   "source": [
    "### Install software"
   ]
  },
  {
   "cell_type": "markdown",
   "metadata": {
    "output_cache": "[]"
   },
   "source": [
    "You will need to install the latest version of sos (preferrably identical version between local and remote hosts), and the software you will need to run. Test it by logging to the remote machine with commands\n",
    "\n",
    "```bash\n",
    "% sos -h\n",
    "```"
   ]
  },
  {
   "cell_type": "raw",
   "metadata": {
    "output_cache": "[]"
   },
   "source": [
    "### Check `$PATH`"
   ]
  },
  {
   "cell_type": "markdown",
   "metadata": {
    "output_cache": "[]"
   },
   "source": [
    "Commands that are available in login shell are not necessarily available during remote execution. Basically, remote execution through `ssh` invokes a non-interactive and non-login shell with basic `$PATH`. SoS tries to address this problem by executing commands through a login shell\n",
    "\n",
    "```bash\n",
    "% ssh remote-host \"bash --login -c 'sos execute task_id'\"\n",
    "```\n",
    "\n",
    "but default `.bashrc` on the remote server might contain a line like\n",
    "\n",
    "```bash\n",
    "[ -z \"$PS1\" ] && return\n",
    "```\n",
    "\n",
    "that makes it exit when `bash` is not running interactively. This line has to be removed in order to have complete `$PATH` during remote execution.\n",
    "\n",
    "Now, fire command\n",
    "\n",
    "```bash\n",
    "% ssh remote-host \"bash --login -c 'sos -h'\"\n",
    "```\n",
    "\n",
    "from your local machine and see if `sos` can be invoked. Similarly, check if the command you would like to execute remotely can be executed in this manner."
   ]
  },
  {
   "cell_type": "markdown",
   "metadata": {
    "output_cache": "[]"
   },
   "source": [
    "### Configure `address`"
   ]
  },
  {
   "cell_type": "markdown",
   "metadata": {
    "output_cache": "[]"
   },
   "source": [
    "This step is optional but is highly recommended. Basically you can save necessary information for each remote host that you would like to use in a SoS configuration file so that you do not have to specify them one by one.\n",
    "\n",
    "First, give your host an alias so that you do not have to specify the long URL each time. To do this execute command\n",
    "\n",
    "```\n",
    "% sos config --global --set hosts.monster.address dcdrlue8ee.yourdomain.com\n",
    "```\n",
    "\n",
    "where `monster` is a short alias and `dcdrlue8ee.yourdomain.com` is the complete address.\n",
    "\n",
    "This commands writes to `~/.sos/config.yml` the following entry\n",
    "\n",
    "```bash\n",
    "$ cat ~/.sos/config.yml\n",
    "hosts:\n",
    "  monster:\n",
    "    address: dcdrlue8ee.yourdomain.com\n",
    "```\n",
    "\n",
    "You can write to this file directly if you are familiar with YML format.\n",
    "\n",
    "If your account name differs between the local and remote servers, the complete address should be `username@address`. In this example `john@dcdrlue8ee.yourdomain.com` if the remote server account is `john`."
   ]
  },
  {
   "cell_type": "markdown",
   "metadata": {
    "output_cache": "[]"
   },
   "source": [
    "### Configure `path_map`"
   ]
  },
  {
   "cell_type": "markdown",
   "metadata": {
    "output_cache": "[]"
   },
   "source": [
    "`path_map` is a list of directory mappings between local and remote directories. For example, if you work locally on a Mac machine with home directory `/Users/myuser`, and the remote server is a Linux machine with home directory `/home/myuser`, you should define a `path_map` using command\n",
    "\n",
    "```\n",
    "% sos config --global --set hosts.monster.path_map /Users/myuser/:/home/myuser/\n",
    "```\n",
    "\n",
    "In this way, if the local data is `/User/myuser/projects/input.fastq`, the path will be translated to `/home/myuser/projects/input.fastq` during remote execution.\n",
    "\n",
    "In more complicated cases where there are different directories, more than one mapping can be specified. For example, if you have directories under different volumes, you can map them differently using\n",
    "\n",
    "```bash\n",
    "% sos config --global --set hosts.monster.path_map \\\n",
    "    /Users/myuser/projects/:/home/myuser/scratch/projects/  \\\n",
    "    /Volumes/Resource:/home/myuser/resource \\\n",
    "    /Users/myuser:/home/myuser\n",
    "```\n",
    "\n",
    "This command will write the following entries to the configuration file\n",
    "\n",
    "```\n",
    "$ cat ~/.sos/config.yml\n",
    "hosts:\n",
    "  monster:\n",
    "    address: dcdrlue8ee.yourdomain.com\n",
    "    path_map:\n",
    "    - /Users/myuser/projects/:/home/myuser/scratch/projects/\n",
    "    - /Volumes/Resource:/home/myuser/resource\n",
    "    - /Users/myuser:/home/myuser\n",
    "```\n",
    "\n",
    "and will map your local direcrories as follows\n",
    "\n",
    "```\n",
    "~/projects/data ==> /home/myuser/scratch/projects/data\n",
    "/Volumes/Resources/hg19.fasta ==> /home/myuser/resource/hg19.fasta\n",
    "~/myscript ==> /home/myuser/myscript.py\n",
    "```\n",
    "\n",
    "Note that\n",
    "\n",
    "1. Both source and destination paths should be absolute (starts with `/` for Linux-like systems).\n",
    "2. SoS expands local directories to absolute path before applying `path_map`.\n",
    "3. SoS applies path maps at the order in which they are specified, so you should specify general mappings after more specific ones. For example, if you specify `/Users/myuser:/home/myuser` before `/Users/myuser/projects/:/home/myuser/scratch/projects/`, path `/Users/myuser/projects/input.txt` would be mapped to `/home/myuser/projects/input`, not to the intended directory `/home/myuser/scratch/projects/input`.\n"
   ]
  },
  {
   "cell_type": "markdown",
   "metadata": {
    "kernel": "sos",
    "output_cache": "[]"
   },
   "source": [
    "### Configure `shared`"
   ]
  },
  {
   "cell_type": "markdown",
   "metadata": {
    "output_cache": "[]"
   },
   "source": [
    "Option `shared` tells SoS which file systems are shared between local and remote hosts so that it does not have to synchronize files under these directories between the hosts.\n",
    "\n",
    "* SoS assumes independent file systems so you do not have to specify option `shared` if the local and remote hosts does not share any file system.\n",
    " \n",
    "* If your local and remote host share all file systems, you should use command\n",
    "\n",
    "  ```bash\n",
    "  % sos config --global --set hosts.monster.shared /\n",
    "  ```\n",
    "  to indicate that the root directory is shared so no cross-network copy is needed.\n",
    "  \n",
    "* If your local and remote host share one or more shared volumes, you can specify them with command\n",
    "\n",
    "  ```bash\n",
    "  % sos config --global --set hosts.monster.shared /projects /data\n",
    "  ```\n",
    "  to indicate that files under these directories are available on the remote host.\n",
    "\n",
    "Shared file systems do not have to be mounted at the same locations. For example, a local file system `/projects` might be available at the remote host under `/scratch/projects`. In this case, you should\n",
    "\n",
    "* Set `/projects` as `shared` so that files under `/projects` will not be copied.\n",
    "* Set `/projects:/scratch/projects` in `path_map` so that the path can be correctly translated between local and remote hosts.\n",
    "\n",
    "It is important to remember that **SoS does not copy files under shared directories**. If the local and remote host share a file system but you really would like to copy files to a differenet directory, you can ignore the `shared` option and let SoS copy files as if they are separate file systems."
   ]
  },
  {
   "cell_type": "markdown",
   "metadata": {
    "output_cache": "[]"
   },
   "source": [
    "## Options `on_host`, `to_host` and `from_host`"
   ]
  },
  {
   "cell_type": "markdown",
   "metadata": {},
   "source": [
    "Now that you have your machine configured, you should try to copy some files and see if they work correctly. File copy is specified with options `to_host` and `from_host`. You can test these options using simple SoS steps such as (replace filenames with files you have, of course),"
   ]
  },
  {
   "cell_type": "markdown",
   "metadata": {
    "output_cache": "[]"
   },
   "source": [
    "```\n",
    "[1]\n",
    "task: \n",
    "    on_host: 'monster',\n",
    "    to_host: ['~/projects/data/test1', '/Volumes/Resources/hg19.fasta'],\n",
    "    from_host: '~/projects/data/test1.res'\n",
    "run:\n",
    "    echo \"Hello, World\"\n",
    "```"
   ]
  },
  {
   "cell_type": "markdown",
   "metadata": {
    "output_cache": "[]"
   },
   "source": [
    "Note that:\n",
    "\n",
    "1. Option `on_host` specifies the host to connect, and allows SoS to retrieve `path_map` from configuration file.\n",
    "2. Option `to_host` specifies local files or directories that will be copied to the remote host (using `rsync`, if files are not on a shared file system).\n",
    "3. Option `from_host` specifies **local files** that need to be copied from the remote host. SoS will use `path_map` to determine paths of the corresponding remote files to be copied."
   ]
  },
  {
   "cell_type": "markdown",
   "metadata": {
    "output_cache": "[]"
   },
   "source": [
    "## Translate your task to be executed on remote host (`task` option `map_vars`)"
   ]
  },
  {
   "cell_type": "markdown",
   "metadata": {},
   "source": [
    "### Variable translation"
   ]
  },
  {
   "cell_type": "markdown",
   "metadata": {},
   "source": [
    "Each task has an *context* that contains variables that will be used to, for example, compose scripts to be executed. Even if the task will be executed remotely, you should write your task using local paths. For example, you might have a script that generates a `STAR` index from a fasta file. You can have all these files available locally and write the task as:\n",
    "\n",
    "```\n",
    "depends:      hg19_fasta\n",
    "run:\n",
    "    STAR \\\n",
    "\t\t--runThreadN 8 \\\n",
    "\t\t--runMode genomeGenerate \\\n",
    "\t\t--genomeDir ${hg19_star_index} \\\n",
    "\t\t--genomeFastaFiles ${hg19_fasta} \\\n",
    "\t\t--sjdbGTFfile ${hg19_genes_gtf} \\\n",
    "\t\t--sjdbOverhang 100\n",
    "```\n",
    "\n",
    "**SoS will by default translate all variables (of type string and list of strings) as if they are local paths**. In this case, because `hg19_star_index`, `hg19_fasta` and `hg19_genes_gtf` are all local paths, they will be translated to remote paths during remote execution. Variables that are translated can be view with option `-v3` (debug output)."
   ]
  },
  {
   "cell_type": "markdown",
   "metadata": {
    "output_cache": "[]"
   },
   "source": [
    "### Option `preserved_vars`"
   ]
  },
  {
   "cell_type": "markdown",
   "metadata": {
    "output_cache": "[]"
   },
   "source": [
    "Automatic variable translation is convenient but SoS can make mistakes because it does not really know which variables contains path names that need to be converted. For example, if you do not have `hg19_fasta` locally and would like to use `hg19_fasta` that is available on the remote host, you can add this variable to option `preserved_vars` so that its value will be preserved during context switch:\n",
    "\n",
    "```sos\n",
    "task:     on_host='monster', preserved_vars='hg19_fasta'\n",
    "run:\n",
    "    STAR \\\n",
    "\t\t--runThreadN 8 \\\n",
    "\t\t--runMode genomeGenerate \\\n",
    "\t\t--genomeDir ${hg19_star_index} \\\n",
    "\t\t--genomeFastaFiles ${hg19_fasta} \\\n",
    "\t\t--sjdbGTFfile ${hg19_genes_gtf} \\\n",
    "\t\t--sjdbOverhang 100\n",
    "```\n",
    "\n",
    "Note that \n",
    "\n",
    "1. The default value of `map_vars` is `True`, which translates all variables.\n",
    "2. Variables such as `_input`, `input`, `_output` are automatically translated so you only need to specify non-system variables.\n",
    "2. You can hard-code paths in remote host to bypass the variable mapping, but that will make your script host-dependent. It is recommended that you **write your script in local paths** and let SoS do the conversion so that you do not have to change the script itself if you are switching to another host with differnt `path_map`."
   ]
  },
  {
   "cell_type": "markdown",
   "metadata": {
    "output_cache": "[]"
   },
   "source": [
    "## Running task remotely"
   ]
  },
  {
   "cell_type": "markdown",
   "metadata": {
    "output_cache": "[]"
   },
   "source": [
    "With all the pieces putting together, you can now execute the task on the remote host using `task` options\n",
    "\n",
    "```sos\n",
    "depends:  hg19_fasta\n",
    "task:     on_host='monster',\n",
    "          to_host=[hg19_fasta, hg19_genes_gtf], from_host=hg19_star_index\n",
    "run:\n",
    "    STAR \\\n",
    "\t\t--runThreadN 8 \\\n",
    "\t\t--runMode genomeGenerate \\\n",
    "\t\t--genomeDir ${hg19_star_index} \\\n",
    "\t\t--genomeFastaFiles ${hg19_fasta} \\\n",
    "\t\t--sjdbGTFfile ${hg19_genes_gtf} \\\n",
    "\t\t--sjdbOverhang 100\n",
    "```\n",
    "\n",
    "Here the default `map_vars=True` is used so all variables are translated."
   ]
  },
  {
   "cell_type": "markdown",
   "metadata": {
    "output_cache": "[]"
   },
   "source": [
    "## Advanced usages"
   ]
  },
  {
   "cell_type": "markdown",
   "metadata": {
    "output_cache": "[]"
   },
   "source": [
    "### `path_map` option\n",
    "\n",
    "You can specify `path_map` as a `task` option. This allows you to write everything in the script clearly and you do not have to use any configuration file. For example,\n",
    "\n",
    "```sos\n",
    "task:     on_host='dcdrlue8ee.yourdomain.com', path_map='/Users/myuser:/home/myuser',\n",
    "          other_options...\n",
    "```\n",
    "\n",
    "`path_map` specified in script will override these in `config.yml` if available."
   ]
  },
  {
   "cell_type": "markdown",
   "metadata": {
    "output_cache": "[]"
   },
   "source": [
    "### `send_cmd`, `received_cmd`, `execute_cmd`"
   ]
  },
  {
   "cell_type": "markdown",
   "metadata": {
    "output_cache": "[]"
   },
   "source": [
    "SoS uses `rsync` command to exchange files between hosts, and use `ssh` to execute command. If the default commands do not work for your configuration (e.g. if you do not have `rsync` and need to use `scp`, you can \n",
    "\n",
    "1. Use option `-v3` to display the exact command used to transfer files and execute commands.\n",
    "\n",
    "2. Define options `send_cmd`, `received_cmd` and `execute_cmd` for your particular configuration. These variables should be defined with `${source}` and `${dest}` which will be replaced by source and destination filenames for each file.\n",
    "\n"
   ]
  }
 ],
 "metadata": {
  "kernelspec": {
   "display_name": "SoS",
   "language": "sos",
   "name": "sos"
  },
  "language_info": {
   "codemirror_mode": "sos",
   "file_extension": ".sos",
   "mimetype": "text/x-sos",
   "name": "sos",
   "nbconvert_exporter": "sos.jupyter.converter.SoS_Exporter",
   "pygments_lexer": "sos"
  },
  "sos": {
   "celltoolbar": true,
   "kernels": [
    [
     "sos",
     "SoS",
     ""
    ],
    [
     "python2",
     "Python2",
     "#F6FAEA"
    ],
    [
     "python3",
     "Python3",
     "#EAFAF1"
    ],
    [
     "ir",
     "R",
     "#FDEDEC"
    ],
    [
     "bash",
     "Bash",
     "#E6EEFF"
    ]
   ],
   "panel": {
    "displayed": true,
    "height": 0,
    "style": "side"
   }
  }
 },
 "nbformat": 4,
 "nbformat_minor": 2
}
